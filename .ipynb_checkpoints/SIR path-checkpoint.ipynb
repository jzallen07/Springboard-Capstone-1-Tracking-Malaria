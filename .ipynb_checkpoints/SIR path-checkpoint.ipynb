{
 "cells": [
  {
   "cell_type": "code",
   "execution_count": 403,
   "metadata": {
    "collapsed": true
   },
   "outputs": [],
   "source": [
    "#Import Packages\n",
    "import pandas as pd\n",
    "import numpy as np\n",
    "import matplotlib.pyplot as plt\n",
    "import seaborn as sns\n",
    "import scipy.stats as stats\n",
    "from functools import reduce \n",
    "%matplotlib inline"
   ]
  },
  {
   "cell_type": "code",
   "execution_count": 404,
   "metadata": {
    "collapsed": true
   },
   "outputs": [],
   "source": [
    "# Import Relevant CSV Files\n",
    "pop = pd.read_csv('data/population/population_total.csv')\n",
    "cases = pd.read_csv('data/Originals/reported_indigenous_confirmed_cases.csv')\n",
    "estimated_cases = pd.read_csv('data/Originals/estimate_cases.csv')\n",
    "m_deaths = pd.read_csv('data/Originals/reported_deaths.csv')\n",
    "resistance = pd.read_csv('data/Originals/insecticide_resistance.csv')\n",
    "net_dist = pd.read_csv('data/Originals/amf_distributions.csv') \n",
    "temp = pd.read_csv('data/temperature/temp.csv')\n",
    "rain = pd.read_csv('data/rain/rain.csv')\n",
    "elevation = pd.read_csv('data/elevation/average_elevation.csv')\n",
    "inci = pd.read_csv('data/incidence/incidence.csv')"
   ]
  },
  {
   "cell_type": "markdown",
   "metadata": {},
   "source": [
    "Reported Cases of Diagnosed Malaria"
   ]
  },
  {
   "cell_type": "code",
   "execution_count": 405,
   "metadata": {},
   "outputs": [
    {
     "data": {
      "text/plain": [
       "Index(['GHO (CODE)', 'GHO (DISPLAY)', 'GHO (URL)', 'PUBLISHSTATE (CODE)',\n",
       "       'PUBLISHSTATE (DISPLAY)', 'PUBLISHSTATE (URL)', 'YEAR (CODE)',\n",
       "       'YEAR (DISPLAY)', 'YEAR (URL)', 'REGION (CODE)', 'REGION (DISPLAY)',\n",
       "       'REGION (URL)', 'COUNTRY (CODE)', 'COUNTRY (DISPLAY)', 'COUNTRY (URL)',\n",
       "       'Display Value', 'Numeric', 'Low', 'High', 'Comments'],\n",
       "      dtype='object')"
      ]
     },
     "execution_count": 405,
     "metadata": {},
     "output_type": "execute_result"
    }
   ],
   "source": [
    "cases.columns"
   ]
  },
  {
   "cell_type": "code",
   "execution_count": 406,
   "metadata": {
    "scrolled": true
   },
   "outputs": [
    {
     "name": "stdout",
     "output_type": "stream",
     "text": [
      "Years from:  2000 - 2014\n",
      "year              False\n",
      "country_code      False\n",
      "reported_cases    False\n",
      "dtype: bool\n",
      "   year country_code  reported_cases\n",
      "0  2001          EGY             0.0\n",
      "1  2003          EGY             0.0\n",
      "2  2013          IRQ             0.0\n",
      "3  2004          OMN             0.0\n",
      "4  2012          SYR             0.0\n",
      "<class 'pandas.core.frame.DataFrame'>\n",
      "RangeIndex: 1392 entries, 0 to 1391\n",
      "Data columns (total 3 columns):\n",
      "year              1392 non-null int64\n",
      "country_code      1392 non-null object\n",
      "reported_cases    1392 non-null float64\n",
      "dtypes: float64(1), int64(1), object(1)\n",
      "memory usage: 32.7+ KB\n",
      "None\n"
     ]
    }
   ],
   "source": [
    "cases = cases.rename(columns={'YEAR (CODE)':'year',\n",
    "                    'REGION (CODE)':'region',\n",
    "                    'COUNTRY (CODE)':'country_code',\n",
    "                    'REGION (CODE)' : 'region',\n",
    "                     'COUNTRY (DISPLAY)' : 'country_name',         \n",
    "                    'Numeric':'reported_cases'})\n",
    "\n",
    "cases = cases[['year', 'country_code','reported_cases']]\n",
    "\n",
    "print('Years from:', '', cases['year'].min(), '-', cases['year'].max())\n",
    "print(cases.isnull().any())\n",
    "print(cases.head())\n",
    "print(cases.info())"
   ]
  },
  {
   "cell_type": "code",
   "execution_count": 407,
   "metadata": {},
   "outputs": [
    {
     "data": {
      "text/plain": [
       "<matplotlib.axes._subplots.AxesSubplot at 0x27c89fa2c88>"
      ]
     },
     "execution_count": 407,
     "metadata": {},
     "output_type": "execute_result"
    },
    {
     "data": {
      "image/png": "[encoded data removed]",
      "text/plain": [
       "<matplotlib.figure.Figure at 0x27c8a705a58>"
      ]
     },
     "metadata": {},
     "output_type": "display_data"
    }
   ],
   "source": [
    "sns.lvplot(x='year', y='reported_cases', data=cases, scale=\"linear\", palette=\"mako\")"
   ]
  },
  {
   "cell_type": "markdown",
   "metadata": {},
   "source": [
    "Estimated number of cases"
   ]
  },
  {
   "cell_type": "code",
   "execution_count": 408,
   "metadata": {},
   "outputs": [
    {
     "data": {
      "text/plain": [
       "Index(['GHO (CODE)', 'GHO (DISPLAY)', 'GHO (URL)', 'PUBLISHSTATE (CODE)',\n",
       "       'PUBLISHSTATE (DISPLAY)', 'PUBLISHSTATE (URL)', 'YEAR (CODE)',\n",
       "       'YEAR (DISPLAY)', 'YEAR (URL)', 'REGION (CODE)', 'REGION (DISPLAY)',\n",
       "       'REGION (URL)', 'COUNTRY (CODE)', 'COUNTRY (DISPLAY)', 'COUNTRY (URL)',\n",
       "       'Display Value', 'Numeric', 'Low', 'High', 'Comments'],\n",
       "      dtype='object')"
      ]
     },
     "execution_count": 408,
     "metadata": {},
     "output_type": "execute_result"
    }
   ],
   "source": [
    "estimated_cases.columns"
   ]
  },
  {
   "cell_type": "code",
   "execution_count": 409,
   "metadata": {},
   "outputs": [
    {
     "name": "stdout",
     "output_type": "stream",
     "text": [
      "Years from:  2000 - 2013\n",
      "year            False\n",
      "country_code    False\n",
      "est_cases        True\n",
      "dtype: bool\n",
      "   year country_code  est_cases\n",
      "0  2013          CRI        2.0\n",
      "1  2013          SLV        7.0\n",
      "2  2013          TJK        8.0\n",
      "3  2013          DZA       25.0\n",
      "4  2013          BTN       25.0\n",
      "<class 'pandas.core.frame.DataFrame'>\n",
      "RangeIndex: 416 entries, 0 to 415\n",
      "Data columns (total 3 columns):\n",
      "year            416 non-null int64\n",
      "country_code    416 non-null object\n",
      "est_cases       404 non-null float64\n",
      "dtypes: float64(1), int64(1), object(1)\n",
      "memory usage: 9.8+ KB\n",
      "None\n"
     ]
    }
   ],
   "source": [
    "estimated_cases = estimated_cases.rename(columns={'YEAR (CODE)':'year',\n",
    "                    'REGION (CODE)':'region',\n",
    "                    'COUNTRY (CODE)':'country_code',\n",
    "                    'Numeric':'est_cases'})\n",
    "estimated_cases = estimated_cases[['year', 'country_code','est_cases']]\n",
    "\n",
    "print('Years from:', '', estimated_cases['year'].min(), '-', estimated_cases['year'].max())\n",
    "print(estimated_cases.isnull().any())\n",
    "print(estimated_cases.head())\n",
    "print(estimated_cases.info())"
   ]
  },
  {
   "cell_type": "code",
   "execution_count": 410,
   "metadata": {},
   "outputs": [
    {
     "data": {
      "text/plain": [
       "4"
      ]
     },
     "execution_count": 410,
     "metadata": {},
     "output_type": "execute_result"
    }
   ],
   "source": [
    "estimated_cases['year'].nunique()"
   ]
  },
  {
   "cell_type": "code",
   "execution_count": 411,
   "metadata": {},
   "outputs": [
    {
     "data": {
      "text/plain": [
       "<matplotlib.axes._subplots.AxesSubplot at 0x27c8ab4b8d0>"
      ]
     },
     "execution_count": 411,
     "metadata": {},
     "output_type": "execute_result"
    },
    {
     "data": {
      "image/png": "[encoded data removed]",
      "text/plain": [
       "<matplotlib.figure.Figure at 0x27c8a70bb38>"
      ]
     },
     "metadata": {},
     "output_type": "display_data"
    }
   ],
   "source": [
    "sns.barplot(x='year', y='est_cases', data=estimated_cases, palette=\"mako\")"
   ]
  },
  {
   "cell_type": "markdown",
   "metadata": {},
   "source": [
    "Mortality Data"
   ]
  },
  {
   "cell_type": "code",
   "execution_count": 412,
   "metadata": {},
   "outputs": [
    {
     "data": {
      "text/plain": [
       "Index(['GHO (CODE)', 'GHO (DISPLAY)', 'GHO (URL)', 'PUBLISHSTATE (CODE)',\n",
       "       'PUBLISHSTATE (DISPLAY)', 'PUBLISHSTATE (URL)', 'YEAR (CODE)',\n",
       "       'YEAR (DISPLAY)', 'YEAR (URL)', 'REGION (CODE)', 'REGION (DISPLAY)',\n",
       "       'REGION (URL)', 'COUNTRY (CODE)', 'COUNTRY (DISPLAY)', 'COUNTRY (URL)',\n",
       "       'Display Value', 'Numeric', 'Low', 'High', 'Comments'],\n",
       "      dtype='object')"
      ]
     },
     "execution_count": 412,
     "metadata": {},
     "output_type": "execute_result"
    }
   ],
   "source": [
    "m_deaths.columns"
   ]
  },
  {
   "cell_type": "code",
   "execution_count": 413,
   "metadata": {},
   "outputs": [
    {
     "name": "stdout",
     "output_type": "stream",
     "text": [
      "Years from:  2000 - 2014\n",
      "year               False\n",
      "country_code       False\n",
      "reported_deaths    False\n",
      "dtype: bool\n",
      "   year country_code  reported_deaths\n",
      "0  2008          DZA              0.0\n",
      "1  2012          DZA              0.0\n",
      "2  2014          DZA              0.0\n",
      "3  2001          CPV              0.0\n",
      "4  2013          CPV              0.0\n",
      "<class 'pandas.core.frame.DataFrame'>\n",
      "RangeIndex: 1408 entries, 0 to 1407\n",
      "Data columns (total 3 columns):\n",
      "year               1408 non-null int64\n",
      "country_code       1408 non-null object\n",
      "reported_deaths    1408 non-null float64\n",
      "dtypes: float64(1), int64(1), object(1)\n",
      "memory usage: 33.1+ KB\n",
      "None\n"
     ]
    }
   ],
   "source": [
    "m_deaths = m_deaths.rename(columns={'YEAR (CODE)':'year',\n",
    "                    'REGION (CODE)':'region',\n",
    "                    'COUNTRY (CODE)':'country_code',\n",
    "                    'Numeric':'reported_deaths'})\n",
    "m_deaths = m_deaths[['year', 'country_code','reported_deaths']]\n",
    "\n",
    "print('Years from:', '', m_deaths['year'].min(), '-', m_deaths['year'].max())\n",
    "print(m_deaths.isnull().any())\n",
    "print(m_deaths.head())\n",
    "print(m_deaths.info())"
   ]
  },
  {
   "cell_type": "code",
   "execution_count": 414,
   "metadata": {},
   "outputs": [
    {
     "data": {
      "text/plain": [
       "<matplotlib.axes._subplots.AxesSubplot at 0x27c8acbb7f0>"
      ]
     },
     "execution_count": 414,
     "metadata": {},
     "output_type": "execute_result"
    },
    {
     "data": {
      "image/png": "[encoded data removed]",
      "text/plain": [
       "<matplotlib.figure.Figure at 0x27c8ab29748>"
      ]
     },
     "metadata": {},
     "output_type": "display_data"
    }
   ],
   "source": [
    "sns.lvplot(x='year', y='reported_deaths', data=m_deaths, scale=\"linear\", palette=\"mako\")"
   ]
  },
  {
   "cell_type": "markdown",
   "metadata": {},
   "source": [
    "Treatment Resistance Data"
   ]
  },
  {
   "cell_type": "code",
   "execution_count": 415,
   "metadata": {},
   "outputs": [
    {
     "data": {
      "text/plain": [
       "Index(['GHO (CODE)', 'GHO (DISPLAY)', 'GHO (URL)', 'PUBLISHSTATE (CODE)',\n",
       "       'PUBLISHSTATE (DISPLAY)', 'PUBLISHSTATE (URL)', 'YEAR (CODE)',\n",
       "       'YEAR (DISPLAY)', 'YEAR (URL)', 'REGION (CODE)', 'REGION (DISPLAY)',\n",
       "       'REGION (URL)', 'COUNTRY (CODE)', 'COUNTRY (DISPLAY)', 'COUNTRY (URL)',\n",
       "       'Display Value', 'Numeric', 'Low', 'High', 'Comments'],\n",
       "      dtype='object')"
      ]
     },
     "execution_count": 415,
     "metadata": {},
     "output_type": "execute_result"
    }
   ],
   "source": [
    "resistance.columns"
   ]
  },
  {
   "cell_type": "code",
   "execution_count": 416,
   "metadata": {},
   "outputs": [
    {
     "name": "stdout",
     "output_type": "stream",
     "text": [
      "Years from:  2000 - 2015\n",
      "year             False\n",
      "country_code     False\n",
      "tx_resistance    False\n",
      "dtype: bool\n",
      "   year country_code tx_resistance\n",
      "0  2012          BGD           Yes\n",
      "1  2012          BEN           Yes\n",
      "2  2011          GHA           Yes\n",
      "3  2009          KEN           Yes\n",
      "4  2009          TGO           Yes\n",
      "<class 'pandas.core.frame.DataFrame'>\n",
      "RangeIndex: 6180 entries, 0 to 6179\n",
      "Data columns (total 3 columns):\n",
      "year             6180 non-null int64\n",
      "country_code     6180 non-null object\n",
      "tx_resistance    6180 non-null object\n",
      "dtypes: int64(1), object(2)\n",
      "memory usage: 144.9+ KB\n",
      "None\n"
     ]
    }
   ],
   "source": [
    "resistance = resistance.rename(columns={'YEAR (CODE)':'year',\n",
    "                                         'REGION (CODE)':'region',\n",
    "                                          'COUNTRY (CODE)':'country_code',\n",
    "                                           'Display Value':'tx_resistance'})\n",
    "resistance = resistance[['year', 'country_code','tx_resistance']]\n",
    "\n",
    "print('Years from:', '', resistance['year'].min(), '-', resistance['year'].max())\n",
    "\n",
    "\n",
    "print(resistance.isnull().any())\n",
    "print(resistance.head())\n",
    "print(resistance.info())\n"
   ]
  },
  {
   "cell_type": "markdown",
   "metadata": {},
   "source": [
    "Insect Net Distribution Data"
   ]
  },
  {
   "cell_type": "code",
   "execution_count": 417,
   "metadata": {},
   "outputs": [
    {
     "data": {
      "text/plain": [
       "Index(['number_llins', 'location', 'country', 'when', 'by_whom',\n",
       "       'country_code'],\n",
       "      dtype='object')"
      ]
     },
     "execution_count": 417,
     "metadata": {},
     "output_type": "execute_result"
    }
   ],
   "source": [
    "net_dist.columns"
   ]
  },
  {
   "cell_type": "code",
   "execution_count": 418,
   "metadata": {
    "collapsed": true
   },
   "outputs": [],
   "source": [
    "net_dist = net_dist.rename(columns={'number_llins':'number_nets'})\n",
    "net_dist = net_dist[['when', 'number_nets', 'country_code']]\n",
    "\n",
    "\n",
    "# Parse out year and add year code column to the 'net_dist'        \n",
    "net_dist['year'] = '20'+net_dist['when'].str[-2:]\n",
    "net_year = pd.to_numeric(net_dist['year'], errors='coerce')\n",
    "net_dist['year'] = net_year\n"
   ]
  },
  {
   "cell_type": "code",
   "execution_count": 419,
   "metadata": {
    "collapsed": true
   },
   "outputs": [],
   "source": [
    "# no need to retain the original column\n",
    "net_dist = net_dist.drop(['when'], axis=1)\n"
   ]
  },
  {
   "cell_type": "code",
   "execution_count": 420,
   "metadata": {},
   "outputs": [
    {
     "name": "stdout",
     "output_type": "stream",
     "text": [
      "Years from:  2006 - 2019\n",
      "number_nets     False\n",
      "country_code     True\n",
      "year            False\n",
      "dtype: bool\n",
      "   number_nets country_code  year\n",
      "0         3000          KEN  2006\n",
      "1         3000          MWI  2006\n",
      "2         3000          NAM  2006\n",
      "3         2000          RWA  2006\n",
      "4         2000          UGA  2006\n",
      "<class 'pandas.core.frame.DataFrame'>\n",
      "RangeIndex: 167 entries, 0 to 166\n",
      "Data columns (total 3 columns):\n",
      "number_nets     167 non-null int64\n",
      "country_code    163 non-null object\n",
      "year            167 non-null int64\n",
      "dtypes: int64(2), object(1)\n",
      "memory usage: 4.0+ KB\n",
      "None\n"
     ]
    }
   ],
   "source": [
    "print('Years from:', '', net_dist['year'].min(), '-', net_dist['year'].max())\n",
    "\n",
    "print(net_dist.isnull().any())\n",
    "print(net_dist.head())\n",
    "print(net_dist.info())"
   ]
  },
  {
   "cell_type": "markdown",
   "metadata": {},
   "source": [
    "Of note at this point there are differences in the years with complete data i.e. The years for the 'net_dist' are from 2006-2019 and the years for 'resistance' cover 2000-2014, and the population data covers 1950-2050. Given this I will restrict analysis to the years 2000-2014. This will give the greatest density across the most fields. As for the dates yet to arrive, I will assume they are predictive and not error, either way they will not be used. Following this the correllations for the net use and resistance data will both have less power than those of the other factors, but I believe can still yeild some useful insights. "
   ]
  },
  {
   "cell_type": "markdown",
   "metadata": {},
   "source": [
    "## Population Data"
   ]
  },
  {
   "cell_type": "code",
   "execution_count": 421,
   "metadata": {
    "scrolled": true
   },
   "outputs": [
    {
     "data": {
      "text/plain": [
       "Index(['country_name', 'country_code', '2000', '2001', '2002', '2003', '2004',\n",
       "       '2005', '2006', '2007', '2008', '2009', '2010', '2011', '2012', '2013',\n",
       "       '2014'],\n",
       "      dtype='object')"
      ]
     },
     "execution_count": 421,
     "metadata": {},
     "output_type": "execute_result"
    }
   ],
   "source": [
    "# This population data was pulled from the world bank indicators API\n",
    "pop.columns"
   ]
  },
  {
   "cell_type": "code",
   "execution_count": 422,
   "metadata": {
    "collapsed": true
   },
   "outputs": [],
   "source": [
    "pop = pop.melt(id_vars=['country_name', 'country_code'], var_name='year', value_vars=['2000', '2001', '2002', '2003', '2004', '2005', '2006', '2007', '2008', '2009', '2010', '2011', '2012', '2013', '2014'], value_name='population')\n"
   ]
  },
  {
   "cell_type": "code",
   "execution_count": 423,
   "metadata": {
    "collapsed": true
   },
   "outputs": [],
   "source": [
    "pop['year'] = pd.to_numeric(pop['year'], errors='coerce', downcast='integer')\n",
    "\n"
   ]
  },
  {
   "cell_type": "code",
   "execution_count": 424,
   "metadata": {},
   "outputs": [
    {
     "name": "stdout",
     "output_type": "stream",
     "text": [
      "<class 'pandas.core.frame.DataFrame'>\n",
      "RangeIndex: 1605 entries, 0 to 1604\n",
      "Data columns (total 4 columns):\n",
      "country_name    1605 non-null object\n",
      "country_code    1605 non-null object\n",
      "year            1605 non-null int16\n",
      "population      1602 non-null float64\n",
      "dtypes: float64(1), int16(1), object(2)\n",
      "memory usage: 40.8+ KB\n",
      "None\n",
      "  country_name country_code  year    population\n",
      "0   Bangladesh          BGD  2000  1.315812e+08\n",
      "1      Bolivia          BOL  2000  8.339512e+06\n",
      "2        China          CHN  2000  1.262645e+09\n",
      "3     Honduras          HND  2000  6.524283e+06\n",
      "4        Haiti          HTI  2000  8.549200e+06\n",
      "country_name    False\n",
      "country_code    False\n",
      "year            False\n",
      "population       True\n",
      "dtype: bool\n"
     ]
    }
   ],
   "source": [
    "print(pop.info())\n",
    "print(pop.head())\n",
    "print(pop.isnull().any())\n"
   ]
  },
  {
   "cell_type": "code",
   "execution_count": 425,
   "metadata": {},
   "outputs": [
    {
     "data": {
      "text/html": [
       "<div>\n",
       "<style>\n",
       "    .dataframe thead tr:only-child th {\n",
       "        text-align: right;\n",
       "    }\n",
       "\n",
       "    .dataframe thead th {\n",
       "        text-align: left;\n",
       "    }\n",
       "\n",
       "    .dataframe tbody tr th {\n",
       "        vertical-align: top;\n",
       "    }\n",
       "</style>\n",
       "<table border=\"1\" class=\"dataframe\">\n",
       "  <thead>\n",
       "    <tr style=\"text-align: right;\">\n",
       "      <th></th>\n",
       "      <th>country_name</th>\n",
       "      <th>country_code</th>\n",
       "      <th>year</th>\n",
       "      <th>population</th>\n",
       "    </tr>\n",
       "  </thead>\n",
       "  <tbody>\n",
       "    <tr>\n",
       "      <th>1368</th>\n",
       "      <td>Eritrea</td>\n",
       "      <td>ERI</td>\n",
       "      <td>2012</td>\n",
       "      <td>NaN</td>\n",
       "    </tr>\n",
       "    <tr>\n",
       "      <th>1475</th>\n",
       "      <td>Eritrea</td>\n",
       "      <td>ERI</td>\n",
       "      <td>2013</td>\n",
       "      <td>NaN</td>\n",
       "    </tr>\n",
       "    <tr>\n",
       "      <th>1582</th>\n",
       "      <td>Eritrea</td>\n",
       "      <td>ERI</td>\n",
       "      <td>2014</td>\n",
       "      <td>NaN</td>\n",
       "    </tr>\n",
       "  </tbody>\n",
       "</table>\n",
       "</div>"
      ],
      "text/plain": [
       "     country_name country_code  year  population\n",
       "1368      Eritrea          ERI  2012         NaN\n",
       "1475      Eritrea          ERI  2013         NaN\n",
       "1582      Eritrea          ERI  2014         NaN"
      ]
     },
     "execution_count": 425,
     "metadata": {},
     "output_type": "execute_result"
    }
   ],
   "source": [
    "pop[pop.isnull().any(axis=1)]"
   ]
  },
  {
   "cell_type": "markdown",
   "metadata": {},
   "source": [
    "Given  that these are the only 3 values missing from this portion of the data it is unlikely that 3 years from a single country will throw off the correlation much. These values may be obtained from an alternate scource or extrapolated at a later time if necessary."
   ]
  },
  {
   "cell_type": "code",
   "execution_count": 426,
   "metadata": {
    "collapsed": true
   },
   "outputs": [],
   "source": [
    "pop = pop.drop('country_name', axis=1)\n"
   ]
  },
  {
   "cell_type": "markdown",
   "metadata": {
    "collapsed": true
   },
   "source": [
    "# Temperature Data"
   ]
  },
  {
   "cell_type": "code",
   "execution_count": 427,
   "metadata": {},
   "outputs": [
    {
     "data": {
      "text/plain": [
       "Index(['tas', '\\tYear', ' Month', ' Country'], dtype='object')"
      ]
     },
     "execution_count": 427,
     "metadata": {},
     "output_type": "execute_result"
    }
   ],
   "source": [
    "# This data was pulled from the world bank climate API\n",
    "\n",
    "temp.columns"
   ]
  },
  {
   "cell_type": "code",
   "execution_count": 428,
   "metadata": {},
   "outputs": [
    {
     "data": {
      "text/plain": [
       "Index(['temperature', 'year', 'month', 'country_code'], dtype='object')"
      ]
     },
     "execution_count": 428,
     "metadata": {},
     "output_type": "execute_result"
    }
   ],
   "source": [
    "# Altering column labels for preference, clarity, and ease of use\n",
    "temp = temp.rename(columns={'\\tYear' : 'year',\n",
    "                            ' Country' : 'country_code',\n",
    "                            'tas' : 'temperature',\n",
    "                            ' Month' : 'month'})\n",
    "# making a list for reference of the list of countries\n",
    "countries = list(temp.country_code.unique())\n",
    "countries = sorted(countries, key=str.lower)\n",
    "\n",
    "temp.columns"
   ]
  },
  {
   "cell_type": "code",
   "execution_count": 429,
   "metadata": {},
   "outputs": [
    {
     "data": {
      "text/html": [
       "<div>\n",
       "<style>\n",
       "    .dataframe thead tr:only-child th {\n",
       "        text-align: right;\n",
       "    }\n",
       "\n",
       "    .dataframe thead th {\n",
       "        text-align: left;\n",
       "    }\n",
       "\n",
       "    .dataframe tbody tr th {\n",
       "        vertical-align: top;\n",
       "    }\n",
       "</style>\n",
       "<table border=\"1\" class=\"dataframe\">\n",
       "  <thead>\n",
       "    <tr style=\"text-align: right;\">\n",
       "      <th></th>\n",
       "      <th>year</th>\n",
       "      <th>ABW</th>\n",
       "      <th>AGO</th>\n",
       "      <th>ALB</th>\n",
       "      <th>AND</th>\n",
       "      <th>ANT</th>\n",
       "      <th>ARE</th>\n",
       "      <th>ARG</th>\n",
       "      <th>ATG</th>\n",
       "      <th>AUS</th>\n",
       "      <th>...</th>\n",
       "      <th>TLS</th>\n",
       "      <th>TON</th>\n",
       "      <th>TUR</th>\n",
       "      <th>TUV</th>\n",
       "      <th>URY</th>\n",
       "      <th>VEN</th>\n",
       "      <th>VGB</th>\n",
       "      <th>WSM</th>\n",
       "      <th>XRK</th>\n",
       "      <th>ZAF</th>\n",
       "    </tr>\n",
       "  </thead>\n",
       "  <tbody>\n",
       "    <tr>\n",
       "      <th>0</th>\n",
       "      <td>1901</td>\n",
       "      <td>27.642242</td>\n",
       "      <td>21.455058</td>\n",
       "      <td>10.997927</td>\n",
       "      <td>10.786337</td>\n",
       "      <td>27.591533</td>\n",
       "      <td>27.060492</td>\n",
       "      <td>14.789754</td>\n",
       "      <td>25.221792</td>\n",
       "      <td>21.468767</td>\n",
       "      <td>...</td>\n",
       "      <td>25.331158</td>\n",
       "      <td>24.513042</td>\n",
       "      <td>11.259894</td>\n",
       "      <td>28.117592</td>\n",
       "      <td>16.805533</td>\n",
       "      <td>25.304417</td>\n",
       "      <td>25.121258</td>\n",
       "      <td>26.389900</td>\n",
       "      <td>8.306526</td>\n",
       "      <td>16.742045</td>\n",
       "    </tr>\n",
       "    <tr>\n",
       "      <th>1</th>\n",
       "      <td>1902</td>\n",
       "      <td>27.510883</td>\n",
       "      <td>21.455550</td>\n",
       "      <td>11.241467</td>\n",
       "      <td>10.662564</td>\n",
       "      <td>27.446775</td>\n",
       "      <td>26.546458</td>\n",
       "      <td>14.449022</td>\n",
       "      <td>25.012475</td>\n",
       "      <td>21.487850</td>\n",
       "      <td>...</td>\n",
       "      <td>25.327908</td>\n",
       "      <td>24.514725</td>\n",
       "      <td>10.639450</td>\n",
       "      <td>28.117592</td>\n",
       "      <td>17.042166</td>\n",
       "      <td>25.265658</td>\n",
       "      <td>24.819367</td>\n",
       "      <td>26.392217</td>\n",
       "      <td>8.333778</td>\n",
       "      <td>16.635380</td>\n",
       "    </tr>\n",
       "    <tr>\n",
       "      <th>2</th>\n",
       "      <td>1903</td>\n",
       "      <td>27.618575</td>\n",
       "      <td>21.599133</td>\n",
       "      <td>11.380389</td>\n",
       "      <td>10.395305</td>\n",
       "      <td>27.559650</td>\n",
       "      <td>25.929717</td>\n",
       "      <td>14.115068</td>\n",
       "      <td>25.188767</td>\n",
       "      <td>21.020500</td>\n",
       "      <td>...</td>\n",
       "      <td>25.487983</td>\n",
       "      <td>24.406133</td>\n",
       "      <td>10.261870</td>\n",
       "      <td>28.117592</td>\n",
       "      <td>16.851150</td>\n",
       "      <td>25.299042</td>\n",
       "      <td>25.065408</td>\n",
       "      <td>26.156533</td>\n",
       "      <td>8.825191</td>\n",
       "      <td>16.606524</td>\n",
       "    </tr>\n",
       "    <tr>\n",
       "      <th>3</th>\n",
       "      <td>1904</td>\n",
       "      <td>27.399308</td>\n",
       "      <td>21.426175</td>\n",
       "      <td>11.385637</td>\n",
       "      <td>10.682016</td>\n",
       "      <td>27.319133</td>\n",
       "      <td>26.162242</td>\n",
       "      <td>14.362343</td>\n",
       "      <td>24.802750</td>\n",
       "      <td>20.873142</td>\n",
       "      <td>...</td>\n",
       "      <td>25.159600</td>\n",
       "      <td>24.276542</td>\n",
       "      <td>10.257519</td>\n",
       "      <td>28.117592</td>\n",
       "      <td>16.619800</td>\n",
       "      <td>25.224125</td>\n",
       "      <td>24.542483</td>\n",
       "      <td>25.910533</td>\n",
       "      <td>8.705065</td>\n",
       "      <td>16.559092</td>\n",
       "    </tr>\n",
       "    <tr>\n",
       "      <th>4</th>\n",
       "      <td>1905</td>\n",
       "      <td>27.540717</td>\n",
       "      <td>21.490208</td>\n",
       "      <td>11.162694</td>\n",
       "      <td>10.333673</td>\n",
       "      <td>27.477108</td>\n",
       "      <td>26.166942</td>\n",
       "      <td>14.022728</td>\n",
       "      <td>25.044050</td>\n",
       "      <td>21.039092</td>\n",
       "      <td>...</td>\n",
       "      <td>25.539017</td>\n",
       "      <td>24.323758</td>\n",
       "      <td>10.504210</td>\n",
       "      <td>28.117592</td>\n",
       "      <td>16.440438</td>\n",
       "      <td>25.262492</td>\n",
       "      <td>24.859950</td>\n",
       "      <td>25.986725</td>\n",
       "      <td>8.536213</td>\n",
       "      <td>16.775360</td>\n",
       "    </tr>\n",
       "  </tbody>\n",
       "</table>\n",
       "<p>5 rows × 132 columns</p>\n",
       "</div>"
      ],
      "text/plain": [
       "   year        ABW        AGO        ALB        AND        ANT        ARE  \\\n",
       "0  1901  27.642242  21.455058  10.997927  10.786337  27.591533  27.060492   \n",
       "1  1902  27.510883  21.455550  11.241467  10.662564  27.446775  26.546458   \n",
       "2  1903  27.618575  21.599133  11.380389  10.395305  27.559650  25.929717   \n",
       "3  1904  27.399308  21.426175  11.385637  10.682016  27.319133  26.162242   \n",
       "4  1905  27.540717  21.490208  11.162694  10.333673  27.477108  26.166942   \n",
       "\n",
       "         ARG        ATG        AUS    ...            TLS        TON  \\\n",
       "0  14.789754  25.221792  21.468767    ...      25.331158  24.513042   \n",
       "1  14.449022  25.012475  21.487850    ...      25.327908  24.514725   \n",
       "2  14.115068  25.188767  21.020500    ...      25.487983  24.406133   \n",
       "3  14.362343  24.802750  20.873142    ...      25.159600  24.276542   \n",
       "4  14.022728  25.044050  21.039092    ...      25.539017  24.323758   \n",
       "\n",
       "         TUR        TUV        URY        VEN        VGB        WSM       XRK  \\\n",
       "0  11.259894  28.117592  16.805533  25.304417  25.121258  26.389900  8.306526   \n",
       "1  10.639450  28.117592  17.042166  25.265658  24.819367  26.392217  8.333778   \n",
       "2  10.261870  28.117592  16.851150  25.299042  25.065408  26.156533  8.825191   \n",
       "3  10.257519  28.117592  16.619800  25.224125  24.542483  25.910533  8.705065   \n",
       "4  10.504210  28.117592  16.440438  25.262492  24.859950  25.986725  8.536213   \n",
       "\n",
       "         ZAF  \n",
       "0  16.742045  \n",
       "1  16.635380  \n",
       "2  16.606524  \n",
       "3  16.559092  \n",
       "4  16.775360  \n",
       "\n",
       "[5 rows x 132 columns]"
      ]
     },
     "execution_count": 429,
     "metadata": {},
     "output_type": "execute_result"
    }
   ],
   "source": [
    "# Pivoting the df and taking the average of each year for each country\n",
    "temp = temp.pivot_table(index=['country_code', 'year'], values=['temperature'])\n",
    "temp = temp.pivot_table(index=['year'], columns='country_code', aggfunc='mean')\n",
    "\n",
    "# Returning the df to a flate file with proper column labels\n",
    "temp.columns = temp.columns.droplevel(1)\n",
    "temp.columns = countries\n",
    "temp = temp.reset_index()\n",
    "temp.head()\n"
   ]
  },
  {
   "cell_type": "code",
   "execution_count": 430,
   "metadata": {},
   "outputs": [
    {
     "name": "stdout",
     "output_type": "stream",
     "text": [
      "   year country_code  temperature\n",
      "0  1901          ABW    27.642242\n",
      "1  1902          ABW    27.510883\n",
      "2  1903          ABW    27.618575\n",
      "3  1904          ABW    27.399308\n",
      "4  1905          ABW    27.540717\n",
      "year            False\n",
      "country_code    False\n",
      "temperature     False\n",
      "dtype: bool\n"
     ]
    }
   ],
   "source": [
    "# Melting the df into a format consistent for merging\n",
    "temp = pd.melt(temp, id_vars='year', var_name='country_code', value_vars=countries, value_name='temperature')\n",
    "\n",
    "print(temp.head())\n",
    "print(temp.isnull().any())"
   ]
  },
  {
   "cell_type": "markdown",
   "metadata": {},
   "source": [
    "Given that we have 12 monthly values per country per year, for the purposes of this project we will be using the average for the entire year as a representative value for each country in each year. "
   ]
  },
  {
   "cell_type": "markdown",
   "metadata": {},
   "source": [
    "# Rainfall"
   ]
  },
  {
   "cell_type": "code",
   "execution_count": 431,
   "metadata": {},
   "outputs": [
    {
     "data": {
      "text/plain": [
       "Index(['\\tYear', ' Country', ' Month', 'pr'], dtype='object')"
      ]
     },
     "execution_count": 431,
     "metadata": {},
     "output_type": "execute_result"
    }
   ],
   "source": [
    "rain.columns"
   ]
  },
  {
   "cell_type": "code",
   "execution_count": 432,
   "metadata": {},
   "outputs": [
    {
     "data": {
      "text/plain": [
       "Index(['year', 'country_code', 'month', 'rainfall'], dtype='object')"
      ]
     },
     "execution_count": 432,
     "metadata": {},
     "output_type": "execute_result"
    }
   ],
   "source": [
    "# Altering column labels for preference, clarity, and ease of use\n",
    "rain = rain.rename(columns={'\\tYear' : 'year',\n",
    "                            ' Country' : 'country_code',\n",
    "                            'pr' : 'rainfall',\n",
    "                            ' Month' : 'month'})\n",
    "rain.columns"
   ]
  },
  {
   "cell_type": "code",
   "execution_count": 433,
   "metadata": {},
   "outputs": [
    {
     "data": {
      "text/html": [
       "<div>\n",
       "<style>\n",
       "    .dataframe thead tr:only-child th {\n",
       "        text-align: right;\n",
       "    }\n",
       "\n",
       "    .dataframe thead th {\n",
       "        text-align: left;\n",
       "    }\n",
       "\n",
       "    .dataframe tbody tr th {\n",
       "        vertical-align: top;\n",
       "    }\n",
       "</style>\n",
       "<table border=\"1\" class=\"dataframe\">\n",
       "  <thead>\n",
       "    <tr style=\"text-align: right;\">\n",
       "      <th></th>\n",
       "      <th>year</th>\n",
       "      <th>country_code</th>\n",
       "      <th>month</th>\n",
       "      <th>rainfall</th>\n",
       "    </tr>\n",
       "  </thead>\n",
       "  <tbody>\n",
       "    <tr>\n",
       "      <th>0</th>\n",
       "      <td>1901</td>\n",
       "      <td>HUN</td>\n",
       "      <td>1</td>\n",
       "      <td>33.2111</td>\n",
       "    </tr>\n",
       "    <tr>\n",
       "      <th>1</th>\n",
       "      <td>1901</td>\n",
       "      <td>HUN</td>\n",
       "      <td>2</td>\n",
       "      <td>23.1772</td>\n",
       "    </tr>\n",
       "    <tr>\n",
       "      <th>2</th>\n",
       "      <td>1901</td>\n",
       "      <td>HUN</td>\n",
       "      <td>3</td>\n",
       "      <td>56.7961</td>\n",
       "    </tr>\n",
       "    <tr>\n",
       "      <th>3</th>\n",
       "      <td>1901</td>\n",
       "      <td>HUN</td>\n",
       "      <td>4</td>\n",
       "      <td>44.8803</td>\n",
       "    </tr>\n",
       "    <tr>\n",
       "      <th>4</th>\n",
       "      <td>1901</td>\n",
       "      <td>HUN</td>\n",
       "      <td>5</td>\n",
       "      <td>38.4405</td>\n",
       "    </tr>\n",
       "  </tbody>\n",
       "</table>\n",
       "</div>"
      ],
      "text/plain": [
       "   year country_code  month  rainfall\n",
       "0  1901          HUN      1   33.2111\n",
       "1  1901          HUN      2   23.1772\n",
       "2  1901          HUN      3   56.7961\n",
       "3  1901          HUN      4   44.8803\n",
       "4  1901          HUN      5   38.4405"
      ]
     },
     "execution_count": 433,
     "metadata": {},
     "output_type": "execute_result"
    }
   ],
   "source": [
    "rain.head()"
   ]
  },
  {
   "cell_type": "code",
   "execution_count": 434,
   "metadata": {
    "collapsed": true
   },
   "outputs": [],
   "source": [
    "# making a list for reference of the list of countries\n",
    "countries_rain = list(rain.country_code.unique())\n",
    "countries_rain = sorted(countries_rain, key=str.lower)\n"
   ]
  },
  {
   "cell_type": "code",
   "execution_count": 435,
   "metadata": {},
   "outputs": [
    {
     "data": {
      "text/html": [
       "<div>\n",
       "<style>\n",
       "    .dataframe thead tr:only-child th {\n",
       "        text-align: right;\n",
       "    }\n",
       "\n",
       "    .dataframe thead th {\n",
       "        text-align: left;\n",
       "    }\n",
       "\n",
       "    .dataframe tbody tr th {\n",
       "        vertical-align: top;\n",
       "    }\n",
       "</style>\n",
       "<table border=\"1\" class=\"dataframe\">\n",
       "  <thead>\n",
       "    <tr style=\"text-align: right;\">\n",
       "      <th></th>\n",
       "      <th>year</th>\n",
       "      <th>ABW</th>\n",
       "      <th>AFG</th>\n",
       "      <th>AGO</th>\n",
       "      <th>AIA</th>\n",
       "      <th>ALB</th>\n",
       "      <th>AND</th>\n",
       "      <th>ANT</th>\n",
       "      <th>ARE</th>\n",
       "      <th>ARG</th>\n",
       "      <th>...</th>\n",
       "      <th>UGA</th>\n",
       "      <th>UKR</th>\n",
       "      <th>URY</th>\n",
       "      <th>VEN</th>\n",
       "      <th>VGB</th>\n",
       "      <th>WLF</th>\n",
       "      <th>XRK</th>\n",
       "      <th>ZAF</th>\n",
       "      <th>ZAR</th>\n",
       "      <th>ZMB</th>\n",
       "    </tr>\n",
       "  </thead>\n",
       "  <tbody>\n",
       "    <tr>\n",
       "      <th>0</th>\n",
       "      <td>1901</td>\n",
       "      <td>66.212208</td>\n",
       "      <td>22.003305</td>\n",
       "      <td>78.829634</td>\n",
       "      <td>165.699658</td>\n",
       "      <td>109.532408</td>\n",
       "      <td>72.438942</td>\n",
       "      <td>57.992458</td>\n",
       "      <td>6.088290</td>\n",
       "      <td>34.306833</td>\n",
       "      <td>...</td>\n",
       "      <td>79.557275</td>\n",
       "      <td>44.055075</td>\n",
       "      <td>74.235625</td>\n",
       "      <td>159.076375</td>\n",
       "      <td>235.662742</td>\n",
       "      <td>246.685917</td>\n",
       "      <td>88.051583</td>\n",
       "      <td>48.265558</td>\n",
       "      <td>124.895383</td>\n",
       "      <td>81.119453</td>\n",
       "    </tr>\n",
       "    <tr>\n",
       "      <th>1</th>\n",
       "      <td>1902</td>\n",
       "      <td>63.277825</td>\n",
       "      <td>19.309642</td>\n",
       "      <td>80.638373</td>\n",
       "      <td>145.714400</td>\n",
       "      <td>91.475967</td>\n",
       "      <td>64.681767</td>\n",
       "      <td>53.068872</td>\n",
       "      <td>2.941165</td>\n",
       "      <td>40.299917</td>\n",
       "      <td>...</td>\n",
       "      <td>107.483142</td>\n",
       "      <td>44.113995</td>\n",
       "      <td>89.882358</td>\n",
       "      <td>156.658808</td>\n",
       "      <td>196.272708</td>\n",
       "      <td>243.730583</td>\n",
       "      <td>68.853592</td>\n",
       "      <td>34.905365</td>\n",
       "      <td>128.504792</td>\n",
       "      <td>85.028674</td>\n",
       "    </tr>\n",
       "    <tr>\n",
       "      <th>2</th>\n",
       "      <td>1903</td>\n",
       "      <td>66.125392</td>\n",
       "      <td>28.250687</td>\n",
       "      <td>86.407364</td>\n",
       "      <td>136.778750</td>\n",
       "      <td>77.561858</td>\n",
       "      <td>58.670862</td>\n",
       "      <td>57.062367</td>\n",
       "      <td>4.714039</td>\n",
       "      <td>44.477725</td>\n",
       "      <td>...</td>\n",
       "      <td>110.209158</td>\n",
       "      <td>41.334672</td>\n",
       "      <td>99.643742</td>\n",
       "      <td>161.321958</td>\n",
       "      <td>176.185117</td>\n",
       "      <td>253.022083</td>\n",
       "      <td>62.789842</td>\n",
       "      <td>28.310880</td>\n",
       "      <td>131.223900</td>\n",
       "      <td>74.106387</td>\n",
       "    </tr>\n",
       "    <tr>\n",
       "      <th>3</th>\n",
       "      <td>1904</td>\n",
       "      <td>76.067375</td>\n",
       "      <td>24.889266</td>\n",
       "      <td>73.780345</td>\n",
       "      <td>142.704067</td>\n",
       "      <td>83.001250</td>\n",
       "      <td>47.820001</td>\n",
       "      <td>68.335317</td>\n",
       "      <td>4.125526</td>\n",
       "      <td>45.638217</td>\n",
       "      <td>...</td>\n",
       "      <td>99.307917</td>\n",
       "      <td>35.507442</td>\n",
       "      <td>95.443992</td>\n",
       "      <td>167.353417</td>\n",
       "      <td>189.685750</td>\n",
       "      <td>253.791083</td>\n",
       "      <td>64.266567</td>\n",
       "      <td>35.808872</td>\n",
       "      <td>126.369942</td>\n",
       "      <td>83.024439</td>\n",
       "    </tr>\n",
       "    <tr>\n",
       "      <th>4</th>\n",
       "      <td>1905</td>\n",
       "      <td>68.831567</td>\n",
       "      <td>23.841139</td>\n",
       "      <td>75.149998</td>\n",
       "      <td>148.186992</td>\n",
       "      <td>77.295800</td>\n",
       "      <td>68.907067</td>\n",
       "      <td>59.624433</td>\n",
       "      <td>8.215321</td>\n",
       "      <td>42.698383</td>\n",
       "      <td>...</td>\n",
       "      <td>100.751333</td>\n",
       "      <td>47.263400</td>\n",
       "      <td>86.885450</td>\n",
       "      <td>161.105917</td>\n",
       "      <td>203.374967</td>\n",
       "      <td>239.886667</td>\n",
       "      <td>69.618625</td>\n",
       "      <td>35.985650</td>\n",
       "      <td>126.628408</td>\n",
       "      <td>74.191419</td>\n",
       "    </tr>\n",
       "  </tbody>\n",
       "</table>\n",
       "<p>5 rows × 174 columns</p>\n",
       "</div>"
      ],
      "text/plain": [
       "   year        ABW        AFG        AGO         AIA         ALB        AND  \\\n",
       "0  1901  66.212208  22.003305  78.829634  165.699658  109.532408  72.438942   \n",
       "1  1902  63.277825  19.309642  80.638373  145.714400   91.475967  64.681767   \n",
       "2  1903  66.125392  28.250687  86.407364  136.778750   77.561858  58.670862   \n",
       "3  1904  76.067375  24.889266  73.780345  142.704067   83.001250  47.820001   \n",
       "4  1905  68.831567  23.841139  75.149998  148.186992   77.295800  68.907067   \n",
       "\n",
       "         ANT       ARE        ARG    ...             UGA        UKR  \\\n",
       "0  57.992458  6.088290  34.306833    ...       79.557275  44.055075   \n",
       "1  53.068872  2.941165  40.299917    ...      107.483142  44.113995   \n",
       "2  57.062367  4.714039  44.477725    ...      110.209158  41.334672   \n",
       "3  68.335317  4.125526  45.638217    ...       99.307917  35.507442   \n",
       "4  59.624433  8.215321  42.698383    ...      100.751333  47.263400   \n",
       "\n",
       "         URY         VEN         VGB         WLF        XRK        ZAF  \\\n",
       "0  74.235625  159.076375  235.662742  246.685917  88.051583  48.265558   \n",
       "1  89.882358  156.658808  196.272708  243.730583  68.853592  34.905365   \n",
       "2  99.643742  161.321958  176.185117  253.022083  62.789842  28.310880   \n",
       "3  95.443992  167.353417  189.685750  253.791083  64.266567  35.808872   \n",
       "4  86.885450  161.105917  203.374967  239.886667  69.618625  35.985650   \n",
       "\n",
       "          ZAR        ZMB  \n",
       "0  124.895383  81.119453  \n",
       "1  128.504792  85.028674  \n",
       "2  131.223900  74.106387  \n",
       "3  126.369942  83.024439  \n",
       "4  126.628408  74.191419  \n",
       "\n",
       "[5 rows x 174 columns]"
      ]
     },
     "execution_count": 435,
     "metadata": {},
     "output_type": "execute_result"
    }
   ],
   "source": [
    "# Pivoting the df and taking the average of each year for each country\n",
    "rain = rain.pivot_table(index=['country_code', 'year'], values=['rainfall'])\n",
    "rain = rain.pivot_table(index=['year'], columns='country_code', aggfunc='mean')\n",
    "\n",
    "# Returning the df to a flate file with proper column labels\n",
    "rain.columns = rain.columns.droplevel(1)\n",
    "rain.columns = countries_rain\n",
    "rain = rain.reset_index()\n",
    "rain.head()"
   ]
  },
  {
   "cell_type": "code",
   "execution_count": 436,
   "metadata": {},
   "outputs": [
    {
     "name": "stdout",
     "output_type": "stream",
     "text": [
      "   year country_code   rainfall\n",
      "0  1901          ABW  66.212208\n",
      "1  1902          ABW  63.277825\n",
      "2  1903          ABW  66.125392\n",
      "3  1904          ABW  76.067375\n",
      "4  1905          ABW  68.831567\n",
      "year            False\n",
      "country_code    False\n",
      "rainfall        False\n",
      "dtype: bool\n"
     ]
    }
   ],
   "source": [
    "# Melting the df into a format consistent for merging\n",
    "rain = pd.melt(rain, id_vars='year', var_name='country_code', value_vars=countries_rain, value_name='rainfall')\n",
    "\n",
    "print(rain.head())\n",
    "print(rain.isnull().any())"
   ]
  },
  {
   "cell_type": "markdown",
   "metadata": {},
   "source": [
    "# Elevation"
   ]
  },
  {
   "cell_type": "code",
   "execution_count": 437,
   "metadata": {},
   "outputs": [
    {
     "data": {
      "text/html": [
       "<div>\n",
       "<style>\n",
       "    .dataframe thead tr:only-child th {\n",
       "        text-align: right;\n",
       "    }\n",
       "\n",
       "    .dataframe thead th {\n",
       "        text-align: left;\n",
       "    }\n",
       "\n",
       "    .dataframe tbody tr th {\n",
       "        vertical-align: top;\n",
       "    }\n",
       "</style>\n",
       "<table border=\"1\" class=\"dataframe\">\n",
       "  <thead>\n",
       "    <tr style=\"text-align: right;\">\n",
       "      <th></th>\n",
       "      <th>Country</th>\n",
       "      <th>Elevation</th>\n",
       "    </tr>\n",
       "  </thead>\n",
       "  <tbody>\n",
       "    <tr>\n",
       "      <th>0</th>\n",
       "      <td>Afghanistan</td>\n",
       "      <td>1,885 m (6,184 ft)</td>\n",
       "    </tr>\n",
       "    <tr>\n",
       "      <th>1</th>\n",
       "      <td>Albania</td>\n",
       "      <td>708 m (2,323 ft)</td>\n",
       "    </tr>\n",
       "    <tr>\n",
       "      <th>2</th>\n",
       "      <td>Algeria</td>\n",
       "      <td>800 m (2,625 ft)</td>\n",
       "    </tr>\n",
       "    <tr>\n",
       "      <th>3</th>\n",
       "      <td>Andorra</td>\n",
       "      <td>1,996 m (6,549 ft)</td>\n",
       "    </tr>\n",
       "    <tr>\n",
       "      <th>4</th>\n",
       "      <td>Angola</td>\n",
       "      <td>1,112 m (3,648 ft)</td>\n",
       "    </tr>\n",
       "  </tbody>\n",
       "</table>\n",
       "</div>"
      ],
      "text/plain": [
       "        Country           Elevation\n",
       "0   Afghanistan  1,885 m (6,184 ft)\n",
       "1       Albania    708 m (2,323 ft)\n",
       "2       Algeria    800 m (2,625 ft)\n",
       "3       Andorra  1,996 m (6,549 ft)\n",
       "4        Angola  1,112 m (3,648 ft)"
      ]
     },
     "execution_count": 437,
     "metadata": {},
     "output_type": "execute_result"
    }
   ],
   "source": [
    "elevation.head()"
   ]
  },
  {
   "cell_type": "code",
   "execution_count": 438,
   "metadata": {
    "collapsed": true
   },
   "outputs": [],
   "source": [
    "# extracting the average elevation in feet into a usable numeric form\n",
    "\n",
    "elevation['elevation_num'] = elevation['Elevation'].str[-9:-3]\n",
    "elevation['elevation_num'] = elevation['elevation_num'].str.replace(',', '')\n",
    "\n"
   ]
  },
  {
   "cell_type": "code",
   "execution_count": 439,
   "metadata": {
    "collapsed": true
   },
   "outputs": [],
   "source": [
    "elevation['elevation_num'] = pd.to_numeric(elevation['elevation_num'], errors='coerce')"
   ]
  },
  {
   "cell_type": "code",
   "execution_count": 440,
   "metadata": {},
   "outputs": [
    {
     "name": "stdout",
     "output_type": "stream",
     "text": [
      "<class 'pandas.core.frame.DataFrame'>\n",
      "RangeIndex: 166 entries, 0 to 165\n",
      "Data columns (total 3 columns):\n",
      "Country          166 non-null object\n",
      "Elevation        166 non-null object\n",
      "elevation_num    0 non-null float64\n",
      "dtypes: float64(1), object(2)\n",
      "memory usage: 4.0+ KB\n"
     ]
    }
   ],
   "source": [
    "elevation.info()"
   ]
  },
  {
   "cell_type": "markdown",
   "metadata": {},
   "source": [
    "## Incidence data"
   ]
  },
  {
   "cell_type": "code",
   "execution_count": 441,
   "metadata": {},
   "outputs": [
    {
     "data": {
      "text/plain": [
       "Index(['country_name', 'country_code', 'year', 'incidence'], dtype='object')"
      ]
     },
     "execution_count": 441,
     "metadata": {},
     "output_type": "execute_result"
    }
   ],
   "source": [
    "inci.columns"
   ]
  },
  {
   "cell_type": "code",
   "execution_count": 442,
   "metadata": {
    "scrolled": true
   },
   "outputs": [
    {
     "data": {
      "text/html": [
       "<div>\n",
       "<style>\n",
       "    .dataframe thead tr:only-child th {\n",
       "        text-align: right;\n",
       "    }\n",
       "\n",
       "    .dataframe thead th {\n",
       "        text-align: left;\n",
       "    }\n",
       "\n",
       "    .dataframe tbody tr th {\n",
       "        vertical-align: top;\n",
       "    }\n",
       "</style>\n",
       "<table border=\"1\" class=\"dataframe\">\n",
       "  <thead>\n",
       "    <tr style=\"text-align: right;\">\n",
       "      <th></th>\n",
       "      <th>country_name</th>\n",
       "      <th>country_code</th>\n",
       "      <th>year</th>\n",
       "      <th>incidence</th>\n",
       "    </tr>\n",
       "  </thead>\n",
       "  <tbody>\n",
       "    <tr>\n",
       "      <th>0</th>\n",
       "      <td>Afghanistan</td>\n",
       "      <td>AFG</td>\n",
       "      <td>1962</td>\n",
       "      <td>640</td>\n",
       "    </tr>\n",
       "    <tr>\n",
       "      <th>1</th>\n",
       "      <td>Afghanistan</td>\n",
       "      <td>AFG</td>\n",
       "      <td>1963</td>\n",
       "      <td>923</td>\n",
       "    </tr>\n",
       "    <tr>\n",
       "      <th>2</th>\n",
       "      <td>Afghanistan</td>\n",
       "      <td>AFG</td>\n",
       "      <td>1964</td>\n",
       "      <td>2658</td>\n",
       "    </tr>\n",
       "    <tr>\n",
       "      <th>3</th>\n",
       "      <td>Afghanistan</td>\n",
       "      <td>AFG</td>\n",
       "      <td>1965</td>\n",
       "      <td>2112</td>\n",
       "    </tr>\n",
       "    <tr>\n",
       "      <th>4</th>\n",
       "      <td>Afghanistan</td>\n",
       "      <td>AFG</td>\n",
       "      <td>1966</td>\n",
       "      <td>2551</td>\n",
       "    </tr>\n",
       "  </tbody>\n",
       "</table>\n",
       "</div>"
      ],
      "text/plain": [
       "  country_name country_code  year incidence\n",
       "0  Afghanistan          AFG  1962       640\n",
       "1  Afghanistan          AFG  1963       923\n",
       "2  Afghanistan          AFG  1964      2658\n",
       "3  Afghanistan          AFG  1965      2112\n",
       "4  Afghanistan          AFG  1966      2551"
      ]
     },
     "execution_count": 442,
     "metadata": {},
     "output_type": "execute_result"
    }
   ],
   "source": [
    "inci.head()"
   ]
  },
  {
   "cell_type": "code",
   "execution_count": 443,
   "metadata": {
    "collapsed": true
   },
   "outputs": [],
   "source": [
    "inci = inci.drop('country_name', axis=1)"
   ]
  },
  {
   "cell_type": "code",
   "execution_count": 444,
   "metadata": {
    "collapsed": true
   },
   "outputs": [],
   "source": [
    "inci['incidence'] = pd.to_numeric(inci['incidence'], errors='coerce')\n",
    "inci = inci.dropna(how='any')"
   ]
  },
  {
   "cell_type": "code",
   "execution_count": 445,
   "metadata": {
    "scrolled": true
   },
   "outputs": [
    {
     "name": "stdout",
     "output_type": "stream",
     "text": [
      "<class 'pandas.core.frame.DataFrame'>\n",
      "Int64Index: 3695 entries, 0 to 5367\n",
      "Data columns (total 3 columns):\n",
      "country_code    3695 non-null object\n",
      "year            3695 non-null int64\n",
      "incidence       3695 non-null float64\n",
      "dtypes: float64(1), int64(1), object(1)\n",
      "memory usage: 115.5+ KB\n"
     ]
    }
   ],
   "source": [
    "inci.to_csv(path_or_buf='inci.csv')\n",
    "inci.info()"
   ]
  },
  {
   "cell_type": "markdown",
   "metadata": {},
   "source": [
    "# Merging all of the files together"
   ]
  },
  {
   "cell_type": "code",
   "execution_count": 454,
   "metadata": {
    "collapsed": true
   },
   "outputs": [],
   "source": [
    "merge = [temp, rain, inci]"
   ]
  },
  {
   "cell_type": "markdown",
   "metadata": {},
   "source": [
    "NOTE: resistance elevation have not been used in the main df at the moment. They will be added in the future or used seperatly as the examination proccedes. It is also likely that net distribution will need to be used for sub analysis as well as the data is not as robust as some of the other factors being used.\n"
   ]
  },
  {
   "cell_type": "code",
   "execution_count": 455,
   "metadata": {
    "scrolled": true
   },
   "outputs": [
    {
     "name": "stdout",
     "output_type": "stream",
     "text": [
      "<class 'pandas.core.frame.DataFrame'>\n",
      "Int64Index: 21373 entries, 0 to 21372\n",
      "Data columns (total 5 columns):\n",
      "year            21373 non-null int64\n",
      "country_code    21373 non-null object\n",
      "temperature     15065 non-null float64\n",
      "rainfall        19895 non-null float64\n",
      "incidence       3695 non-null float64\n",
      "dtypes: float64(3), int64(1), object(1)\n",
      "memory usage: 1001.9+ KB\n"
     ]
    }
   ],
   "source": [
    "df_working = reduce(lambda  left,right: pd.merge(left,right,on=['country_code', 'year'], how='outer'), merge)\n",
    "pd.to_numeric(pop.year, errors='coerce')\n",
    "df_working.info()\n"
   ]
  },
  {
   "cell_type": "markdown",
   "metadata": {},
   "source": [
    "## Adding variables"
   ]
  },
  {
   "cell_type": "code",
   "execution_count": 448,
   "metadata": {
    "collapsed": true
   },
   "outputs": [],
   "source": [
    "# Adding the standardized incidence ratio (SIR)\n",
    "\n",
    "df_working['SIR'] = (df_working['reported_cases']/df_working['est_cases']) *100"
   ]
  },
  {
   "cell_type": "markdown",
   "metadata": {},
   "source": [
    "## Data Exploration"
   ]
  },
  {
   "cell_type": "code",
   "execution_count": 456,
   "metadata": {
    "scrolled": true
   },
   "outputs": [
    {
     "data": {
      "text/html": [
       "<div>\n",
       "<style>\n",
       "    .dataframe thead tr:only-child th {\n",
       "        text-align: right;\n",
       "    }\n",
       "\n",
       "    .dataframe thead th {\n",
       "        text-align: left;\n",
       "    }\n",
       "\n",
       "    .dataframe tbody tr th {\n",
       "        vertical-align: top;\n",
       "    }\n",
       "</style>\n",
       "<table border=\"1\" class=\"dataframe\">\n",
       "  <thead>\n",
       "    <tr style=\"text-align: right;\">\n",
       "      <th></th>\n",
       "      <th>year</th>\n",
       "      <th>country_code</th>\n",
       "      <th>temperature</th>\n",
       "      <th>rainfall</th>\n",
       "      <th>incidence</th>\n",
       "    </tr>\n",
       "  </thead>\n",
       "  <tbody>\n",
       "    <tr>\n",
       "      <th>0</th>\n",
       "      <td>1901</td>\n",
       "      <td>ABW</td>\n",
       "      <td>27.642242</td>\n",
       "      <td>66.212208</td>\n",
       "      <td>NaN</td>\n",
       "    </tr>\n",
       "    <tr>\n",
       "      <th>1</th>\n",
       "      <td>1902</td>\n",
       "      <td>ABW</td>\n",
       "      <td>27.510883</td>\n",
       "      <td>63.277825</td>\n",
       "      <td>NaN</td>\n",
       "    </tr>\n",
       "    <tr>\n",
       "      <th>2</th>\n",
       "      <td>1903</td>\n",
       "      <td>ABW</td>\n",
       "      <td>27.618575</td>\n",
       "      <td>66.125392</td>\n",
       "      <td>NaN</td>\n",
       "    </tr>\n",
       "    <tr>\n",
       "      <th>3</th>\n",
       "      <td>1904</td>\n",
       "      <td>ABW</td>\n",
       "      <td>27.399308</td>\n",
       "      <td>76.067375</td>\n",
       "      <td>NaN</td>\n",
       "    </tr>\n",
       "    <tr>\n",
       "      <th>4</th>\n",
       "      <td>1905</td>\n",
       "      <td>ABW</td>\n",
       "      <td>27.540717</td>\n",
       "      <td>68.831567</td>\n",
       "      <td>NaN</td>\n",
       "    </tr>\n",
       "    <tr>\n",
       "      <th>5</th>\n",
       "      <td>1906</td>\n",
       "      <td>ABW</td>\n",
       "      <td>27.497617</td>\n",
       "      <td>61.726025</td>\n",
       "      <td>NaN</td>\n",
       "    </tr>\n",
       "    <tr>\n",
       "      <th>6</th>\n",
       "      <td>1907</td>\n",
       "      <td>ABW</td>\n",
       "      <td>27.389675</td>\n",
       "      <td>61.635600</td>\n",
       "      <td>NaN</td>\n",
       "    </tr>\n",
       "    <tr>\n",
       "      <th>7</th>\n",
       "      <td>1908</td>\n",
       "      <td>ABW</td>\n",
       "      <td>27.562575</td>\n",
       "      <td>66.959417</td>\n",
       "      <td>NaN</td>\n",
       "    </tr>\n",
       "    <tr>\n",
       "      <th>8</th>\n",
       "      <td>1909</td>\n",
       "      <td>ABW</td>\n",
       "      <td>27.408200</td>\n",
       "      <td>61.950400</td>\n",
       "      <td>NaN</td>\n",
       "    </tr>\n",
       "    <tr>\n",
       "      <th>9</th>\n",
       "      <td>1910</td>\n",
       "      <td>ABW</td>\n",
       "      <td>27.355658</td>\n",
       "      <td>63.821708</td>\n",
       "      <td>NaN</td>\n",
       "    </tr>\n",
       "  </tbody>\n",
       "</table>\n",
       "</div>"
      ],
      "text/plain": [
       "   year country_code  temperature   rainfall  incidence\n",
       "0  1901          ABW    27.642242  66.212208        NaN\n",
       "1  1902          ABW    27.510883  63.277825        NaN\n",
       "2  1903          ABW    27.618575  66.125392        NaN\n",
       "3  1904          ABW    27.399308  76.067375        NaN\n",
       "4  1905          ABW    27.540717  68.831567        NaN\n",
       "5  1906          ABW    27.497617  61.726025        NaN\n",
       "6  1907          ABW    27.389675  61.635600        NaN\n",
       "7  1908          ABW    27.562575  66.959417        NaN\n",
       "8  1909          ABW    27.408200  61.950400        NaN\n",
       "9  1910          ABW    27.355658  63.821708        NaN"
      ]
     },
     "execution_count": 456,
     "metadata": {},
     "output_type": "execute_result"
    }
   ],
   "source": [
    "df_working.head(10)"
   ]
  },
  {
   "cell_type": "code",
   "execution_count": 468,
   "metadata": {
    "collapsed": true
   },
   "outputs": [],
   "source": [
    "# Restrivting data parameters due to missing fields, work in progress\n",
    "\n",
    "# df_working = df_working[(df_working.year >= 2000) & (df_working.year <= 2014)]\n",
    "# df_working = df_working[(df_working['reported_cases'] > 0)]\n",
    "# df_working = df_working[(df_working['reported_deaths'] > 0)]\n",
    "# df_working = df_working[(df_working['est_cases'] > 0)]\n",
    "# df_working = df_working[(df_working['SIR'] > 0)]\n",
    "df_working = df_working[(df_working['incidence'] > 0)]"
   ]
  },
  {
   "cell_type": "code",
   "execution_count": 471,
   "metadata": {},
   "outputs": [],
   "source": [
    "df_working['ln'] = np.log(df_working['incidence'])"
   ]
  },
  {
   "cell_type": "code",
   "execution_count": 197,
   "metadata": {
    "collapsed": true
   },
   "outputs": [],
   "source": [
    "df_working.to_csv(path_or_buf='df_working.csv')"
   ]
  },
  {
   "cell_type": "markdown",
   "metadata": {},
   "source": [
    "At this point in the process I believe both for my own and spectators edification it is worth stopping to clealy lay out the df that we will be working with from this point forward as there are a few subfacets that I plan to delve into later that do not involve the central data fram as vis versa. \n",
    "\n",
    "1) the central DataFrame 'df_working'\n",
    "2) the country profile with stagnant variables such as average elevation\n",
    "3) Insect repellant net distribution\n",
    "     - this is a potentially very important factor, however given the interspersed nature of the data any conclusion will be on a smaller scale, thus we will be looking at it as a sub analysis rather than aprt of the central picture. \n",
    "   "
   ]
  },
  {
   "cell_type": "code",
   "execution_count": 198,
   "metadata": {
    "collapsed": true
   },
   "outputs": [],
   "source": [
    "# sns.pairplot(df_working, hue='year')"
   ]
  },
  {
   "cell_type": "code",
   "execution_count": 469,
   "metadata": {
    "collapsed": true
   },
   "outputs": [],
   "source": [
    "df_working = df_working.dropna(how='any')"
   ]
  },
  {
   "cell_type": "code",
   "execution_count": 472,
   "metadata": {},
   "outputs": [
    {
     "name": "stdout",
     "output_type": "stream",
     "text": [
      "Number of years:  40\n",
      "Years from:  1962 - 2015\n",
      "Number of countries:  73\n",
      "year            False\n",
      "country_code    False\n",
      "temperature     False\n",
      "rainfall        False\n",
      "incidence       False\n",
      "ln              False\n",
      "dtype: bool\n",
      "<class 'pandas.core.frame.DataFrame'>\n",
      "Int64Index: 1928 entries, 176 to 15064\n",
      "Data columns (total 6 columns):\n",
      "year            1928 non-null int64\n",
      "country_code    1928 non-null object\n",
      "temperature     1928 non-null float64\n",
      "rainfall        1928 non-null float64\n",
      "incidence       1928 non-null float64\n",
      "ln              1928 non-null float64\n",
      "dtypes: float64(4), int64(1), object(1)\n",
      "memory usage: 105.4+ KB\n",
      "None\n"
     ]
    }
   ],
   "source": [
    "\n",
    "print('Number of years:', '', df_working['year'].nunique())\n",
    "print('Years from:', '', df_working['year'].min(), '-', df_working['year'].max())\n",
    "print('Number of countries:', '', df_working['country_code'].nunique())\n",
    "print(df_working.isnull().any())\n",
    "print(df_working.info())\n",
    "df_working.to_csv(path_or_buf='df.csv')"
   ]
  },
  {
   "cell_type": "code",
   "execution_count": 473,
   "metadata": {},
   "outputs": [
    {
     "data": {
      "image/png": "[encoded data removed]",
      "text/plain": [
       "<matplotlib.figure.Figure at 0x27c8b6fc668>"
      ]
     },
     "metadata": {},
     "output_type": "display_data"
    }
   ],
   "source": [
    "sns.set_context('notebook')\n",
    "# Distribution of years\n",
    "sns.factorplot(x=\"year\", data=df_working, kind=\"count\",\n",
    "                   palette='mako', size=12, aspect=1.5)\n",
    "\n",
    "plt.title('Distribution of year values')\n",
    "plt.ylabel('Count')\n",
    "plt.xlabel('Years')\n",
    "plt.tight_layout()\n",
    "plt.show()"
   ]
  },
  {
   "cell_type": "code",
   "execution_count": 480,
   "metadata": {
    "scrolled": true
   },
   "outputs": [
    {
     "data": {
      "text/plain": [
       "<seaborn.axisgrid.FacetGrid at 0x27cf47c1978>"
      ]
     },
     "execution_count": 480,
     "metadata": {},
     "output_type": "execute_result"
    },
    {
     "data": {
      "image/png": "[encoded data removed]",
      "text/plain": [
       "<matplotlib.figure.Figure at 0x27c8aba6978>"
      ]
     },
     "metadata": {},
     "output_type": "display_data"
    }
   ],
   "source": [
    "sns.lmplot(x=\"rainfall\", y=\"ln\", hue=\"country_code\", size=12, data=df_working)\n",
    "# col=\"year\", hue=\"year\" "
   ]
  },
  {
   "cell_type": "code",
   "execution_count": 478,
   "metadata": {},
   "outputs": [],
   "source": [
    "# sns.lmplot(x=\"temperature\", y=\"SIR_ln\", col=\"year\", hue=\"year\", size=12, data=df_working)"
   ]
  },
  {
   "cell_type": "code",
   "execution_count": 2428,
   "metadata": {},
   "outputs": [
    {
     "ename": "KeyError",
     "evalue": "'reported_deaths'",
     "output_type": "error",
     "traceback": [
      "\u001b[1;31m---------------------------------------------------------------------------\u001b[0m",
      "\u001b[1;31mKeyError\u001b[0m                                  Traceback (most recent call last)",
      "\u001b[1;32m~\\Anaconda3\\lib\\site-packages\\pandas\\core\\indexes\\base.py\u001b[0m in \u001b[0;36mget_loc\u001b[1;34m(self, key, method, tolerance)\u001b[0m\n\u001b[0;32m   2441\u001b[0m             \u001b[1;32mtry\u001b[0m\u001b[1;33m:\u001b[0m\u001b[1;33m\u001b[0m\u001b[0m\n\u001b[1;32m-> 2442\u001b[1;33m                 \u001b[1;32mreturn\u001b[0m \u001b[0mself\u001b[0m\u001b[1;33m.\u001b[0m\u001b[0m_engine\u001b[0m\u001b[1;33m.\u001b[0m\u001b[0mget_loc\u001b[0m\u001b[1;33m(\u001b[0m\u001b[0mkey\u001b[0m\u001b[1;33m)\u001b[0m\u001b[1;33m\u001b[0m\u001b[0m\n\u001b[0m\u001b[0;32m   2443\u001b[0m             \u001b[1;32mexcept\u001b[0m \u001b[0mKeyError\u001b[0m\u001b[1;33m:\u001b[0m\u001b[1;33m\u001b[0m\u001b[0m\n",
      "\u001b[1;32mpandas\\_libs\\index.pyx\u001b[0m in \u001b[0;36mpandas._libs.index.IndexEngine.get_loc\u001b[1;34m()\u001b[0m\n",
      "\u001b[1;32mpandas\\_libs\\index.pyx\u001b[0m in \u001b[0;36mpandas._libs.index.IndexEngine.get_loc\u001b[1;34m()\u001b[0m\n",
      "\u001b[1;32mpandas\\_libs\\hashtable_class_helper.pxi\u001b[0m in \u001b[0;36mpandas._libs.hashtable.PyObjectHashTable.get_item\u001b[1;34m()\u001b[0m\n",
      "\u001b[1;32mpandas\\_libs\\hashtable_class_helper.pxi\u001b[0m in \u001b[0;36mpandas._libs.hashtable.PyObjectHashTable.get_item\u001b[1;34m()\u001b[0m\n",
      "\u001b[1;31mKeyError\u001b[0m: 'reported_deaths'",
      "\nDuring handling of the above exception, another exception occurred:\n",
      "\u001b[1;31mKeyError\u001b[0m                                  Traceback (most recent call last)",
      "\u001b[1;32m<ipython-input-2428-a3027c68d52d>\u001b[0m in \u001b[0;36m<module>\u001b[1;34m()\u001b[0m\n\u001b[0;32m      1\u001b[0m \u001b[1;33m\u001b[0m\u001b[0m\n\u001b[1;32m----> 2\u001b[1;33m \u001b[0msns\u001b[0m\u001b[1;33m.\u001b[0m\u001b[0mdistplot\u001b[0m\u001b[1;33m(\u001b[0m\u001b[0mdf_working\u001b[0m\u001b[1;33m[\u001b[0m\u001b[1;34m'reported_deaths'\u001b[0m\u001b[1;33m]\u001b[0m\u001b[1;33m,\u001b[0m \u001b[0mbins\u001b[0m\u001b[1;33m=\u001b[0m\u001b[1;36m20\u001b[0m\u001b[1;33m)\u001b[0m\u001b[1;33m\u001b[0m\u001b[0m\n\u001b[0m\u001b[0;32m      3\u001b[0m \u001b[0mplt\u001b[0m\u001b[1;33m.\u001b[0m\u001b[0mtitle\u001b[0m\u001b[1;33m(\u001b[0m\u001b[1;34m'Distribution of mortality values'\u001b[0m\u001b[1;33m)\u001b[0m\u001b[1;33m\u001b[0m\u001b[0m\n\u001b[0;32m      4\u001b[0m \u001b[1;33m\u001b[0m\u001b[0m\n\u001b[0;32m      5\u001b[0m \u001b[0mplt\u001b[0m\u001b[1;33m.\u001b[0m\u001b[0mshow\u001b[0m\u001b[1;33m(\u001b[0m\u001b[1;33m)\u001b[0m\u001b[1;33m\u001b[0m\u001b[0m\n",
      "\u001b[1;32m~\\Anaconda3\\lib\\site-packages\\pandas\\core\\frame.py\u001b[0m in \u001b[0;36m__getitem__\u001b[1;34m(self, key)\u001b[0m\n\u001b[0;32m   1962\u001b[0m             \u001b[1;32mreturn\u001b[0m \u001b[0mself\u001b[0m\u001b[1;33m.\u001b[0m\u001b[0m_getitem_multilevel\u001b[0m\u001b[1;33m(\u001b[0m\u001b[0mkey\u001b[0m\u001b[1;33m)\u001b[0m\u001b[1;33m\u001b[0m\u001b[0m\n\u001b[0;32m   1963\u001b[0m         \u001b[1;32melse\u001b[0m\u001b[1;33m:\u001b[0m\u001b[1;33m\u001b[0m\u001b[0m\n\u001b[1;32m-> 1964\u001b[1;33m             \u001b[1;32mreturn\u001b[0m \u001b[0mself\u001b[0m\u001b[1;33m.\u001b[0m\u001b[0m_getitem_column\u001b[0m\u001b[1;33m(\u001b[0m\u001b[0mkey\u001b[0m\u001b[1;33m)\u001b[0m\u001b[1;33m\u001b[0m\u001b[0m\n\u001b[0m\u001b[0;32m   1965\u001b[0m \u001b[1;33m\u001b[0m\u001b[0m\n\u001b[0;32m   1966\u001b[0m     \u001b[1;32mdef\u001b[0m \u001b[0m_getitem_column\u001b[0m\u001b[1;33m(\u001b[0m\u001b[0mself\u001b[0m\u001b[1;33m,\u001b[0m \u001b[0mkey\u001b[0m\u001b[1;33m)\u001b[0m\u001b[1;33m:\u001b[0m\u001b[1;33m\u001b[0m\u001b[0m\n",
      "\u001b[1;32m~\\Anaconda3\\lib\\site-packages\\pandas\\core\\frame.py\u001b[0m in \u001b[0;36m_getitem_column\u001b[1;34m(self, key)\u001b[0m\n\u001b[0;32m   1969\u001b[0m         \u001b[1;31m# get column\u001b[0m\u001b[1;33m\u001b[0m\u001b[1;33m\u001b[0m\u001b[0m\n\u001b[0;32m   1970\u001b[0m         \u001b[1;32mif\u001b[0m \u001b[0mself\u001b[0m\u001b[1;33m.\u001b[0m\u001b[0mcolumns\u001b[0m\u001b[1;33m.\u001b[0m\u001b[0mis_unique\u001b[0m\u001b[1;33m:\u001b[0m\u001b[1;33m\u001b[0m\u001b[0m\n\u001b[1;32m-> 1971\u001b[1;33m             \u001b[1;32mreturn\u001b[0m \u001b[0mself\u001b[0m\u001b[1;33m.\u001b[0m\u001b[0m_get_item_cache\u001b[0m\u001b[1;33m(\u001b[0m\u001b[0mkey\u001b[0m\u001b[1;33m)\u001b[0m\u001b[1;33m\u001b[0m\u001b[0m\n\u001b[0m\u001b[0;32m   1972\u001b[0m \u001b[1;33m\u001b[0m\u001b[0m\n\u001b[0;32m   1973\u001b[0m         \u001b[1;31m# duplicate columns & possible reduce dimensionality\u001b[0m\u001b[1;33m\u001b[0m\u001b[1;33m\u001b[0m\u001b[0m\n",
      "\u001b[1;32m~\\Anaconda3\\lib\\site-packages\\pandas\\core\\generic.py\u001b[0m in \u001b[0;36m_get_item_cache\u001b[1;34m(self, item)\u001b[0m\n\u001b[0;32m   1643\u001b[0m         \u001b[0mres\u001b[0m \u001b[1;33m=\u001b[0m \u001b[0mcache\u001b[0m\u001b[1;33m.\u001b[0m\u001b[0mget\u001b[0m\u001b[1;33m(\u001b[0m\u001b[0mitem\u001b[0m\u001b[1;33m)\u001b[0m\u001b[1;33m\u001b[0m\u001b[0m\n\u001b[0;32m   1644\u001b[0m         \u001b[1;32mif\u001b[0m \u001b[0mres\u001b[0m \u001b[1;32mis\u001b[0m \u001b[1;32mNone\u001b[0m\u001b[1;33m:\u001b[0m\u001b[1;33m\u001b[0m\u001b[0m\n\u001b[1;32m-> 1645\u001b[1;33m             \u001b[0mvalues\u001b[0m \u001b[1;33m=\u001b[0m \u001b[0mself\u001b[0m\u001b[1;33m.\u001b[0m\u001b[0m_data\u001b[0m\u001b[1;33m.\u001b[0m\u001b[0mget\u001b[0m\u001b[1;33m(\u001b[0m\u001b[0mitem\u001b[0m\u001b[1;33m)\u001b[0m\u001b[1;33m\u001b[0m\u001b[0m\n\u001b[0m\u001b[0;32m   1646\u001b[0m             \u001b[0mres\u001b[0m \u001b[1;33m=\u001b[0m \u001b[0mself\u001b[0m\u001b[1;33m.\u001b[0m\u001b[0m_box_item_values\u001b[0m\u001b[1;33m(\u001b[0m\u001b[0mitem\u001b[0m\u001b[1;33m,\u001b[0m \u001b[0mvalues\u001b[0m\u001b[1;33m)\u001b[0m\u001b[1;33m\u001b[0m\u001b[0m\n\u001b[0;32m   1647\u001b[0m             \u001b[0mcache\u001b[0m\u001b[1;33m[\u001b[0m\u001b[0mitem\u001b[0m\u001b[1;33m]\u001b[0m \u001b[1;33m=\u001b[0m \u001b[0mres\u001b[0m\u001b[1;33m\u001b[0m\u001b[0m\n",
      "\u001b[1;32m~\\Anaconda3\\lib\\site-packages\\pandas\\core\\internals.py\u001b[0m in \u001b[0;36mget\u001b[1;34m(self, item, fastpath)\u001b[0m\n\u001b[0;32m   3588\u001b[0m \u001b[1;33m\u001b[0m\u001b[0m\n\u001b[0;32m   3589\u001b[0m             \u001b[1;32mif\u001b[0m \u001b[1;32mnot\u001b[0m \u001b[0misnull\u001b[0m\u001b[1;33m(\u001b[0m\u001b[0mitem\u001b[0m\u001b[1;33m)\u001b[0m\u001b[1;33m:\u001b[0m\u001b[1;33m\u001b[0m\u001b[0m\n\u001b[1;32m-> 3590\u001b[1;33m                 \u001b[0mloc\u001b[0m \u001b[1;33m=\u001b[0m \u001b[0mself\u001b[0m\u001b[1;33m.\u001b[0m\u001b[0mitems\u001b[0m\u001b[1;33m.\u001b[0m\u001b[0mget_loc\u001b[0m\u001b[1;33m(\u001b[0m\u001b[0mitem\u001b[0m\u001b[1;33m)\u001b[0m\u001b[1;33m\u001b[0m\u001b[0m\n\u001b[0m\u001b[0;32m   3591\u001b[0m             \u001b[1;32melse\u001b[0m\u001b[1;33m:\u001b[0m\u001b[1;33m\u001b[0m\u001b[0m\n\u001b[0;32m   3592\u001b[0m                 \u001b[0mindexer\u001b[0m \u001b[1;33m=\u001b[0m \u001b[0mnp\u001b[0m\u001b[1;33m.\u001b[0m\u001b[0marange\u001b[0m\u001b[1;33m(\u001b[0m\u001b[0mlen\u001b[0m\u001b[1;33m(\u001b[0m\u001b[0mself\u001b[0m\u001b[1;33m.\u001b[0m\u001b[0mitems\u001b[0m\u001b[1;33m)\u001b[0m\u001b[1;33m)\u001b[0m\u001b[1;33m[\u001b[0m\u001b[0misnull\u001b[0m\u001b[1;33m(\u001b[0m\u001b[0mself\u001b[0m\u001b[1;33m.\u001b[0m\u001b[0mitems\u001b[0m\u001b[1;33m)\u001b[0m\u001b[1;33m]\u001b[0m\u001b[1;33m\u001b[0m\u001b[0m\n",
      "\u001b[1;32m~\\Anaconda3\\lib\\site-packages\\pandas\\core\\indexes\\base.py\u001b[0m in \u001b[0;36mget_loc\u001b[1;34m(self, key, method, tolerance)\u001b[0m\n\u001b[0;32m   2442\u001b[0m                 \u001b[1;32mreturn\u001b[0m \u001b[0mself\u001b[0m\u001b[1;33m.\u001b[0m\u001b[0m_engine\u001b[0m\u001b[1;33m.\u001b[0m\u001b[0mget_loc\u001b[0m\u001b[1;33m(\u001b[0m\u001b[0mkey\u001b[0m\u001b[1;33m)\u001b[0m\u001b[1;33m\u001b[0m\u001b[0m\n\u001b[0;32m   2443\u001b[0m             \u001b[1;32mexcept\u001b[0m \u001b[0mKeyError\u001b[0m\u001b[1;33m:\u001b[0m\u001b[1;33m\u001b[0m\u001b[0m\n\u001b[1;32m-> 2444\u001b[1;33m                 \u001b[1;32mreturn\u001b[0m \u001b[0mself\u001b[0m\u001b[1;33m.\u001b[0m\u001b[0m_engine\u001b[0m\u001b[1;33m.\u001b[0m\u001b[0mget_loc\u001b[0m\u001b[1;33m(\u001b[0m\u001b[0mself\u001b[0m\u001b[1;33m.\u001b[0m\u001b[0m_maybe_cast_indexer\u001b[0m\u001b[1;33m(\u001b[0m\u001b[0mkey\u001b[0m\u001b[1;33m)\u001b[0m\u001b[1;33m)\u001b[0m\u001b[1;33m\u001b[0m\u001b[0m\n\u001b[0m\u001b[0;32m   2445\u001b[0m \u001b[1;33m\u001b[0m\u001b[0m\n\u001b[0;32m   2446\u001b[0m         \u001b[0mindexer\u001b[0m \u001b[1;33m=\u001b[0m \u001b[0mself\u001b[0m\u001b[1;33m.\u001b[0m\u001b[0mget_indexer\u001b[0m\u001b[1;33m(\u001b[0m\u001b[1;33m[\u001b[0m\u001b[0mkey\u001b[0m\u001b[1;33m]\u001b[0m\u001b[1;33m,\u001b[0m \u001b[0mmethod\u001b[0m\u001b[1;33m=\u001b[0m\u001b[0mmethod\u001b[0m\u001b[1;33m,\u001b[0m \u001b[0mtolerance\u001b[0m\u001b[1;33m=\u001b[0m\u001b[0mtolerance\u001b[0m\u001b[1;33m)\u001b[0m\u001b[1;33m\u001b[0m\u001b[0m\n",
      "\u001b[1;32mpandas\\_libs\\index.pyx\u001b[0m in \u001b[0;36mpandas._libs.index.IndexEngine.get_loc\u001b[1;34m()\u001b[0m\n",
      "\u001b[1;32mpandas\\_libs\\index.pyx\u001b[0m in \u001b[0;36mpandas._libs.index.IndexEngine.get_loc\u001b[1;34m()\u001b[0m\n",
      "\u001b[1;32mpandas\\_libs\\hashtable_class_helper.pxi\u001b[0m in \u001b[0;36mpandas._libs.hashtable.PyObjectHashTable.get_item\u001b[1;34m()\u001b[0m\n",
      "\u001b[1;32mpandas\\_libs\\hashtable_class_helper.pxi\u001b[0m in \u001b[0;36mpandas._libs.hashtable.PyObjectHashTable.get_item\u001b[1;34m()\u001b[0m\n",
      "\u001b[1;31mKeyError\u001b[0m: 'reported_deaths'"
     ]
    }
   ],
   "source": [
    "\n",
    "sns.distplot(df_working['reported_deaths'], bins=20)\n",
    "plt.title('Distribution of mortality values')\n",
    "\n",
    "plt.show()"
   ]
  },
  {
   "cell_type": "code",
   "execution_count": null,
   "metadata": {
    "collapsed": true
   },
   "outputs": [],
   "source": [
    "sns.distplot(df_working['reported_cases'], bins=20)\n",
    "plt.title('Distribution of reporteed cases of malaria')\n",
    "\n",
    "plt.show()"
   ]
  },
  {
   "cell_type": "code",
   "execution_count": null,
   "metadata": {
    "collapsed": true
   },
   "outputs": [],
   "source": [
    "df_working_temp = df_working[(df_working.temperature >= 0)]"
   ]
  },
  {
   "cell_type": "code",
   "execution_count": null,
   "metadata": {
    "collapsed": true
   },
   "outputs": [],
   "source": [
    "\n",
    "print('Number of years:', '', df_working_temp['year'].nunique())\n",
    "print('Years from:', '', df_working_temp['year'].min(), '-', df_working_temp['year'].max())\n",
    "print('Number of countries:', '', df_working_temp['country_code'].nunique())\n",
    "sns.distplot(df_working_temp['temperature'], bins=20)\n",
    "plt.title('Distrivution of temperature values')\n",
    "\n",
    "plt.show()"
   ]
  },
  {
   "cell_type": "code",
   "execution_count": null,
   "metadata": {
    "collapsed": true,
    "scrolled": true
   },
   "outputs": [],
   "source": [
    "sns.lvplot(x='year', y='reported_deaths', data=df_working, palette='mako')\n",
    "plt.title('Reported deaths by year')\n",
    "plt.ylabel('Number of deaths')\n",
    "plt.xlabel('Year')\n",
    "plt.show() "
   ]
  },
  {
   "cell_type": "code",
   "execution_count": null,
   "metadata": {
    "collapsed": true,
    "scrolled": true
   },
   "outputs": [],
   "source": [
    "sns.lvplot(x='year', y='reported_cases', data=df_working, palette='mako')\n",
    "plt.title('Reported cases per year')\n",
    "plt.ylabel('Number of cases')\n",
    "plt.xlabel('Year')\n",
    "plt.show()"
   ]
  },
  {
   "cell_type": "markdown",
   "metadata": {},
   "source": [
    "From the looks of these fancy plots we can pick out that deaths seem to have decreased from 2000 to 2014. On the other hand reported cases seem to have increased. For more information of the pathogenicity of malaria please see appendix 1. "
   ]
  },
  {
   "cell_type": "code",
   "execution_count": null,
   "metadata": {
    "collapsed": true
   },
   "outputs": [],
   "source": [
    "sns.set_context(\"notebook\", font_scale=1.5, rc={\"lines.linewidth\": 2.5})\n",
    "sns.lvplot(x='country_code', y='population', data=df_working, palette='mako')\n",
    "plt.title('Population over time')\n",
    "plt.ylabel('Number of people')\n",
    "plt.xlabel('Year')\n",
    "plt.show()"
   ]
  }
 ],
 "metadata": {
  "kernelspec": {
   "display_name": "Python 3",
   "language": "python",
   "name": "python3"
  },
  "language_info": {
   "codemirror_mode": {
    "name": "ipython",
    "version": 3
   },
   "file_extension": ".py",
   "mimetype": "text/x-python",
   "name": "python",
   "nbconvert_exporter": "python",
   "pygments_lexer": "ipython3",
   "version": "3.6.2"
  }
 },
 "nbformat": 4,
 "nbformat_minor": 2
}
