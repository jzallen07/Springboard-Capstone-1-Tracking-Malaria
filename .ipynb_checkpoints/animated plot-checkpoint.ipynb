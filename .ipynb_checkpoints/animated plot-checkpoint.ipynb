{
 "cells": [
  {
   "cell_type": "code",
   "execution_count": 20,
   "metadata": {},
   "outputs": [],
   "source": [
    "#Import Packages\n",
    "import pandas as pd\n",
    "import numpy as np\n",
    "import rpy2.robjects as robj\n",
    "import rpy2.robjects.pandas2ri # for dataframe conversion\n",
    "from rpy2.robjects.packages import importr\n",
    "import matplotlib.pyplot as plt"
   ]
  },
  {
   "cell_type": "code",
   "execution_count": 10,
   "metadata": {
    "collapsed": true
   },
   "outputs": [],
   "source": [
    "# Import Relevant CSV Files\n",
    "cases = pd.read_csv('data/Originals/reported_indigenous_confirmed_cases.csv')\n",
    "m_deaths = pd.read_csv('data/Originals/reported_deaths.csv')\n"
   ]
  },
  {
   "cell_type": "code",
   "execution_count": 11,
   "metadata": {},
   "outputs": [
    {
     "data": {
      "text/plain": [
       "Index(['GHO (CODE)', 'GHO (DISPLAY)', 'GHO (URL)', 'PUBLISHSTATE (CODE)',\n",
       "       'PUBLISHSTATE (DISPLAY)', 'PUBLISHSTATE (URL)', 'YEAR (CODE)',\n",
       "       'YEAR (DISPLAY)', 'YEAR (URL)', 'REGION (CODE)', 'REGION (DISPLAY)',\n",
       "       'REGION (URL)', 'COUNTRY (CODE)', 'COUNTRY (DISPLAY)', 'COUNTRY (URL)',\n",
       "       'Display Value', 'Numeric', 'Low', 'High', 'Comments'],\n",
       "      dtype='object')"
      ]
     },
     "execution_count": 11,
     "metadata": {},
     "output_type": "execute_result"
    }
   ],
   "source": [
    "cases.columns"
   ]
  },
  {
   "cell_type": "code",
   "execution_count": 12,
   "metadata": {},
   "outputs": [
    {
     "name": "stdout",
     "output_type": "stream",
     "text": [
      "Years from:  2000 - 2014\n",
      "year              False\n",
      "country_code      False\n",
      "reported_cases    False\n",
      "dtype: bool\n",
      "   year country_code  reported_cases\n",
      "0  2001          EGY             0.0\n",
      "1  2003          EGY             0.0\n",
      "2  2013          IRQ             0.0\n",
      "3  2004          OMN             0.0\n",
      "4  2012          SYR             0.0\n",
      "<class 'pandas.core.frame.DataFrame'>\n",
      "RangeIndex: 1392 entries, 0 to 1391\n",
      "Data columns (total 3 columns):\n",
      "year              1392 non-null int64\n",
      "country_code      1392 non-null object\n",
      "reported_cases    1392 non-null float64\n",
      "dtypes: float64(1), int64(1), object(1)\n",
      "memory usage: 32.7+ KB\n",
      "None\n"
     ]
    }
   ],
   "source": [
    "cases = cases.rename(columns={'YEAR (CODE)':'year',\n",
    "                    'REGION (CODE)':'region',\n",
    "                    'COUNTRY (CODE)':'country_code',\n",
    "                    'REGION (CODE)' : 'region',\n",
    "                     'COUNTRY (DISPLAY)' : 'country_name',         \n",
    "                    'Numeric':'reported_cases'})\n",
    "\n",
    "cases = cases[['year', 'country_code','reported_cases']]\n",
    "\n",
    "print('Years from:', '', cases['year'].min(), '-', cases['year'].max())\n",
    "print(cases.isnull().any())\n",
    "print(cases.head())\n",
    "print(cases.info())"
   ]
  },
  {
   "cell_type": "code",
   "execution_count": 13,
   "metadata": {},
   "outputs": [
    {
     "data": {
      "text/plain": [
       "Index(['GHO (CODE)', 'GHO (DISPLAY)', 'GHO (URL)', 'PUBLISHSTATE (CODE)',\n",
       "       'PUBLISHSTATE (DISPLAY)', 'PUBLISHSTATE (URL)', 'YEAR (CODE)',\n",
       "       'YEAR (DISPLAY)', 'YEAR (URL)', 'REGION (CODE)', 'REGION (DISPLAY)',\n",
       "       'REGION (URL)', 'COUNTRY (CODE)', 'COUNTRY (DISPLAY)', 'COUNTRY (URL)',\n",
       "       'Display Value', 'Numeric', 'Low', 'High', 'Comments'],\n",
       "      dtype='object')"
      ]
     },
     "execution_count": 13,
     "metadata": {},
     "output_type": "execute_result"
    }
   ],
   "source": [
    "m_deaths.columns"
   ]
  },
  {
   "cell_type": "code",
   "execution_count": 14,
   "metadata": {},
   "outputs": [
    {
     "name": "stdout",
     "output_type": "stream",
     "text": [
      "Years from:  2000 - 2014\n",
      "year               False\n",
      "country_code       False\n",
      "reported_deaths    False\n",
      "dtype: bool\n",
      "   year country_code  reported_deaths\n",
      "0  2008          DZA              0.0\n",
      "1  2012          DZA              0.0\n",
      "2  2014          DZA              0.0\n",
      "3  2001          CPV              0.0\n",
      "4  2013          CPV              0.0\n",
      "<class 'pandas.core.frame.DataFrame'>\n",
      "RangeIndex: 1408 entries, 0 to 1407\n",
      "Data columns (total 3 columns):\n",
      "year               1408 non-null int64\n",
      "country_code       1408 non-null object\n",
      "reported_deaths    1408 non-null float64\n",
      "dtypes: float64(1), int64(1), object(1)\n",
      "memory usage: 33.1+ KB\n",
      "None\n"
     ]
    }
   ],
   "source": [
    "m_deaths = m_deaths.rename(columns={'YEAR (CODE)':'year',\n",
    "                    'REGION (CODE)':'region',\n",
    "                    'COUNTRY (CODE)':'country_code',\n",
    "                    'Numeric':'reported_deaths'})\n",
    "m_deaths = m_deaths[['year', 'country_code','reported_deaths']]\n",
    "\n",
    "print('Years from:', '', m_deaths['year'].min(), '-', m_deaths['year'].max())\n",
    "print(m_deaths.isnull().any())\n",
    "print(m_deaths.head())\n",
    "print(m_deaths.info())"
   ]
  },
  {
   "cell_type": "code",
   "execution_count": null,
   "metadata": {
    "collapsed": true
   },
   "outputs": [],
   "source": []
  },
  {
   "cell_type": "code",
   "execution_count": 25,
   "metadata": {},
   "outputs": [
    {
     "name": "stdout",
     "output_type": "stream",
     "text": [
      "          x         y\n",
      "0  5.671309  3.618337\n",
      "1  6.896558  4.650572\n",
      "2  7.596034  6.297825\n",
      "3  5.057157  5.681918\n",
      "4  6.544976  3.796347\n",
      "5  3.116228  5.290630\n",
      "6  6.533765  8.386398\n",
      "7  7.147304  7.706238\n",
      "8  3.490244  1.785937\n",
      "9  1.443603  1.931084\n"
     ]
    },
    {
     "ename": "NameError",
     "evalue": "name 'raw_input' is not defined",
     "output_type": "error",
     "traceback": [
      "\u001b[1;31m---------------------------------------------------------------------------\u001b[0m",
      "\u001b[1;31mNameError\u001b[0m                                 Traceback (most recent call last)",
      "\u001b[1;32m<ipython-input-25-a123890bdb18>\u001b[0m in \u001b[0;36m<module>\u001b[1;34m()\u001b[0m\n\u001b[0;32m     38\u001b[0m \u001b[1;31m# ask for input. This requires you to press enter, otherwise the plot\u001b[0m\u001b[1;33m\u001b[0m\u001b[1;33m\u001b[0m\u001b[0m\n\u001b[0;32m     39\u001b[0m \u001b[1;31m# window closes immediately\u001b[0m\u001b[1;33m\u001b[0m\u001b[1;33m\u001b[0m\u001b[0m\n\u001b[1;32m---> 40\u001b[1;33m \u001b[0mraw_input\u001b[0m\u001b[1;33m(\u001b[0m\u001b[1;33m)\u001b[0m\u001b[1;33m\u001b[0m\u001b[0m\n\u001b[0m\u001b[0;32m     41\u001b[0m \u001b[1;33m\u001b[0m\u001b[0m\n\u001b[0;32m     42\u001b[0m \u001b[1;31m# shut down the window using dev_off()\u001b[0m\u001b[1;33m\u001b[0m\u001b[1;33m\u001b[0m\u001b[0m\n",
      "\u001b[1;31mNameError\u001b[0m: name 'raw_input' is not defined"
     ]
    }
   ],
   "source": [
    "# First, make some random data\n",
    "x = np.random.normal(loc = 5, scale = 2, size = 10)\n",
    "y = x + np.random.normal(loc = 0, scale = 2, size = 10)\n",
    " \n",
    "# Make these into a pandas dataframe. I do this because\n",
    "# more often than not, I read in a pandas dataframe, so this\n",
    "# shows how to use a pandas dataframe to plot in ggplot\n",
    "testData = pd.DataFrame( {'x':x, 'y':y} )\n",
    "# it looks just like a dataframe from R\n",
    "print(testData)\n",
    " \n",
    "# Next, you make an robject containing function that makes the plot.\n",
    "# the language in the function is pure R, so it can be anything\n",
    "# note that the R environment is blank to start, so ggplot2 has to be\n",
    "# loaded\n",
    "plotFunc = robj.r(\"\"\"\n",
    " library(ggplot2)\n",
    " \n",
    "function(df){\n",
    " p <- ggplot(df, aes(x, y)) +\n",
    " geom_point( )\n",
    " \n",
    "print(p)\n",
    " }\n",
    "\"\"\")\n",
    " \n",
    "# import graphics devices. This is necessary to shut the graph off\n",
    "# otherwise it just hangs and freezes python\n",
    "gr = importr('grDevices')\n",
    " \n",
    "# convert the testData to an R dataframe\n",
    "robj.pandas2ri.activate()\n",
    "testData_R = robj.conversion.py2ri(testData)\n",
    " \n",
    "# run the plot function on the dataframe\n",
    "plotFunc(testData_R)\n",
    " \n",
    "# ask for input. This requires you to press enter, otherwise the plot\n",
    "# window closes immediately\n",
    "raw_input()\n",
    " \n",
    "# shut down the window using dev_off()\n",
    "gr.dev_off()\n",
    " \n",
    "# you can even save the output once you like it\n",
    "plotFunc_2 = robj.r(\"\"\"\n",
    " library(ggplot2)\n",
    " \n",
    "function(df){\n",
    " p <- ggplot(df, aes(x, y)) +\n",
    " geom_point( ) +\n",
    " theme(\n",
    " panel.background = element_rect(fill = NA, color = 'black')\n",
    " )\n",
    " \n",
    "ggsave('rpy2_magic.pdf', plot = p, width = 6.5, height = 5.5)\n",
    " }\n",
    "\"\"\")\n",
    " \n",
    "plotFunc_2(testData_R)\n"
   ]
  },
  {
   "cell_type": "code",
   "execution_count": null,
   "metadata": {
    "collapsed": true
   },
   "outputs": [],
   "source": []
  },
  {
   "cell_type": "code",
   "execution_count": null,
   "metadata": {
    "collapsed": true
   },
   "outputs": [],
   "source": [
    "library(ggplot2)\n",
    "library(ggmap)\n",
    "library(maps)\n",
    "library(data.table)\n",
    "\n",
    "GlobalLandTemperaturesByCity <- fread(\"../input/GlobalLandTemperaturesByCity.csv\")\n",
    "\n",
    "#Create some useful data points\n",
    "GlobalLandTemperaturesByCity$dt<-as.Date(GlobalLandTemperaturesByCity$dt,\"%Y-%m-%d\")\n",
    "GlobalLandTemperaturesByCity$lat<-as.numeric(gsub(\"N|E|S|W\", \"\",GlobalLandTemperaturesByCity$Latitude))*ifelse(grepl(\"S\",GlobalLandTemperaturesByCity$Latitude),-1,1)\n",
    "GlobalLandTemperaturesByCity$long<-as.numeric(gsub(\"N|E|S|W\", \"\", GlobalLandTemperaturesByCity$Longitude))*ifelse(grepl(\"W\",GlobalLandTemperaturesByCity$Longitude),-1,1)\n",
    "GlobalLandTemperaturesByCity$Month<-as.numeric(format(GlobalLandTemperaturesByCity$dt,\"%m\"))\n",
    "GlobalLandTemperaturesByCity$Year<-as.numeric(format(GlobalLandTemperaturesByCity$dt,\"%Y\"))\n",
    "\n",
    "setkey(GlobalLandTemperaturesByCity,long,lat,Month,Year)\n",
    "\n",
    "#Create a meta dataset of each city to add new features...\n",
    "\n",
    "meta.city<-unique(GlobalLandTemperaturesByCity[,c(4,8:10),with=FALSE],by=c(\"Month\",\"long\",\"lat\",\"City\"))\n",
    "setkey(meta.city,long,lat,Month)\n",
    "\n",
    "meta.city.length<-length(meta.city$City)\n",
    "meta.city$intercept.coef<-numeric(meta.city.length)\n",
    "meta.city$year.coef<-numeric(meta.city.length)\n",
    "\n",
    "#Create a data table for faster subsetting. Data before 1880 is rejected (uncertainty is too high)\n",
    "dt <- as.data.table(na.omit(subset(GlobalLandTemperaturesByCity,Year>1880)))\n",
    "\n",
    "#This loop will fill in the columns of the meta.city table.\n",
    "for(i in 1:meta.city.length){\n",
    "  dt.subset<-dt[list(meta.city$long[i],meta.city$lat[i],meta.city$Month[i]),]\n",
    "  lmfit<-with(dt.subset,lm.fit(x=cbind(1,Year),y=AverageTemperature))\n",
    "  meta.city$intercept.coef[i]<-lmfit$coefficients[1]\n",
    "  meta.city$year.coef[i]<-lmfit$coefficients[2]\n",
    "}\n",
    "\n",
    "ggplot()+borders(\"world\",colour=\"grey75\",fill=\"black\")+\n",
    "  theme(panel.background=element_rect(fill = \"gray93\"))+\n",
    "  geom_point(data=subset(meta.city, Month==1),aes(x=long,y=lat,colour=year.coef),size=3)+\n",
    "  scale_colour_gradient(low=\"yellow\",high =\"red\")+\n",
    "  ggtitle(\"Average Annual Increase in Temperature - January\")+\n",
    "  labs(colour='Average Annual \\nTemperature Increase (°C)')+xlab(\"Longitude\")+ylab(\"Latitude\")"
   ]
  }
 ],
 "metadata": {
  "kernelspec": {
   "display_name": "Python 3",
   "language": "python",
   "name": "python3"
  },
  "language_info": {
   "codemirror_mode": {
    "name": "ipython",
    "version": 3
   },
   "file_extension": ".py",
   "mimetype": "text/x-python",
   "name": "python",
   "nbconvert_exporter": "python",
   "pygments_lexer": "ipython3",
   "version": "3.6.2"
  }
 },
 "nbformat": 4,
 "nbformat_minor": 2
}
