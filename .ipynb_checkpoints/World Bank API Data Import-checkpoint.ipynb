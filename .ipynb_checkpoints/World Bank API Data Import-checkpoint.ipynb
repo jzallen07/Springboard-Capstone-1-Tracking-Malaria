{
 "cells": [
  {
   "cell_type": "code",
   "execution_count": 16,
   "metadata": {
    "collapsed": true
   },
   "outputs": [],
   "source": [
    "import wbpy\n",
    "import pandas as pd"
   ]
  },
  {
   "cell_type": "code",
   "execution_count": 17,
   "metadata": {},
   "outputs": [],
   "source": [
    "df_working = pd.read_csv('C:/Users/zalle/Documents/GitHub/capstone-1/data/df_working_copy.csv')\n"
   ]
  },
  {
   "cell_type": "code",
   "execution_count": 18,
   "metadata": {},
   "outputs": [
    {
     "ename": "SyntaxError",
     "evalue": "invalid syntax (<ipython-input-18-ef436e373d7b>, line 3)",
     "output_type": "error",
     "traceback": [
      "\u001b[1;36m  File \u001b[1;32m\"<ipython-input-18-ef436e373d7b>\"\u001b[1;36m, line \u001b[1;32m3\u001b[0m\n\u001b[1;33m    for country in countries\u001b[0m\n\u001b[1;37m                            ^\u001b[0m\n\u001b[1;31mSyntaxError\u001b[0m\u001b[1;31m:\u001b[0m invalid syntax\n"
     ]
    }
   ],
   "source": [
    "df_pop = []\n",
    "\n",
    "for country in countries\n",
    "    "
   ]
  },
  {
   "cell_type": "code",
   "execution_count": 42,
   "metadata": {},
   "outputs": [
    {
     "name": "stdout",
     "output_type": "stream",
     "text": [
      "107\n",
      "['CPV', 'SAU', 'BLZ', 'DZA', 'SWZ', 'RUS', 'ARG', 'BTN', 'LKA', 'CRI']\n"
     ]
    }
   ],
   "source": [
    "countries = list(df_working.country_code.unique())\n",
    "print(df_working.country_code.nunique())\n",
    "countries_1 = countries[81:107]\n",
    "countries_2 = countries[11:21]\n",
    "countries_3 = countries[21:31]\n",
    "countries_4 = countries[31:41]\n",
    "countries_5 = countries[41:51]\n",
    "countries_6 = countries[51:61]\n",
    "countries_7 = countries[61:71]\n",
    "print(countries_2)\n"
   ]
  },
  {
   "cell_type": "code",
   "execution_count": 54,
   "metadata": {},
   "outputs": [
    {
     "data": {
      "text/plain": [
       "'http://api.worldbank.org/countries/LBR;IND;UGA;ETH;AGO;COD;TZA;ARM;BHS;AZE;NAM;GNQ;MRT;COM;VEN;PAK;SEN;BRA;TGO;MLI;CMR;ZMB;NGA;SSD;BEN;MWI/indicators/SP.POP.TOTL?date=2000%3A2014&format=json&per_page=10000'"
      ]
     },
     "execution_count": 54,
     "metadata": {},
     "output_type": "execute_result"
    }
   ],
   "source": [
    "c_api = wbpy.ClimateAPI()\n",
    "c_api.ARG_DEFINITIONS[\"modelled_types\"]\n",
    "api = wbpy.IndicatorAPI()\n",
    "total_population = \"SP.POP.TOTL\"\n",
    "\n",
    "df_pop = api.get_dataset(total_population, countries_1, date=\"2000:2014\")\n",
    "df_pop.api_url\n",
    "\n",
    "#c_api.ARG_DEFINITIONS[\"instrumental_types\"]\n",
    "\n",
    "# {'pr': 'Precipitation (rainfall and assumed water equivalent), in millimeters',\n",
    " #'tas': 'Temperature, in degrees Celsius'}\n",
    "\n",
    "# ['year', 'month', 'decade']\n",
    "\n",
    "# df_temp = c_api.get_instrumental(data_type=\"tas\", interval=\"year\", locations=countries_1)\n",
    "\n",
    "\n",
    "\n"
   ]
  },
  {
   "cell_type": "code",
   "execution_count": 84,
   "metadata": {},
   "outputs": [
    {
     "name": "stdout",
     "output_type": "stream",
     "text": [
      "['C:/Users/zalle/Documents/GitHub/capstone-1/data/population\\\\__webfilesext_APIPROD_Downloads_59c14f32-413c-4358-9e2c-66554d6b00a9.csv', 'C:/Users/zalle/Documents/GitHub/capstone-1/data/population\\\\__webfilesext_APIPROD_Downloads_a7b5ffa6-0613-4d93-bb61-0ce3c2be0a45.csv', 'C:/Users/zalle/Documents/GitHub/capstone-1/data/population\\\\__webfilesext_APIPROD_Downloads_b7e50a93-905c-45af-afd3-bdbbd9056a69.csv', 'C:/Users/zalle/Documents/GitHub/capstone-1/data/population\\\\__webfilesext_APIPROD_Downloads_d4b5eaa6-9946-4a91-9f88-ccf254be58b5.csv', 'C:/Users/zalle/Documents/GitHub/capstone-1/data/population\\\\__webfilesext_APIPROD_Downloads_d6b4d219-ea8c-42dd-b73f-98397b10c47d.csv']\n",
      "(107, 18)\n",
      "  Country Name Country Code        2000        2001          2002  \\\n",
      "0   Bangladesh          BGD   131581243   134107160  1.366007e+08   \n",
      "1      Bolivia          BOL     8339512     8496375  8.653345e+06   \n",
      "2        China          CHN  1262645000  1271850000  1.280400e+09   \n",
      "3     Honduras          HND     6524283     6693061  6.863157e+06   \n",
      "4        Haiti          HTI     8549200     8692567  8.834733e+06   \n",
      "\n",
      "           2003          2004          2005          2006          2007  \\\n",
      "0  1.390190e+08  1.413075e+08  1.434311e+08  1.453680e+08  1.471392e+08   \n",
      "1  8.810420e+06  8.967741e+06  9.125409e+06  9.283334e+06  9.441444e+06   \n",
      "2  1.288400e+09  1.296075e+09  1.303720e+09  1.311020e+09  1.317885e+09   \n",
      "3  7.033821e+06  7.204153e+06  7.373430e+06  7.541406e+06  7.707972e+06   \n",
      "4  8.976552e+06  9.119178e+06  9.263404e+06  9.409457e+06  9.556889e+06   \n",
      "\n",
      "           2008          2009          2010          2011          2012  \\\n",
      "0  1.488058e+08  1.504547e+08  1.521491e+08  1.539119e+08  1.557271e+08   \n",
      "1  9.599855e+06  9.758748e+06  9.918242e+06  1.007834e+07  1.023900e+07   \n",
      "2  1.324655e+09  1.331260e+09  1.337705e+09  1.344130e+09  1.350695e+09   \n",
      "3  7.872658e+06  8.035021e+06  8.194778e+06  8.351600e+06  8.505646e+06   \n",
      "4  9.705029e+06  9.852870e+06  9.999617e+06  1.014505e+07  1.028921e+07   \n",
      "\n",
      "           2013          2014  Unnamed: 17  \n",
      "0  1.575713e+08  1.594053e+08          NaN  \n",
      "1  1.040026e+07  1.056216e+07          NaN  \n",
      "2  1.357380e+09  1.364270e+09          NaN  \n",
      "3  8.657785e+06  8.809216e+06          NaN  \n",
      "4  1.043178e+07  1.057247e+07          NaN  \n"
     ]
    }
   ],
   "source": [
    "# Import necessary modules\n",
    "import glob\n",
    "import os\n",
    "import pandas as pd\n",
    "\n",
    "# Write the pattern: pattern\n",
    "path = \"C:/Users/zalle/Documents/GitHub/capstone-1/data/population\"\n",
    "csv_files = glob.glob(os.path.join(path, \"*.csv\"))\n",
    "\n",
    "# Print the file names\n",
    "print(csv_files)\n",
    "\n",
    "\n",
    "# Create an empty list: frames\n",
    "frames = []\n",
    "\n",
    "#  Iterate over csv_files\n",
    "for csv in csv_files:\n",
    "\n",
    "    #  Read csv into a DataFrame: df\n",
    "    df = pd.read_csv(csv)\n",
    "    \n",
    "    # Append df to frames\n",
    "    frames.append(df)\n",
    "    \n",
    "# Concatenate frames into a single DataFrame: uber\n",
    "uber = pd.concat(frames)\n",
    "\n",
    "# Print the shape of uber\n",
    "print(uber.shape)\n",
    "\n",
    "# Print the head of uber\n",
    "print(uber.head())\n",
    "#uber.to_csv(path_or_buf='C:/Users/zalle/Documents/GitHub/capstone-1/data/population_total.csv')\n",
    "# uber.to_csv(path_or_buf='C:/Users/zalle/Documents/GitHub/capstone-1/data/population/population_total.csv')\n",
    "#, value_vars=['2000', '2001', '2002', '2003', '2004', '2005', '2006', '2007', '2008', '2009', '2010', '2011', '2012', '2013', '2014'], value_name=['Year'])"
   ]
  },
  {
   "cell_type": "code",
   "execution_count": 107,
   "metadata": {},
   "outputs": [],
   "source": [
    "df = pd.read_csv('C:/Users/zalle/Documents/GitHub/capstone-1/data/population_total1.csv')\n",
    "\n",
    "df = df.melt(id_vars=['country_name', 'country_code'], var_name='year', value_vars=['2000', '2001', '2002', '2003', '2004', '2005', '2006', '2007', '2008', '2009', '2010', '2011', '2012', '2013', '2014'], value_name='population')\n",
    "df.head()\n",
    "df.isnull().any()\n",
    "df.to_csv(path_or_buf='C:/Users/zalle/Documents/GitHub/capstone-1/data/population_total.csv')"
   ]
  }
 ],
 "metadata": {
  "kernelspec": {
   "display_name": "Python 3",
   "language": "python",
   "name": "python3"
  },
  "language_info": {
   "codemirror_mode": {
    "name": "ipython",
    "version": 3
   },
   "file_extension": ".py",
   "mimetype": "text/x-python",
   "name": "python",
   "nbconvert_exporter": "python",
   "pygments_lexer": "ipython3",
   "version": "3.6.2"
  }
 },
 "nbformat": 4,
 "nbformat_minor": 2
}
