{
 "cells": [
  {
   "cell_type": "code",
   "execution_count": 6,
   "metadata": {
    "collapsed": true
   },
   "outputs": [],
   "source": [
    "import wbpy\n",
    "import pandas as pd"
   ]
  },
  {
   "cell_type": "code",
   "execution_count": 7,
   "metadata": {
    "collapsed": true
   },
   "outputs": [],
   "source": [
    "df_working = pd.read_csv('C:/Users/zalle/Documents/GitHub/capstone-1/data/df_working_copy.csv')\n"
   ]
  },
  {
   "cell_type": "markdown",
   "metadata": {},
   "source": [
    "df_pop = []\n",
    "\n",
    "for country in countries\n",
    "    "
   ]
  },
  {
   "cell_type": "markdown",
   "metadata": {},
   "source": [
    "countries = list(df_working.country_code.unique())\n",
    "print(df_working.country_code.nunique())\n",
    "countries_1 = countries[81:107]\n",
    "countries_2 = countries[11:21]\n",
    "countries_3 = countries[21:31]\n",
    "countries_4 = countries[31:41]\n",
    "countries_5 = countries[41:51]\n",
    "countries_6 = countries[51:61]\n",
    "countries_7 = countries[61:71]\n",
    "print(countries_2)\n"
   ]
  },
  {
   "cell_type": "markdown",
   "metadata": {},
   "source": [
    "c_api = wbpy.ClimateAPI()\n",
    "c_api.ARG_DEFINITIONS[\"modelled_types\"]\n",
    "api = wbpy.IndicatorAPI()\n",
    "total_population = \"SP.POP.TOTL\"\n",
    "\n",
    "df_pop = api.get_dataset(total_population, countries_1, date=\"2000:2014\")\n",
    "df_pop.api_url\n",
    "\n",
    "#c_api.ARG_DEFINITIONS[\"instrumental_types\"]\n",
    "\n",
    "# {'pr': 'Precipitation (rainfall and assumed water equivalent), in millimeters',\n",
    " #'tas': 'Temperature, in degrees Celsius'}\n",
    "\n",
    "# ['year', 'month', 'decade']\n",
    "\n",
    "# df_temp = c_api.get_instrumental(data_type=\"tas\", interval=\"year\", locations=countries_1)\n",
    "\n",
    "\n",
    "\n"
   ]
  },
  {
   "cell_type": "markdown",
   "metadata": {},
   "source": [
    "# Import necessary modules\n",
    "import glob\n",
    "import os\n",
    "import pandas as pd\n",
    "\n",
    "# Write the pattern: pattern\n",
    "path = \"C:/Users/zalle/Documents/GitHub/capstone-1/data/population\"\n",
    "csv_files = glob.glob(os.path.join(path, \"*.csv\"))\n",
    "\n",
    "# Print the file names\n",
    "print(csv_files)\n",
    "\n",
    "\n",
    "# Create an empty list: frames\n",
    "frames = []\n",
    "\n",
    "#  Iterate over csv_files\n",
    "for csv in csv_files:\n",
    "\n",
    "    #  Read csv into a DataFrame: df\n",
    "    df = pd.read_csv(csv)\n",
    "    \n",
    "    # Append df to frames\n",
    "    frames.append(df)\n",
    "    \n",
    "# Concatenate frames into a single DataFrame: uber\n",
    "uber = pd.concat(frames)\n",
    "\n",
    "# Print the shape of uber\n",
    "print(uber.shape)\n",
    "\n",
    "# Print the head of uber\n",
    "print(uber.head())\n",
    "#uber.to_csv(path_or_buf='C:/Users/zalle/Documents/GitHub/capstone-1/data/population_total.csv')\n",
    "# uber.to_csv(path_or_buf='C:/Users/zalle/Documents/GitHub/capstone-1/data/population/population_total.csv')\n",
    "#, value_vars=['2000', '2001', '2002', '2003', '2004', '2005', '2006', '2007', '2008', '2009', '2010', '2011', '2012', '2013', '2014'], value_name=['Year'])"
   ]
  },
  {
   "cell_type": "markdown",
   "metadata": {},
   "source": [
    "df = pd.read_csv('C:/Users/zalle/Documents/GitHub/capstone-1/data/population_total1.csv')\n",
    "\n",
    "df = df.melt(id_vars=['country_name', 'country_code'], var_name='year', value_vars=['2000', '2001', '2002', '2003', '2004', '2005', '2006', '2007', '2008', '2009', '2010', '2011', '2012', '2013', '2014'], value_name='population')\n",
    "df.head()\n",
    "df.isnull().any()\n",
    "df.to_csv(path_or_buf='C:/Users/zalle/Documents/GitHub/capstone-1/data/population_total.csv')"
   ]
  },
  {
   "cell_type": "markdown",
   "metadata": {},
   "source": [
    "## temp data"
   ]
  },
  {
   "cell_type": "markdown",
   "metadata": {},
   "source": [
    "# Import necessary modules\n",
    "import glob\n",
    "import os\n",
    "import pandas as pd\n",
    "\n",
    "# Write the pattern: pattern\n",
    "path = \"C:/Users/zalle/Documents/GitHub/capstone-1/data/temperature\"\n",
    "csv_files = glob.glob(os.path.join(path, \"*.csv\"))\n",
    "\n",
    "# Print the file names\n",
    "print(csv_files)\n",
    "\n",
    "\n",
    "# Create an empty list: frames\n",
    "frames = []\n",
    "\n",
    "#  Iterate over csv_files\n",
    "for csv in csv_files:\n",
    "\n",
    "    #  Read csv into a DataFrame: df\n",
    "    df = pd.read_csv(csv)\n",
    "    \n",
    "    # Append df to frames\n",
    "    frames.append(df)\n",
    "    "
   ]
  },
  {
   "cell_type": "markdown",
   "metadata": {},
   "source": [
    "# Concatenate frames into a single DataFrame: uber\n",
    "temp = pd.concat(frames)\n",
    "\n",
    "# Print the shape of uber\n",
    "print(temp.shape)\n",
    "\n",
    "temp.to_csv(path_or_buf='C:/Users/zalle/Documents/GitHub/capstone-1/data/temp.csv')\n",
    "\n",
    "# Print the head of uber\n",
    "print(temp.head())"
   ]
  },
  {
   "cell_type": "code",
   "execution_count": 29,
   "metadata": {},
   "outputs": [
    {
     "name": "stdout",
     "output_type": "stream",
     "text": [
      "['C:/Users/zalle/Documents/GitHub/capstone-1/data/rain\\\\pr_1991_2015 (1).csv', 'C:/Users/zalle/Documents/GitHub/capstone-1/data/rain\\\\pr_1991_2015 (2).csv', 'C:/Users/zalle/Documents/GitHub/capstone-1/data/rain\\\\pr_1991_2015 (3).csv', 'C:/Users/zalle/Documents/GitHub/capstone-1/data/rain\\\\pr_1991_2015 (4).csv', 'C:/Users/zalle/Documents/GitHub/capstone-1/data/rain\\\\pr_1991_2015 (5).csv', 'C:/Users/zalle/Documents/GitHub/capstone-1/data/rain\\\\pr_1991_2015 (6).csv', 'C:/Users/zalle/Documents/GitHub/capstone-1/data/rain\\\\pr_1991_2015 (7).csv', 'C:/Users/zalle/Documents/GitHub/capstone-1/data/rain\\\\pr_1991_2015.csv']\n",
      "(65400, 4)\n",
      "        pr  \\tYear   Month  Country\n",
      "0  140.759    1991       1      GUY\n",
      "1   89.155    1991       2      GUY\n",
      "2  103.458    1991       3      GUY\n",
      "3  214.610    1991       4      GUY\n",
      "4  290.415    1991       5      GUY\n"
     ]
    }
   ],
   "source": [
    "# Import necessary modules\n",
    "import glob\n",
    "import os\n",
    "import pandas as pd\n",
    "\n",
    "# Write the pattern: pattern\n",
    "path = \"C:/Users/zalle/Documents/GitHub/capstone-1/data/rain\"\n",
    "csv_files = glob.glob(os.path.join(path, \"*.csv\"))\n",
    "\n",
    "# Print the file names\n",
    "print(csv_files)\n",
    "\n",
    "\n",
    "# Create an empty list: frames\n",
    "frames = []\n",
    "\n",
    "#  Iterate over csv_files\n",
    "for csv in csv_files:\n",
    "\n",
    "    #  Read csv into a DataFrame: df\n",
    "    df = pd.read_csv(csv)\n",
    "    \n",
    "    # Append df to frames\n",
    "    frames.append(df)\n",
    "    \n",
    "# Concatenate frames into a single DataFrame: uber\n",
    "rain = pd.concat(frames)\n",
    "\n",
    "# Print the shape of uber\n",
    "print(rain.shape)\n",
    "\n",
    "# Print the head of uber\n",
    "print(rain.head())\n",
    "\n",
    "rain.to_csv(path_or_buf='C:/Users/zalle/Documents/GitHub/capstone-1/data/rain.csv')"
   ]
  }
 ],
 "metadata": {
  "kernelspec": {
   "display_name": "Python 3",
   "language": "python",
   "name": "python3"
  },
  "language_info": {
   "codemirror_mode": {
    "name": "ipython",
    "version": 3
   },
   "file_extension": ".py",
   "mimetype": "text/x-python",
   "name": "python",
   "nbconvert_exporter": "python",
   "pygments_lexer": "ipython3",
   "version": "3.6.2"
  }
 },
 "nbformat": 4,
 "nbformat_minor": 2
}
