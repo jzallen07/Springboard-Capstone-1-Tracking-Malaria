{
 "cells": [
  {
   "cell_type": "code",
   "execution_count": 1279,
   "metadata": {
    "collapsed": true
   },
   "outputs": [],
   "source": [
    "#Import Packages\n",
    "import pandas as pd\n",
    "import numpy as np\n",
    "import matplotlib.pyplot as plt\n",
    "import seaborn as sns\n",
    "sns.set()\n",
    "import scipy.stats as stats\n",
    "from functools import reduce \n",
    "%matplotlib inline"
   ]
  },
  {
   "cell_type": "code",
   "execution_count": 1280,
   "metadata": {
    "collapsed": true
   },
   "outputs": [],
   "source": [
    "# Import Relevant CSV Files\n",
    "pop = pd.read_csv('data/population/population_total.csv')\n",
    "cases = pd.read_csv('data/Originals/reported_indigenous_confirmed_cases.csv')\n",
    "m_deaths = pd.read_csv('data/Originals/reported_deaths.csv')\n",
    "resistance = pd.read_csv('data/Originals/insecticide_resistance.csv')\n",
    "net_dist = pd.read_csv('data/Originals/amf_distributions.csv') \n",
    "temp = pd.read_csv('data/temperature/temp.csv')\n",
    "rain = pd.read_csv('data/rain/rain.csv')\n",
    "incidence = pd.read_csv('data/incidence/incidence.csv')"
   ]
  },
  {
   "cell_type": "markdown",
   "metadata": {},
   "source": [
    "# Data Wrangling and EDA"
   ]
  },
  {
   "cell_type": "markdown",
   "metadata": {},
   "source": [
    "## Reported Cases of Diagnosed Malaria"
   ]
  },
  {
   "cell_type": "code",
   "execution_count": 1281,
   "metadata": {},
   "outputs": [
    {
     "data": {
      "text/plain": [
       "Index(['GHO (CODE)', 'GHO (DISPLAY)', 'GHO (URL)', 'PUBLISHSTATE (CODE)',\n",
       "       'PUBLISHSTATE (DISPLAY)', 'PUBLISHSTATE (URL)', 'YEAR (CODE)',\n",
       "       'YEAR (DISPLAY)', 'YEAR (URL)', 'REGION (CODE)', 'REGION (DISPLAY)',\n",
       "       'REGION (URL)', 'COUNTRY (CODE)', 'COUNTRY (DISPLAY)', 'COUNTRY (URL)',\n",
       "       'Display Value', 'Numeric', 'Low', 'High', 'Comments'],\n",
       "      dtype='object')"
      ]
     },
     "execution_count": 1281,
     "metadata": {},
     "output_type": "execute_result"
    }
   ],
   "source": [
    "cases.columns"
   ]
  },
  {
   "cell_type": "code",
   "execution_count": 1282,
   "metadata": {
    "scrolled": true
   },
   "outputs": [
    {
     "name": "stdout",
     "output_type": "stream",
     "text": [
      "Years from:  2000 - 2014\n",
      "year              False\n",
      "country_code      False\n",
      "reported_cases    False\n",
      "region            False\n",
      "dtype: bool\n",
      "   year country_code  reported_cases region\n",
      "0  2001          EGY             0.0    EMR\n",
      "1  2003          EGY             0.0    EMR\n",
      "2  2013          IRQ             0.0    EMR\n",
      "3  2004          OMN             0.0    EMR\n",
      "4  2012          SYR             0.0    EMR\n",
      "<class 'pandas.core.frame.DataFrame'>\n",
      "RangeIndex: 1392 entries, 0 to 1391\n",
      "Data columns (total 4 columns):\n",
      "year              1392 non-null int64\n",
      "country_code      1392 non-null object\n",
      "reported_cases    1392 non-null float64\n",
      "region            1392 non-null object\n",
      "dtypes: float64(1), int64(1), object(2)\n",
      "memory usage: 43.6+ KB\n",
      "None\n"
     ]
    }
   ],
   "source": [
    "cases = cases.rename(columns={'YEAR (CODE)':'year',\n",
    "                    'REGION (CODE)':'region',\n",
    "                    'COUNTRY (CODE)':'country_code',\n",
    "                    'REGION (CODE)' : 'region',\n",
    "                     'COUNTRY (DISPLAY)' : 'country_name',         \n",
    "                    'Numeric':'reported_cases'})\n",
    "\n",
    "cases = cases[['year', 'country_code','reported_cases', 'region']]\n",
    "\n",
    "print('Years from:', '', cases['year'].min(), '-', cases['year'].max())\n",
    "print(cases.isnull().any())\n",
    "print(cases.head())\n",
    "print(cases.info())"
   ]
  },
  {
   "cell_type": "code",
   "execution_count": 1283,
   "metadata": {
    "collapsed": true
   },
   "outputs": [],
   "source": [
    "cases_sum = cases.groupby('year').sum()"
   ]
  },
  {
   "cell_type": "code",
   "execution_count": 1284,
   "metadata": {},
   "outputs": [
    {
     "data": {
      "text/html": [
       "<div>\n",
       "<style>\n",
       "    .dataframe thead tr:only-child th {\n",
       "        text-align: right;\n",
       "    }\n",
       "\n",
       "    .dataframe thead th {\n",
       "        text-align: left;\n",
       "    }\n",
       "\n",
       "    .dataframe tbody tr th {\n",
       "        vertical-align: top;\n",
       "    }\n",
       "</style>\n",
       "<table border=\"1\" class=\"dataframe\">\n",
       "  <thead>\n",
       "    <tr style=\"text-align: right;\">\n",
       "      <th></th>\n",
       "      <th>reported_cases</th>\n",
       "    </tr>\n",
       "    <tr>\n",
       "      <th>year</th>\n",
       "      <th></th>\n",
       "    </tr>\n",
       "  </thead>\n",
       "  <tbody>\n",
       "    <tr>\n",
       "      <th>2000</th>\n",
       "      <td>7782615.8</td>\n",
       "    </tr>\n",
       "    <tr>\n",
       "      <th>2001</th>\n",
       "      <td>6929445.2</td>\n",
       "    </tr>\n",
       "    <tr>\n",
       "      <th>2002</th>\n",
       "      <td>7926897.5</td>\n",
       "    </tr>\n",
       "    <tr>\n",
       "      <th>2003</th>\n",
       "      <td>10673614.1</td>\n",
       "    </tr>\n",
       "    <tr>\n",
       "      <th>2004</th>\n",
       "      <td>10687696.0</td>\n",
       "    </tr>\n",
       "    <tr>\n",
       "      <th>2005</th>\n",
       "      <td>12181704.0</td>\n",
       "    </tr>\n",
       "    <tr>\n",
       "      <th>2006</th>\n",
       "      <td>12023237.0</td>\n",
       "    </tr>\n",
       "    <tr>\n",
       "      <th>2007</th>\n",
       "      <td>13769700.0</td>\n",
       "    </tr>\n",
       "    <tr>\n",
       "      <th>2008</th>\n",
       "      <td>14161401.0</td>\n",
       "    </tr>\n",
       "    <tr>\n",
       "      <th>2009</th>\n",
       "      <td>17781384.0</td>\n",
       "    </tr>\n",
       "  </tbody>\n",
       "</table>\n",
       "</div>"
      ],
      "text/plain": [
       "      reported_cases\n",
       "year                \n",
       "2000       7782615.8\n",
       "2001       6929445.2\n",
       "2002       7926897.5\n",
       "2003      10673614.1\n",
       "2004      10687696.0\n",
       "2005      12181704.0\n",
       "2006      12023237.0\n",
       "2007      13769700.0\n",
       "2008      14161401.0\n",
       "2009      17781384.0"
      ]
     },
     "execution_count": 1284,
     "metadata": {},
     "output_type": "execute_result"
    }
   ],
   "source": [
    "cases_sum.head(10)"
   ]
  },
  {
   "cell_type": "code",
   "execution_count": 1285,
   "metadata": {
    "scrolled": true
   },
   "outputs": [
    {
     "data": {
      "text/plain": [
       "<matplotlib.collections.PathCollection at 0x1bca017d1d0>"
      ]
     },
     "execution_count": 1285,
     "metadata": {},
     "output_type": "execute_result"
    },
    {
     "data": {
      "image/png": "[encoded data removed]",
      "text/plain": [
       "<matplotlib.figure.Figure at 0x1bc9c9fb780>"
      ]
     },
     "metadata": {},
     "output_type": "display_data"
    }
   ],
   "source": [
    "plt.scatter(cases_sum.index, cases_sum['reported_cases'])"
   ]
  },
  {
   "cell_type": "code",
   "execution_count": 1286,
   "metadata": {},
   "outputs": [
    {
     "data": {
      "text/html": [
       "<div>\n",
       "<style>\n",
       "    .dataframe thead tr:only-child th {\n",
       "        text-align: right;\n",
       "    }\n",
       "\n",
       "    .dataframe thead th {\n",
       "        text-align: left;\n",
       "    }\n",
       "\n",
       "    .dataframe tbody tr th {\n",
       "        vertical-align: top;\n",
       "    }\n",
       "</style>\n",
       "<table border=\"1\" class=\"dataframe\">\n",
       "  <thead>\n",
       "    <tr style=\"text-align: right;\">\n",
       "      <th></th>\n",
       "      <th></th>\n",
       "      <th>reported_cases</th>\n",
       "    </tr>\n",
       "    <tr>\n",
       "      <th>region</th>\n",
       "      <th>year</th>\n",
       "      <th></th>\n",
       "    </tr>\n",
       "  </thead>\n",
       "  <tbody>\n",
       "    <tr>\n",
       "      <th rowspan=\"5\" valign=\"top\">AFR</th>\n",
       "      <th>2000</th>\n",
       "      <td>1383633.8</td>\n",
       "    </tr>\n",
       "    <tr>\n",
       "      <th>2001</th>\n",
       "      <td>2356596.2</td>\n",
       "    </tr>\n",
       "    <tr>\n",
       "      <th>2002</th>\n",
       "      <td>3290639.5</td>\n",
       "    </tr>\n",
       "    <tr>\n",
       "      <th>2003</th>\n",
       "      <td>5492411.1</td>\n",
       "    </tr>\n",
       "    <tr>\n",
       "      <th>2004</th>\n",
       "      <td>5881545.0</td>\n",
       "    </tr>\n",
       "  </tbody>\n",
       "</table>\n",
       "</div>"
      ],
      "text/plain": [
       "             reported_cases\n",
       "region year                \n",
       "AFR    2000       1383633.8\n",
       "       2001       2356596.2\n",
       "       2002       3290639.5\n",
       "       2003       5492411.1\n",
       "       2004       5881545.0"
      ]
     },
     "execution_count": 1286,
     "metadata": {},
     "output_type": "execute_result"
    }
   ],
   "source": [
    "cases_by_region = cases.groupby(['region', 'year']).sum()\n",
    "cases_by_region.head()\n"
   ]
  },
  {
   "cell_type": "code",
   "execution_count": 1287,
   "metadata": {},
   "outputs": [
    {
     "data": {
      "text/html": [
       "<div>\n",
       "<style>\n",
       "    .dataframe thead tr:only-child th {\n",
       "        text-align: right;\n",
       "    }\n",
       "\n",
       "    .dataframe thead th {\n",
       "        text-align: left;\n",
       "    }\n",
       "\n",
       "    .dataframe tbody tr th {\n",
       "        vertical-align: top;\n",
       "    }\n",
       "</style>\n",
       "<table border=\"1\" class=\"dataframe\">\n",
       "  <thead>\n",
       "    <tr style=\"text-align: right;\">\n",
       "      <th></th>\n",
       "      <th>region</th>\n",
       "      <th>year</th>\n",
       "      <th>reported_cases</th>\n",
       "    </tr>\n",
       "  </thead>\n",
       "  <tbody>\n",
       "    <tr>\n",
       "      <th>0</th>\n",
       "      <td>AFR</td>\n",
       "      <td>2000</td>\n",
       "      <td>1383633.8</td>\n",
       "    </tr>\n",
       "    <tr>\n",
       "      <th>1</th>\n",
       "      <td>AFR</td>\n",
       "      <td>2001</td>\n",
       "      <td>2356596.2</td>\n",
       "    </tr>\n",
       "    <tr>\n",
       "      <th>2</th>\n",
       "      <td>AFR</td>\n",
       "      <td>2002</td>\n",
       "      <td>3290639.5</td>\n",
       "    </tr>\n",
       "    <tr>\n",
       "      <th>3</th>\n",
       "      <td>AFR</td>\n",
       "      <td>2003</td>\n",
       "      <td>5492411.1</td>\n",
       "    </tr>\n",
       "    <tr>\n",
       "      <th>4</th>\n",
       "      <td>AFR</td>\n",
       "      <td>2004</td>\n",
       "      <td>5881545.0</td>\n",
       "    </tr>\n",
       "  </tbody>\n",
       "</table>\n",
       "</div>"
      ],
      "text/plain": [
       "  region  year  reported_cases\n",
       "0    AFR  2000       1383633.8\n",
       "1    AFR  2001       2356596.2\n",
       "2    AFR  2002       3290639.5\n",
       "3    AFR  2003       5492411.1\n",
       "4    AFR  2004       5881545.0"
      ]
     },
     "execution_count": 1287,
     "metadata": {},
     "output_type": "execute_result"
    }
   ],
   "source": [
    "regions = list(cases['region'].unique())\n",
    "regions = sorted(countries_cases, key=str.lower)\n",
    "\n",
    "# cases_by_region = cases_by_region.unstack(level=0)\n",
    "# cases_by_region.columns = cases_by_region.columns.droplevel(1)\n",
    "# cases_by_region.columns = regions\n",
    "cases_by_region = cases_by_region.reset_index()\n",
    "cases_by_region.head()\n"
   ]
  },
  {
   "cell_type": "code",
   "execution_count": 1288,
   "metadata": {},
   "outputs": [],
   "source": [
    "# cases_by_region = pd.melt(cases_by_region, id_vars='year', var_name='region', value_vars=regions, value_name='reported_cases')"
   ]
  },
  {
   "cell_type": "code",
   "execution_count": 1289,
   "metadata": {},
   "outputs": [],
   "source": [
    "# cases_by_region.head()\n"
   ]
  },
  {
   "cell_type": "code",
   "execution_count": 1290,
   "metadata": {},
   "outputs": [
    {
     "data": {
      "image/png": "[encoded data removed]",
      "text/plain": [
       "<matplotlib.figure.Figure at 0x1bc9fca3198>"
      ]
     },
     "metadata": {},
     "output_type": "display_data"
    }
   ],
   "source": [
    "ax = None\n",
    "for group in cases_by_region.groupby('region'):\n",
    "    ax = group[1].plot(x=year, y='reported_cases', figsize=(8,6), ax=ax)\n",
    "ax.legend(regions)\n",
    "ax.set_xlabel('Year')\n",
    "ax.set_ylabel('Number of Cases')\n",
    "ax.set_title('Cases by region')\n",
    "plt.show()"
   ]
  },
  {
   "cell_type": "code",
   "execution_count": 1291,
   "metadata": {},
   "outputs": [
    {
     "data": {
      "text/html": [
       "<div>\n",
       "<style>\n",
       "    .dataframe thead tr:only-child th {\n",
       "        text-align: right;\n",
       "    }\n",
       "\n",
       "    .dataframe thead th {\n",
       "        text-align: left;\n",
       "    }\n",
       "\n",
       "    .dataframe tbody tr th {\n",
       "        vertical-align: top;\n",
       "    }\n",
       "</style>\n",
       "<table border=\"1\" class=\"dataframe\">\n",
       "  <thead>\n",
       "    <tr style=\"text-align: right;\">\n",
       "      <th></th>\n",
       "      <th>country_code</th>\n",
       "      <th>year</th>\n",
       "      <th>reported_cases</th>\n",
       "    </tr>\n",
       "  </thead>\n",
       "  <tbody>\n",
       "    <tr>\n",
       "      <th>0</th>\n",
       "      <td>AGO</td>\n",
       "      <td>2005</td>\n",
       "      <td>889572.0</td>\n",
       "    </tr>\n",
       "    <tr>\n",
       "      <th>1</th>\n",
       "      <td>AGO</td>\n",
       "      <td>2006</td>\n",
       "      <td>1082398.0</td>\n",
       "    </tr>\n",
       "    <tr>\n",
       "      <th>2</th>\n",
       "      <td>AGO</td>\n",
       "      <td>2007</td>\n",
       "      <td>1533485.0</td>\n",
       "    </tr>\n",
       "    <tr>\n",
       "      <th>3</th>\n",
       "      <td>AGO</td>\n",
       "      <td>2008</td>\n",
       "      <td>1377992.0</td>\n",
       "    </tr>\n",
       "    <tr>\n",
       "      <th>4</th>\n",
       "      <td>AGO</td>\n",
       "      <td>2009</td>\n",
       "      <td>1573422.0</td>\n",
       "    </tr>\n",
       "  </tbody>\n",
       "</table>\n",
       "</div>"
      ],
      "text/plain": [
       "  country_code  year  reported_cases\n",
       "0          AGO  2005        889572.0\n",
       "1          AGO  2006       1082398.0\n",
       "2          AGO  2007       1533485.0\n",
       "3          AGO  2008       1377992.0\n",
       "4          AGO  2009       1573422.0"
      ]
     },
     "execution_count": 1291,
     "metadata": {},
     "output_type": "execute_result"
    }
   ],
   "source": [
    "africa = cases[(cases['region'] == 'AFR')]\n",
    "africa_by_country = africa.groupby(['country_code', 'year']).sum()\n",
    "africa_by_country = africa_by_country.reset_index()\n",
    "africa_by_country.head()\n"
   ]
  },
  {
   "cell_type": "code",
   "execution_count": 1292,
   "metadata": {},
   "outputs": [
    {
     "data": {
      "image/png": "[encoded data removed]",
      "text/plain": [
       "<matplotlib.figure.Figure at 0x1bc9f85db00>"
      ]
     },
     "metadata": {},
     "output_type": "display_data"
    }
   ],
   "source": [
    "case_countries = africa_by_country.country_code.unique()\n",
    "ax1 = None\n",
    "for group in africa_by_country.groupby('country_code'):\n",
    "    ax1 = group[1].plot(x='year', y='reported_cases', figsize=(8,6), ax=ax1)\n",
    "ax1.legend(case_countries, loc=2)\n",
    "ax1.set_xlabel('Year')\n",
    "ax1.set_ylabel('Number of Cases')\n",
    "ax1.set_title('Taking a closer look at africa')\n",
    "plt.show()"
   ]
  },
  {
   "cell_type": "code",
   "execution_count": 1293,
   "metadata": {},
   "outputs": [
    {
     "name": "stdout",
     "output_type": "stream",
     "text": [
      "    country_code  year  reported_cases\n",
      "93           COD  2014       9968983.0\n",
      "330          NGA  2014       7826954.0\n",
      "289          MOZ  2014       7117648.0\n",
      "40           BFA  2014       5428655.0\n",
      "24           BDI  2014       4585273.0\n"
     ]
    }
   ],
   "source": [
    "AFR2014 = africa_by_country[(africa_by_country['year'] == 2014)]\n",
    "print(AFR2014.sort_values([\"reported_cases\"], ascending=False).head(5))"
   ]
  },
  {
   "cell_type": "markdown",
   "metadata": {},
   "source": [
    "## Mortality Data"
   ]
  },
  {
   "cell_type": "code",
   "execution_count": 1294,
   "metadata": {},
   "outputs": [
    {
     "data": {
      "text/plain": [
       "Index(['GHO (CODE)', 'GHO (DISPLAY)', 'GHO (URL)', 'PUBLISHSTATE (CODE)',\n",
       "       'PUBLISHSTATE (DISPLAY)', 'PUBLISHSTATE (URL)', 'YEAR (CODE)',\n",
       "       'YEAR (DISPLAY)', 'YEAR (URL)', 'REGION (CODE)', 'REGION (DISPLAY)',\n",
       "       'REGION (URL)', 'COUNTRY (CODE)', 'COUNTRY (DISPLAY)', 'COUNTRY (URL)',\n",
       "       'Display Value', 'Numeric', 'Low', 'High', 'Comments'],\n",
       "      dtype='object')"
      ]
     },
     "execution_count": 1294,
     "metadata": {},
     "output_type": "execute_result"
    }
   ],
   "source": [
    "m_deaths.columns"
   ]
  },
  {
   "cell_type": "code",
   "execution_count": 1295,
   "metadata": {},
   "outputs": [
    {
     "name": "stdout",
     "output_type": "stream",
     "text": [
      "Years from:  2000 - 2014\n",
      "year               False\n",
      "country_code       False\n",
      "reported_deaths    False\n",
      "region             False\n",
      "dtype: bool\n",
      "   year country_code  reported_deaths region\n",
      "0  2008          DZA              0.0    AFR\n",
      "1  2012          DZA              0.0    AFR\n",
      "2  2014          DZA              0.0    AFR\n",
      "3  2001          CPV              0.0    AFR\n",
      "4  2013          CPV              0.0    AFR\n",
      "<class 'pandas.core.frame.DataFrame'>\n",
      "RangeIndex: 1408 entries, 0 to 1407\n",
      "Data columns (total 4 columns):\n",
      "year               1408 non-null int64\n",
      "country_code       1408 non-null object\n",
      "reported_deaths    1408 non-null float64\n",
      "region             1408 non-null object\n",
      "dtypes: float64(1), int64(1), object(2)\n",
      "memory usage: 44.1+ KB\n",
      "None\n"
     ]
    }
   ],
   "source": [
    "m_deaths = m_deaths.rename(columns={'YEAR (CODE)':'year',\n",
    "                    'REGION (CODE)':'region',\n",
    "                    'COUNTRY (CODE)':'country_code',\n",
    "                    'Numeric':'reported_deaths'})\n",
    "m_deaths = m_deaths[['year', 'country_code','reported_deaths', 'region']]\n",
    "\n",
    "print('Years from:', '', m_deaths['year'].min(), '-', m_deaths['year'].max())\n",
    "print(m_deaths.isnull().any())\n",
    "print(m_deaths.head())\n",
    "print(m_deaths.info())"
   ]
  },
  {
   "cell_type": "code",
   "execution_count": 1297,
   "metadata": {},
   "outputs": [
    {
     "data": {
      "text/html": [
       "<div>\n",
       "<style>\n",
       "    .dataframe thead tr:only-child th {\n",
       "        text-align: right;\n",
       "    }\n",
       "\n",
       "    .dataframe thead th {\n",
       "        text-align: left;\n",
       "    }\n",
       "\n",
       "    .dataframe tbody tr th {\n",
       "        vertical-align: top;\n",
       "    }\n",
       "</style>\n",
       "<table border=\"1\" class=\"dataframe\">\n",
       "  <thead>\n",
       "    <tr style=\"text-align: right;\">\n",
       "      <th></th>\n",
       "      <th>reported_deaths</th>\n",
       "    </tr>\n",
       "    <tr>\n",
       "      <th>year</th>\n",
       "      <th></th>\n",
       "    </tr>\n",
       "  </thead>\n",
       "  <tbody>\n",
       "    <tr>\n",
       "      <th>2000</th>\n",
       "      <td>88222.0</td>\n",
       "    </tr>\n",
       "    <tr>\n",
       "      <th>2001</th>\n",
       "      <td>112615.0</td>\n",
       "    </tr>\n",
       "    <tr>\n",
       "      <th>2002</th>\n",
       "      <td>119338.0</td>\n",
       "    </tr>\n",
       "    <tr>\n",
       "      <th>2003</th>\n",
       "      <td>161581.0</td>\n",
       "    </tr>\n",
       "    <tr>\n",
       "      <th>2004</th>\n",
       "      <td>122025.0</td>\n",
       "    </tr>\n",
       "    <tr>\n",
       "      <th>2005</th>\n",
       "      <td>144366.0</td>\n",
       "    </tr>\n",
       "    <tr>\n",
       "      <th>2006</th>\n",
       "      <td>144514.0</td>\n",
       "    </tr>\n",
       "    <tr>\n",
       "      <th>2007</th>\n",
       "      <td>108011.0</td>\n",
       "    </tr>\n",
       "    <tr>\n",
       "      <th>2008</th>\n",
       "      <td>109122.0</td>\n",
       "    </tr>\n",
       "    <tr>\n",
       "      <th>2009</th>\n",
       "      <td>136892.0</td>\n",
       "    </tr>\n",
       "  </tbody>\n",
       "</table>\n",
       "</div>"
      ],
      "text/plain": [
       "      reported_deaths\n",
       "year                 \n",
       "2000          88222.0\n",
       "2001         112615.0\n",
       "2002         119338.0\n",
       "2003         161581.0\n",
       "2004         122025.0\n",
       "2005         144366.0\n",
       "2006         144514.0\n",
       "2007         108011.0\n",
       "2008         109122.0\n",
       "2009         136892.0"
      ]
     },
     "execution_count": 1297,
     "metadata": {},
     "output_type": "execute_result"
    }
   ],
   "source": [
    "deaths_sum = m_deaths.groupby('year').sum()\n",
    "deaths_sum.head(10)"
   ]
  },
  {
   "cell_type": "code",
   "execution_count": 1298,
   "metadata": {},
   "outputs": [
    {
     "data": {
      "text/plain": [
       "<matplotlib.collections.PathCollection at 0x1bc9ff396d8>"
      ]
     },
     "execution_count": 1298,
     "metadata": {},
     "output_type": "execute_result"
    },
    {
     "data": {
      "image/png": "[encoded data removed]",
      "text/plain": [
       "<matplotlib.figure.Figure at 0x1bc9f812c50>"
      ]
     },
     "metadata": {},
     "output_type": "display_data"
    }
   ],
   "source": [
    "plt.scatter(deaths_sum.index, deaths_sum['reported_deaths'])"
   ]
  },
  {
   "cell_type": "code",
   "execution_count": 1299,
   "metadata": {},
   "outputs": [
    {
     "data": {
      "text/html": [
       "<div>\n",
       "<style>\n",
       "    .dataframe thead tr:only-child th {\n",
       "        text-align: right;\n",
       "    }\n",
       "\n",
       "    .dataframe thead th {\n",
       "        text-align: left;\n",
       "    }\n",
       "\n",
       "    .dataframe tbody tr th {\n",
       "        vertical-align: top;\n",
       "    }\n",
       "</style>\n",
       "<table border=\"1\" class=\"dataframe\">\n",
       "  <thead>\n",
       "    <tr style=\"text-align: right;\">\n",
       "      <th></th>\n",
       "      <th></th>\n",
       "      <th>reported_deaths</th>\n",
       "    </tr>\n",
       "    <tr>\n",
       "      <th>region</th>\n",
       "      <th>year</th>\n",
       "      <th></th>\n",
       "    </tr>\n",
       "  </thead>\n",
       "  <tbody>\n",
       "    <tr>\n",
       "      <th rowspan=\"5\" valign=\"top\">AFR</th>\n",
       "      <th>2000</th>\n",
       "      <td>77642.0</td>\n",
       "    </tr>\n",
       "    <tr>\n",
       "      <th>2001</th>\n",
       "      <td>103036.0</td>\n",
       "    </tr>\n",
       "    <tr>\n",
       "      <th>2002</th>\n",
       "      <td>110516.0</td>\n",
       "    </tr>\n",
       "    <tr>\n",
       "      <th>2003</th>\n",
       "      <td>152657.0</td>\n",
       "    </tr>\n",
       "    <tr>\n",
       "      <th>2004</th>\n",
       "      <td>114045.0</td>\n",
       "    </tr>\n",
       "  </tbody>\n",
       "</table>\n",
       "</div>"
      ],
      "text/plain": [
       "             reported_deaths\n",
       "region year                 \n",
       "AFR    2000          77642.0\n",
       "       2001         103036.0\n",
       "       2002         110516.0\n",
       "       2003         152657.0\n",
       "       2004         114045.0"
      ]
     },
     "execution_count": 1299,
     "metadata": {},
     "output_type": "execute_result"
    }
   ],
   "source": [
    "deaths_by_region = m_deaths.groupby(['region', 'year']).sum()\n",
    "deaths_by_region.head()"
   ]
  },
  {
   "cell_type": "code",
   "execution_count": 1300,
   "metadata": {},
   "outputs": [
    {
     "data": {
      "text/html": [
       "<div>\n",
       "<style>\n",
       "    .dataframe thead tr:only-child th {\n",
       "        text-align: right;\n",
       "    }\n",
       "\n",
       "    .dataframe thead th {\n",
       "        text-align: left;\n",
       "    }\n",
       "\n",
       "    .dataframe tbody tr th {\n",
       "        vertical-align: top;\n",
       "    }\n",
       "</style>\n",
       "<table border=\"1\" class=\"dataframe\">\n",
       "  <thead>\n",
       "    <tr style=\"text-align: right;\">\n",
       "      <th></th>\n",
       "      <th>region</th>\n",
       "      <th>year</th>\n",
       "      <th>reported_deaths</th>\n",
       "    </tr>\n",
       "  </thead>\n",
       "  <tbody>\n",
       "    <tr>\n",
       "      <th>0</th>\n",
       "      <td>AFR</td>\n",
       "      <td>2000</td>\n",
       "      <td>77642.0</td>\n",
       "    </tr>\n",
       "    <tr>\n",
       "      <th>1</th>\n",
       "      <td>AFR</td>\n",
       "      <td>2001</td>\n",
       "      <td>103036.0</td>\n",
       "    </tr>\n",
       "    <tr>\n",
       "      <th>2</th>\n",
       "      <td>AFR</td>\n",
       "      <td>2002</td>\n",
       "      <td>110516.0</td>\n",
       "    </tr>\n",
       "    <tr>\n",
       "      <th>3</th>\n",
       "      <td>AFR</td>\n",
       "      <td>2003</td>\n",
       "      <td>152657.0</td>\n",
       "    </tr>\n",
       "    <tr>\n",
       "      <th>4</th>\n",
       "      <td>AFR</td>\n",
       "      <td>2004</td>\n",
       "      <td>114045.0</td>\n",
       "    </tr>\n",
       "  </tbody>\n",
       "</table>\n",
       "</div>"
      ],
      "text/plain": [
       "  region  year  reported_deaths\n",
       "0    AFR  2000          77642.0\n",
       "1    AFR  2001         103036.0\n",
       "2    AFR  2002         110516.0\n",
       "3    AFR  2003         152657.0\n",
       "4    AFR  2004         114045.0"
      ]
     },
     "execution_count": 1300,
     "metadata": {},
     "output_type": "execute_result"
    }
   ],
   "source": [
    "regions_d = list(m_deaths['region'].unique())\n",
    "regions_d = sorted(regions_d, key=str.lower)\n",
    "\n",
    "# deaths_by_region = deaths_by_region.unstack(level=0)\n",
    "# deaths_by_region.columns = deaths_by_region.columns.droplevel(1)\n",
    "# deaths_by_region.columns = regions_d\n",
    "deaths_by_region = deaths_by_region.reset_index()\n",
    "deaths_by_region.head()"
   ]
  },
  {
   "cell_type": "code",
   "execution_count": 1301,
   "metadata": {
    "collapsed": true
   },
   "outputs": [],
   "source": [
    "# deaths_by_region = pd.melt(deaths_by_region, id_vars='year', var_name='region', value_vars=regions, value_name='reported_deaths')"
   ]
  },
  {
   "cell_type": "code",
   "execution_count": 1302,
   "metadata": {},
   "outputs": [],
   "source": [
    "# deaths_by_region.head()"
   ]
  },
  {
   "cell_type": "code",
   "execution_count": 1303,
   "metadata": {},
   "outputs": [
    {
     "data": {
      "image/png": "[encoded data removed]",
      "text/plain": [
       "<matplotlib.figure.Figure at 0x1bca003e1d0>"
      ]
     },
     "metadata": {},
     "output_type": "display_data"
    }
   ],
   "source": [
    "ax = None\n",
    "for group in deaths_by_region.groupby('region'):\n",
    "    ax = group[1].plot(x=year, y='reported_deaths', figsize=(8,6), ax=ax)\n",
    "ax.legend(regions)\n",
    "ax.set_xlabel('Year')\n",
    "ax.set_ylabel('Number of Cases')\n",
    "ax.set_title('Cases by region')\n",
    "plt.show()"
   ]
  },
  {
   "cell_type": "code",
   "execution_count": 1304,
   "metadata": {},
   "outputs": [
    {
     "data": {
      "text/html": [
       "<div>\n",
       "<style>\n",
       "    .dataframe thead tr:only-child th {\n",
       "        text-align: right;\n",
       "    }\n",
       "\n",
       "    .dataframe thead th {\n",
       "        text-align: left;\n",
       "    }\n",
       "\n",
       "    .dataframe tbody tr th {\n",
       "        vertical-align: top;\n",
       "    }\n",
       "</style>\n",
       "<table border=\"1\" class=\"dataframe\">\n",
       "  <thead>\n",
       "    <tr style=\"text-align: right;\">\n",
       "      <th></th>\n",
       "      <th>country_code</th>\n",
       "      <th>year</th>\n",
       "      <th>reported_deaths</th>\n",
       "    </tr>\n",
       "  </thead>\n",
       "  <tbody>\n",
       "    <tr>\n",
       "      <th>0</th>\n",
       "      <td>AGO</td>\n",
       "      <td>2000</td>\n",
       "      <td>9510.0</td>\n",
       "    </tr>\n",
       "    <tr>\n",
       "      <th>1</th>\n",
       "      <td>AGO</td>\n",
       "      <td>2001</td>\n",
       "      <td>9473.0</td>\n",
       "    </tr>\n",
       "    <tr>\n",
       "      <th>2</th>\n",
       "      <td>AGO</td>\n",
       "      <td>2002</td>\n",
       "      <td>14434.0</td>\n",
       "    </tr>\n",
       "    <tr>\n",
       "      <th>3</th>\n",
       "      <td>AGO</td>\n",
       "      <td>2003</td>\n",
       "      <td>38598.0</td>\n",
       "    </tr>\n",
       "    <tr>\n",
       "      <th>4</th>\n",
       "      <td>AGO</td>\n",
       "      <td>2004</td>\n",
       "      <td>12459.0</td>\n",
       "    </tr>\n",
       "  </tbody>\n",
       "</table>\n",
       "</div>"
      ],
      "text/plain": [
       "  country_code  year  reported_deaths\n",
       "0          AGO  2000           9510.0\n",
       "1          AGO  2001           9473.0\n",
       "2          AGO  2002          14434.0\n",
       "3          AGO  2003          38598.0\n",
       "4          AGO  2004          12459.0"
      ]
     },
     "execution_count": 1304,
     "metadata": {},
     "output_type": "execute_result"
    }
   ],
   "source": [
    "africa_deaths = m_deaths[(m_deaths['region'] == 'AFR')]\n",
    "africa_deaths_by_country = africa_deaths.groupby(['country_code', 'year']).sum()\n",
    "africa_deaths_by_country = africa_deaths_by_country.reset_index()\n",
    "africa_deaths_by_country.head()"
   ]
  },
  {
   "cell_type": "code",
   "execution_count": 1305,
   "metadata": {},
   "outputs": [
    {
     "data": {
      "image/png": "[encoded data removed]",
      "text/plain": [
       "<matplotlib.figure.Figure at 0x1bc9f93a7b8>"
      ]
     },
     "metadata": {},
     "output_type": "display_data"
    }
   ],
   "source": [
    "ax1 = None\n",
    "for group in africa_deaths_by_country.groupby('country_code'):\n",
    "    ax1 = group[1].plot(x='year', y='reported_deaths', figsize=(8,6), ax=ax1)\n",
    "ax1.legend(case_countries, loc=2)\n",
    "ax1.set_xlabel('Year')\n",
    "ax1.set_ylabel('Number of Deaths')\n",
    "ax1.set_title('Taking a closer look at africa')\n",
    "plt.show()"
   ]
  },
  {
   "cell_type": "code",
   "execution_count": 1306,
   "metadata": {},
   "outputs": [
    {
     "name": "stdout",
     "output_type": "stream",
     "text": [
      "    country_code  year  reported_deaths\n",
      "118          COD  2014          25502.0\n",
      "388          NGA  2014           6082.0\n",
      "519          UGA  2014           5921.0\n",
      "14           AGO  2014           5714.0\n",
      "57           BFA  2014           5632.0\n"
     ]
    }
   ],
   "source": [
    "AFR2014_deaths = africa_deaths_by_country[(africa_deaths_by_country['year'] == 2014)]\n",
    "print(AFR2014_deaths.sort_values(['reported_deaths'], ascending=False).head(5))"
   ]
  },
  {
   "cell_type": "markdown",
   "metadata": {},
   "source": [
    "## Treatment Resistance Data"
   ]
  },
  {
   "cell_type": "code",
   "execution_count": 1307,
   "metadata": {},
   "outputs": [
    {
     "data": {
      "text/plain": [
       "Index(['GHO (CODE)', 'GHO (DISPLAY)', 'GHO (URL)', 'PUBLISHSTATE (CODE)',\n",
       "       'PUBLISHSTATE (DISPLAY)', 'PUBLISHSTATE (URL)', 'YEAR (CODE)',\n",
       "       'YEAR (DISPLAY)', 'YEAR (URL)', 'REGION (CODE)', 'REGION (DISPLAY)',\n",
       "       'REGION (URL)', 'COUNTRY (CODE)', 'COUNTRY (DISPLAY)', 'COUNTRY (URL)',\n",
       "       'Display Value', 'Numeric', 'Low', 'High', 'Comments'],\n",
       "      dtype='object')"
      ]
     },
     "execution_count": 1307,
     "metadata": {},
     "output_type": "execute_result"
    }
   ],
   "source": [
    "resistance.columns"
   ]
  },
  {
   "cell_type": "code",
   "execution_count": 1308,
   "metadata": {},
   "outputs": [
    {
     "name": "stdout",
     "output_type": "stream",
     "text": [
      "Years from:  2000 - 2015\n",
      "year             False\n",
      "country_code     False\n",
      "tx_resistance    False\n",
      "dtype: bool\n",
      "   year country_code tx_resistance\n",
      "0  2012          BGD           Yes\n",
      "1  2012          BEN           Yes\n",
      "2  2011          GHA           Yes\n",
      "3  2009          KEN           Yes\n",
      "4  2009          TGO           Yes\n",
      "<class 'pandas.core.frame.DataFrame'>\n",
      "RangeIndex: 6180 entries, 0 to 6179\n",
      "Data columns (total 3 columns):\n",
      "year             6180 non-null int64\n",
      "country_code     6180 non-null object\n",
      "tx_resistance    6180 non-null object\n",
      "dtypes: int64(1), object(2)\n",
      "memory usage: 144.9+ KB\n",
      "None\n"
     ]
    }
   ],
   "source": [
    "resistance = resistance.rename(columns={'YEAR (CODE)':'year',\n",
    "                                         'REGION (CODE)':'region',\n",
    "                                          'COUNTRY (CODE)':'country_code',\n",
    "                                           'Display Value':'tx_resistance'})\n",
    "resistance = resistance[['year', 'country_code','tx_resistance']]\n",
    "\n",
    "print('Years from:', '', resistance['year'].min(), '-', resistance['year'].max())\n",
    "\n",
    "\n",
    "print(resistance.isnull().any())\n",
    "print(resistance.head())\n",
    "print(resistance.info())\n"
   ]
  },
  {
   "cell_type": "code",
   "execution_count": null,
   "metadata": {
    "collapsed": true
   },
   "outputs": [],
   "source": []
  },
  {
   "cell_type": "markdown",
   "metadata": {},
   "source": [
    "## Insect Net Distribution Data"
   ]
  },
  {
   "cell_type": "code",
   "execution_count": 1309,
   "metadata": {},
   "outputs": [
    {
     "data": {
      "text/plain": [
       "Index(['number_llins', 'location', 'country', 'when', 'by_whom',\n",
       "       'country_code'],\n",
       "      dtype='object')"
      ]
     },
     "execution_count": 1309,
     "metadata": {},
     "output_type": "execute_result"
    }
   ],
   "source": [
    "net_dist.columns"
   ]
  },
  {
   "cell_type": "code",
   "execution_count": 1310,
   "metadata": {
    "collapsed": true
   },
   "outputs": [],
   "source": [
    "net_dist = net_dist.rename(columns={'number_llins':'number_nets'})\n",
    "net_dist = net_dist[['when', 'number_nets', 'country_code']]\n",
    "\n",
    "\n",
    "# Parse out year and add year code column to the 'net_dist'        \n",
    "net_dist['year'] = '20'+net_dist['when'].str[-2:]\n",
    "net_year = pd.to_numeric(net_dist['year'], errors='coerce')\n",
    "net_dist['year'] = net_year\n"
   ]
  },
  {
   "cell_type": "code",
   "execution_count": 1311,
   "metadata": {
    "collapsed": true
   },
   "outputs": [],
   "source": [
    "# no need to retain the original column\n",
    "net_dist = net_dist.drop(['when'], axis=1)\n"
   ]
  },
  {
   "cell_type": "code",
   "execution_count": 1312,
   "metadata": {},
   "outputs": [
    {
     "name": "stdout",
     "output_type": "stream",
     "text": [
      "Years from:  2006 - 2019\n",
      "number_nets     False\n",
      "country_code     True\n",
      "year            False\n",
      "dtype: bool\n",
      "   number_nets country_code  year\n",
      "0         3000          KEN  2006\n",
      "1         3000          MWI  2006\n",
      "2         3000          NAM  2006\n",
      "3         2000          RWA  2006\n",
      "4         2000          UGA  2006\n",
      "<class 'pandas.core.frame.DataFrame'>\n",
      "RangeIndex: 167 entries, 0 to 166\n",
      "Data columns (total 3 columns):\n",
      "number_nets     167 non-null int64\n",
      "country_code    163 non-null object\n",
      "year            167 non-null int64\n",
      "dtypes: int64(2), object(1)\n",
      "memory usage: 4.0+ KB\n",
      "None\n"
     ]
    }
   ],
   "source": [
    "print('Years from:', '', net_dist['year'].min(), '-', net_dist['year'].max())\n",
    "\n",
    "print(net_dist.isnull().any())\n",
    "print(net_dist.head())\n",
    "print(net_dist.info())"
   ]
  },
  {
   "cell_type": "code",
   "execution_count": null,
   "metadata": {
    "collapsed": true
   },
   "outputs": [],
   "source": []
  },
  {
   "cell_type": "markdown",
   "metadata": {},
   "source": [
    "Of note at this point there are differences in the years with complete data i.e. The years for the 'net_dist' are from 2006-2019 and the years for 'resistance' cover 2000-2014, and the population data covers 1950-2050. Given this I will restrict analysis to the years 2000-2014. This will give the greatest density across the most fields. As for the dates yet to arrive, I will assume they are predictive and not error, either way they will not be used. Following this the correllations for the net use and resistance data will both have less power than those of the other factors, but I believe can still yeild some useful insights. "
   ]
  },
  {
   "cell_type": "markdown",
   "metadata": {},
   "source": [
    "## Population Data"
   ]
  },
  {
   "cell_type": "code",
   "execution_count": 1313,
   "metadata": {
    "scrolled": true
   },
   "outputs": [
    {
     "data": {
      "text/plain": [
       "Index(['country_name', 'country_code', '2000', '2001', '2002', '2003', '2004',\n",
       "       '2005', '2006', '2007', '2008', '2009', '2010', '2011', '2012', '2013',\n",
       "       '2014'],\n",
       "      dtype='object')"
      ]
     },
     "execution_count": 1313,
     "metadata": {},
     "output_type": "execute_result"
    }
   ],
   "source": [
    "# This population data was pulled from the world bank indicators API\n",
    "pop.columns"
   ]
  },
  {
   "cell_type": "code",
   "execution_count": 1314,
   "metadata": {
    "collapsed": true
   },
   "outputs": [],
   "source": [
    "pop = pop.melt(id_vars=['country_name', 'country_code'], var_name='year', value_vars=['2000', '2001', '2002', '2003', '2004', '2005', '2006', '2007', '2008', '2009', '2010', '2011', '2012', '2013', '2014'], value_name='population')\n"
   ]
  },
  {
   "cell_type": "code",
   "execution_count": 1315,
   "metadata": {
    "collapsed": true
   },
   "outputs": [],
   "source": [
    "pop['year'] = pd.to_numeric(pop['year'], errors='coerce', downcast='integer')\n",
    "\n"
   ]
  },
  {
   "cell_type": "code",
   "execution_count": 1316,
   "metadata": {},
   "outputs": [
    {
     "name": "stdout",
     "output_type": "stream",
     "text": [
      "<class 'pandas.core.frame.DataFrame'>\n",
      "RangeIndex: 1605 entries, 0 to 1604\n",
      "Data columns (total 4 columns):\n",
      "country_name    1605 non-null object\n",
      "country_code    1605 non-null object\n",
      "year            1605 non-null int16\n",
      "population      1602 non-null float64\n",
      "dtypes: float64(1), int16(1), object(2)\n",
      "memory usage: 40.8+ KB\n",
      "None\n",
      "  country_name country_code  year    population\n",
      "0   Bangladesh          BGD  2000  1.315812e+08\n",
      "1      Bolivia          BOL  2000  8.339512e+06\n",
      "2        China          CHN  2000  1.262645e+09\n",
      "3     Honduras          HND  2000  6.524283e+06\n",
      "4        Haiti          HTI  2000  8.549200e+06\n",
      "country_name    False\n",
      "country_code    False\n",
      "year            False\n",
      "population       True\n",
      "dtype: bool\n"
     ]
    }
   ],
   "source": [
    "print(pop.info())\n",
    "print(pop.head())\n",
    "print(pop.isnull().any())\n"
   ]
  },
  {
   "cell_type": "code",
   "execution_count": 1317,
   "metadata": {},
   "outputs": [
    {
     "data": {
      "text/html": [
       "<div>\n",
       "<style>\n",
       "    .dataframe thead tr:only-child th {\n",
       "        text-align: right;\n",
       "    }\n",
       "\n",
       "    .dataframe thead th {\n",
       "        text-align: left;\n",
       "    }\n",
       "\n",
       "    .dataframe tbody tr th {\n",
       "        vertical-align: top;\n",
       "    }\n",
       "</style>\n",
       "<table border=\"1\" class=\"dataframe\">\n",
       "  <thead>\n",
       "    <tr style=\"text-align: right;\">\n",
       "      <th></th>\n",
       "      <th>country_name</th>\n",
       "      <th>country_code</th>\n",
       "      <th>year</th>\n",
       "      <th>population</th>\n",
       "    </tr>\n",
       "  </thead>\n",
       "  <tbody>\n",
       "    <tr>\n",
       "      <th>1368</th>\n",
       "      <td>Eritrea</td>\n",
       "      <td>ERI</td>\n",
       "      <td>2012</td>\n",
       "      <td>NaN</td>\n",
       "    </tr>\n",
       "    <tr>\n",
       "      <th>1475</th>\n",
       "      <td>Eritrea</td>\n",
       "      <td>ERI</td>\n",
       "      <td>2013</td>\n",
       "      <td>NaN</td>\n",
       "    </tr>\n",
       "    <tr>\n",
       "      <th>1582</th>\n",
       "      <td>Eritrea</td>\n",
       "      <td>ERI</td>\n",
       "      <td>2014</td>\n",
       "      <td>NaN</td>\n",
       "    </tr>\n",
       "  </tbody>\n",
       "</table>\n",
       "</div>"
      ],
      "text/plain": [
       "     country_name country_code  year  population\n",
       "1368      Eritrea          ERI  2012         NaN\n",
       "1475      Eritrea          ERI  2013         NaN\n",
       "1582      Eritrea          ERI  2014         NaN"
      ]
     },
     "execution_count": 1317,
     "metadata": {},
     "output_type": "execute_result"
    }
   ],
   "source": [
    "pop[pop.isnull().any(axis=1)]"
   ]
  },
  {
   "cell_type": "markdown",
   "metadata": {},
   "source": [
    "Given  that these are the only 3 values missing from this portion of the data it is unlikely that 3 years from a single country will throw off the correlation much. These values may be obtained from an alternate scource or extrapolated at a later time if necessary."
   ]
  },
  {
   "cell_type": "code",
   "execution_count": 1318,
   "metadata": {
    "collapsed": true
   },
   "outputs": [],
   "source": [
    "pop = pop.drop('country_name', axis=1)\n"
   ]
  },
  {
   "cell_type": "markdown",
   "metadata": {
    "collapsed": true
   },
   "source": [
    "# Temperature Data"
   ]
  },
  {
   "cell_type": "code",
   "execution_count": 1319,
   "metadata": {},
   "outputs": [
    {
     "data": {
      "text/plain": [
       "Index(['tas', '\\tYear', ' Month', ' Country'], dtype='object')"
      ]
     },
     "execution_count": 1319,
     "metadata": {},
     "output_type": "execute_result"
    }
   ],
   "source": [
    "# This data was pulled from the world bank climate API\n",
    "\n",
    "temp.columns"
   ]
  },
  {
   "cell_type": "code",
   "execution_count": 1320,
   "metadata": {},
   "outputs": [
    {
     "data": {
      "text/plain": [
       "Index(['temperature', 'year', 'month', 'country_code'], dtype='object')"
      ]
     },
     "execution_count": 1320,
     "metadata": {},
     "output_type": "execute_result"
    }
   ],
   "source": [
    "# Altering column labels for preference, clarity, and ease of use\n",
    "temp = temp.rename(columns={'\\tYear' : 'year',\n",
    "                            ' Country' : 'country_code',\n",
    "                            'tas' : 'temperature',\n",
    "                            ' Month' : 'month'})\n",
    "# making a list for reference of the list of countries\n",
    "countries = list(temp.country_code.unique())\n",
    "countries = sorted(countries, key=str.lower)\n",
    "\n",
    "temp.columns"
   ]
  },
  {
   "cell_type": "code",
   "execution_count": 1321,
   "metadata": {},
   "outputs": [
    {
     "data": {
      "text/html": [
       "<div>\n",
       "<style>\n",
       "    .dataframe thead tr:only-child th {\n",
       "        text-align: right;\n",
       "    }\n",
       "\n",
       "    .dataframe thead th {\n",
       "        text-align: left;\n",
       "    }\n",
       "\n",
       "    .dataframe tbody tr th {\n",
       "        vertical-align: top;\n",
       "    }\n",
       "</style>\n",
       "<table border=\"1\" class=\"dataframe\">\n",
       "  <thead>\n",
       "    <tr style=\"text-align: right;\">\n",
       "      <th></th>\n",
       "      <th>year</th>\n",
       "      <th>ABW</th>\n",
       "      <th>AGO</th>\n",
       "      <th>ALB</th>\n",
       "      <th>AND</th>\n",
       "      <th>ANT</th>\n",
       "      <th>ARE</th>\n",
       "      <th>ARG</th>\n",
       "      <th>ATG</th>\n",
       "      <th>AUS</th>\n",
       "      <th>...</th>\n",
       "      <th>TLS</th>\n",
       "      <th>TON</th>\n",
       "      <th>TUR</th>\n",
       "      <th>TUV</th>\n",
       "      <th>URY</th>\n",
       "      <th>VEN</th>\n",
       "      <th>VGB</th>\n",
       "      <th>WSM</th>\n",
       "      <th>XRK</th>\n",
       "      <th>ZAF</th>\n",
       "    </tr>\n",
       "  </thead>\n",
       "  <tbody>\n",
       "    <tr>\n",
       "      <th>0</th>\n",
       "      <td>1901</td>\n",
       "      <td>27.642242</td>\n",
       "      <td>21.455058</td>\n",
       "      <td>10.997927</td>\n",
       "      <td>10.786337</td>\n",
       "      <td>27.591533</td>\n",
       "      <td>27.060492</td>\n",
       "      <td>14.789754</td>\n",
       "      <td>25.221792</td>\n",
       "      <td>21.468767</td>\n",
       "      <td>...</td>\n",
       "      <td>25.331158</td>\n",
       "      <td>24.513042</td>\n",
       "      <td>11.259894</td>\n",
       "      <td>28.117592</td>\n",
       "      <td>16.805533</td>\n",
       "      <td>25.304417</td>\n",
       "      <td>25.121258</td>\n",
       "      <td>26.389900</td>\n",
       "      <td>8.306526</td>\n",
       "      <td>16.742045</td>\n",
       "    </tr>\n",
       "    <tr>\n",
       "      <th>1</th>\n",
       "      <td>1902</td>\n",
       "      <td>27.510883</td>\n",
       "      <td>21.455550</td>\n",
       "      <td>11.241467</td>\n",
       "      <td>10.662564</td>\n",
       "      <td>27.446775</td>\n",
       "      <td>26.546458</td>\n",
       "      <td>14.449022</td>\n",
       "      <td>25.012475</td>\n",
       "      <td>21.487850</td>\n",
       "      <td>...</td>\n",
       "      <td>25.327908</td>\n",
       "      <td>24.514725</td>\n",
       "      <td>10.639450</td>\n",
       "      <td>28.117592</td>\n",
       "      <td>17.042166</td>\n",
       "      <td>25.265658</td>\n",
       "      <td>24.819367</td>\n",
       "      <td>26.392217</td>\n",
       "      <td>8.333778</td>\n",
       "      <td>16.635380</td>\n",
       "    </tr>\n",
       "    <tr>\n",
       "      <th>2</th>\n",
       "      <td>1903</td>\n",
       "      <td>27.618575</td>\n",
       "      <td>21.599133</td>\n",
       "      <td>11.380389</td>\n",
       "      <td>10.395305</td>\n",
       "      <td>27.559650</td>\n",
       "      <td>25.929717</td>\n",
       "      <td>14.115068</td>\n",
       "      <td>25.188767</td>\n",
       "      <td>21.020500</td>\n",
       "      <td>...</td>\n",
       "      <td>25.487983</td>\n",
       "      <td>24.406133</td>\n",
       "      <td>10.261870</td>\n",
       "      <td>28.117592</td>\n",
       "      <td>16.851150</td>\n",
       "      <td>25.299042</td>\n",
       "      <td>25.065408</td>\n",
       "      <td>26.156533</td>\n",
       "      <td>8.825191</td>\n",
       "      <td>16.606524</td>\n",
       "    </tr>\n",
       "    <tr>\n",
       "      <th>3</th>\n",
       "      <td>1904</td>\n",
       "      <td>27.399308</td>\n",
       "      <td>21.426175</td>\n",
       "      <td>11.385637</td>\n",
       "      <td>10.682016</td>\n",
       "      <td>27.319133</td>\n",
       "      <td>26.162242</td>\n",
       "      <td>14.362343</td>\n",
       "      <td>24.802750</td>\n",
       "      <td>20.873142</td>\n",
       "      <td>...</td>\n",
       "      <td>25.159600</td>\n",
       "      <td>24.276542</td>\n",
       "      <td>10.257519</td>\n",
       "      <td>28.117592</td>\n",
       "      <td>16.619800</td>\n",
       "      <td>25.224125</td>\n",
       "      <td>24.542483</td>\n",
       "      <td>25.910533</td>\n",
       "      <td>8.705065</td>\n",
       "      <td>16.559092</td>\n",
       "    </tr>\n",
       "    <tr>\n",
       "      <th>4</th>\n",
       "      <td>1905</td>\n",
       "      <td>27.540717</td>\n",
       "      <td>21.490208</td>\n",
       "      <td>11.162694</td>\n",
       "      <td>10.333673</td>\n",
       "      <td>27.477108</td>\n",
       "      <td>26.166942</td>\n",
       "      <td>14.022728</td>\n",
       "      <td>25.044050</td>\n",
       "      <td>21.039092</td>\n",
       "      <td>...</td>\n",
       "      <td>25.539017</td>\n",
       "      <td>24.323758</td>\n",
       "      <td>10.504210</td>\n",
       "      <td>28.117592</td>\n",
       "      <td>16.440438</td>\n",
       "      <td>25.262492</td>\n",
       "      <td>24.859950</td>\n",
       "      <td>25.986725</td>\n",
       "      <td>8.536213</td>\n",
       "      <td>16.775360</td>\n",
       "    </tr>\n",
       "  </tbody>\n",
       "</table>\n",
       "<p>5 rows × 132 columns</p>\n",
       "</div>"
      ],
      "text/plain": [
       "   year        ABW        AGO        ALB        AND        ANT        ARE  \\\n",
       "0  1901  27.642242  21.455058  10.997927  10.786337  27.591533  27.060492   \n",
       "1  1902  27.510883  21.455550  11.241467  10.662564  27.446775  26.546458   \n",
       "2  1903  27.618575  21.599133  11.380389  10.395305  27.559650  25.929717   \n",
       "3  1904  27.399308  21.426175  11.385637  10.682016  27.319133  26.162242   \n",
       "4  1905  27.540717  21.490208  11.162694  10.333673  27.477108  26.166942   \n",
       "\n",
       "         ARG        ATG        AUS    ...            TLS        TON  \\\n",
       "0  14.789754  25.221792  21.468767    ...      25.331158  24.513042   \n",
       "1  14.449022  25.012475  21.487850    ...      25.327908  24.514725   \n",
       "2  14.115068  25.188767  21.020500    ...      25.487983  24.406133   \n",
       "3  14.362343  24.802750  20.873142    ...      25.159600  24.276542   \n",
       "4  14.022728  25.044050  21.039092    ...      25.539017  24.323758   \n",
       "\n",
       "         TUR        TUV        URY        VEN        VGB        WSM       XRK  \\\n",
       "0  11.259894  28.117592  16.805533  25.304417  25.121258  26.389900  8.306526   \n",
       "1  10.639450  28.117592  17.042166  25.265658  24.819367  26.392217  8.333778   \n",
       "2  10.261870  28.117592  16.851150  25.299042  25.065408  26.156533  8.825191   \n",
       "3  10.257519  28.117592  16.619800  25.224125  24.542483  25.910533  8.705065   \n",
       "4  10.504210  28.117592  16.440438  25.262492  24.859950  25.986725  8.536213   \n",
       "\n",
       "         ZAF  \n",
       "0  16.742045  \n",
       "1  16.635380  \n",
       "2  16.606524  \n",
       "3  16.559092  \n",
       "4  16.775360  \n",
       "\n",
       "[5 rows x 132 columns]"
      ]
     },
     "execution_count": 1321,
     "metadata": {},
     "output_type": "execute_result"
    }
   ],
   "source": [
    "# Pivoting the df and taking the average of each year for each country\n",
    "temp = temp.pivot_table(index=['country_code', 'year'], values=['temperature'])\n",
    "temp = temp.pivot_table(index=['year'], columns='country_code', aggfunc='mean')\n",
    "\n",
    "# Returning the df to a flate file with proper column labels\n",
    "temp.columns = temp.columns.droplevel(1)\n",
    "temp.columns = countries\n",
    "temp = temp.reset_index()\n",
    "temp.head()\n"
   ]
  },
  {
   "cell_type": "code",
   "execution_count": 1322,
   "metadata": {},
   "outputs": [
    {
     "name": "stdout",
     "output_type": "stream",
     "text": [
      "   year country_code  temperature\n",
      "0  1901          ABW    27.642242\n",
      "1  1902          ABW    27.510883\n",
      "2  1903          ABW    27.618575\n",
      "3  1904          ABW    27.399308\n",
      "4  1905          ABW    27.540717\n",
      "year            False\n",
      "country_code    False\n",
      "temperature     False\n",
      "dtype: bool\n"
     ]
    }
   ],
   "source": [
    "# Melting the df into a format consistent for merging\n",
    "temp = pd.melt(temp, id_vars='year', var_name='country_code', value_vars=countries, value_name='temperature')\n",
    "\n",
    "print(temp.head())\n",
    "print(temp.isnull().any())"
   ]
  },
  {
   "cell_type": "markdown",
   "metadata": {},
   "source": [
    "Given that we have 12 monthly values per country per year, for the purposes of this project we will be using the average for the entire year as a representative value for each country in each year. "
   ]
  },
  {
   "cell_type": "markdown",
   "metadata": {},
   "source": [
    "# Rainfall"
   ]
  },
  {
   "cell_type": "code",
   "execution_count": 1323,
   "metadata": {},
   "outputs": [
    {
     "data": {
      "text/plain": [
       "Index(['\\tYear', ' Country', ' Month', 'pr'], dtype='object')"
      ]
     },
     "execution_count": 1323,
     "metadata": {},
     "output_type": "execute_result"
    }
   ],
   "source": [
    "rain.columns"
   ]
  },
  {
   "cell_type": "code",
   "execution_count": 1324,
   "metadata": {},
   "outputs": [
    {
     "data": {
      "text/plain": [
       "Index(['year', 'country_code', 'month', 'rainfall'], dtype='object')"
      ]
     },
     "execution_count": 1324,
     "metadata": {},
     "output_type": "execute_result"
    }
   ],
   "source": [
    "# Altering column labels for preference, clarity, and ease of use\n",
    "rain = rain.rename(columns={'\\tYear' : 'year',\n",
    "                            ' Country' : 'country_code',\n",
    "                            'pr' : 'rainfall',\n",
    "                            ' Month' : 'month'})\n",
    "rain.columns"
   ]
  },
  {
   "cell_type": "code",
   "execution_count": 1325,
   "metadata": {},
   "outputs": [
    {
     "data": {
      "text/html": [
       "<div>\n",
       "<style>\n",
       "    .dataframe thead tr:only-child th {\n",
       "        text-align: right;\n",
       "    }\n",
       "\n",
       "    .dataframe thead th {\n",
       "        text-align: left;\n",
       "    }\n",
       "\n",
       "    .dataframe tbody tr th {\n",
       "        vertical-align: top;\n",
       "    }\n",
       "</style>\n",
       "<table border=\"1\" class=\"dataframe\">\n",
       "  <thead>\n",
       "    <tr style=\"text-align: right;\">\n",
       "      <th></th>\n",
       "      <th>year</th>\n",
       "      <th>country_code</th>\n",
       "      <th>month</th>\n",
       "      <th>rainfall</th>\n",
       "    </tr>\n",
       "  </thead>\n",
       "  <tbody>\n",
       "    <tr>\n",
       "      <th>0</th>\n",
       "      <td>1901</td>\n",
       "      <td>HUN</td>\n",
       "      <td>1</td>\n",
       "      <td>33.2111</td>\n",
       "    </tr>\n",
       "    <tr>\n",
       "      <th>1</th>\n",
       "      <td>1901</td>\n",
       "      <td>HUN</td>\n",
       "      <td>2</td>\n",
       "      <td>23.1772</td>\n",
       "    </tr>\n",
       "    <tr>\n",
       "      <th>2</th>\n",
       "      <td>1901</td>\n",
       "      <td>HUN</td>\n",
       "      <td>3</td>\n",
       "      <td>56.7961</td>\n",
       "    </tr>\n",
       "    <tr>\n",
       "      <th>3</th>\n",
       "      <td>1901</td>\n",
       "      <td>HUN</td>\n",
       "      <td>4</td>\n",
       "      <td>44.8803</td>\n",
       "    </tr>\n",
       "    <tr>\n",
       "      <th>4</th>\n",
       "      <td>1901</td>\n",
       "      <td>HUN</td>\n",
       "      <td>5</td>\n",
       "      <td>38.4405</td>\n",
       "    </tr>\n",
       "  </tbody>\n",
       "</table>\n",
       "</div>"
      ],
      "text/plain": [
       "   year country_code  month  rainfall\n",
       "0  1901          HUN      1   33.2111\n",
       "1  1901          HUN      2   23.1772\n",
       "2  1901          HUN      3   56.7961\n",
       "3  1901          HUN      4   44.8803\n",
       "4  1901          HUN      5   38.4405"
      ]
     },
     "execution_count": 1325,
     "metadata": {},
     "output_type": "execute_result"
    }
   ],
   "source": [
    "rain.head()"
   ]
  },
  {
   "cell_type": "code",
   "execution_count": 1326,
   "metadata": {
    "collapsed": true
   },
   "outputs": [],
   "source": [
    "# making a list for reference of the list of countries\n",
    "countries_rain = list(rain.country_code.unique())\n",
    "countries_rain = sorted(countries_rain, key=str.lower)\n"
   ]
  },
  {
   "cell_type": "code",
   "execution_count": 1327,
   "metadata": {},
   "outputs": [
    {
     "data": {
      "text/html": [
       "<div>\n",
       "<style>\n",
       "    .dataframe thead tr:only-child th {\n",
       "        text-align: right;\n",
       "    }\n",
       "\n",
       "    .dataframe thead th {\n",
       "        text-align: left;\n",
       "    }\n",
       "\n",
       "    .dataframe tbody tr th {\n",
       "        vertical-align: top;\n",
       "    }\n",
       "</style>\n",
       "<table border=\"1\" class=\"dataframe\">\n",
       "  <thead>\n",
       "    <tr style=\"text-align: right;\">\n",
       "      <th></th>\n",
       "      <th>year</th>\n",
       "      <th>ABW</th>\n",
       "      <th>AFG</th>\n",
       "      <th>AGO</th>\n",
       "      <th>AIA</th>\n",
       "      <th>ALB</th>\n",
       "      <th>AND</th>\n",
       "      <th>ANT</th>\n",
       "      <th>ARE</th>\n",
       "      <th>ARG</th>\n",
       "      <th>...</th>\n",
       "      <th>UGA</th>\n",
       "      <th>UKR</th>\n",
       "      <th>URY</th>\n",
       "      <th>VEN</th>\n",
       "      <th>VGB</th>\n",
       "      <th>WLF</th>\n",
       "      <th>XRK</th>\n",
       "      <th>ZAF</th>\n",
       "      <th>ZAR</th>\n",
       "      <th>ZMB</th>\n",
       "    </tr>\n",
       "  </thead>\n",
       "  <tbody>\n",
       "    <tr>\n",
       "      <th>0</th>\n",
       "      <td>1901</td>\n",
       "      <td>66.212208</td>\n",
       "      <td>22.003305</td>\n",
       "      <td>78.829634</td>\n",
       "      <td>165.699658</td>\n",
       "      <td>109.532408</td>\n",
       "      <td>72.438942</td>\n",
       "      <td>57.992458</td>\n",
       "      <td>6.088290</td>\n",
       "      <td>34.306833</td>\n",
       "      <td>...</td>\n",
       "      <td>79.557275</td>\n",
       "      <td>44.055075</td>\n",
       "      <td>74.235625</td>\n",
       "      <td>159.076375</td>\n",
       "      <td>235.662742</td>\n",
       "      <td>246.685917</td>\n",
       "      <td>88.051583</td>\n",
       "      <td>48.265558</td>\n",
       "      <td>124.895383</td>\n",
       "      <td>81.119453</td>\n",
       "    </tr>\n",
       "    <tr>\n",
       "      <th>1</th>\n",
       "      <td>1902</td>\n",
       "      <td>63.277825</td>\n",
       "      <td>19.309642</td>\n",
       "      <td>80.638373</td>\n",
       "      <td>145.714400</td>\n",
       "      <td>91.475967</td>\n",
       "      <td>64.681767</td>\n",
       "      <td>53.068872</td>\n",
       "      <td>2.941165</td>\n",
       "      <td>40.299917</td>\n",
       "      <td>...</td>\n",
       "      <td>107.483142</td>\n",
       "      <td>44.113995</td>\n",
       "      <td>89.882358</td>\n",
       "      <td>156.658808</td>\n",
       "      <td>196.272708</td>\n",
       "      <td>243.730583</td>\n",
       "      <td>68.853592</td>\n",
       "      <td>34.905365</td>\n",
       "      <td>128.504792</td>\n",
       "      <td>85.028674</td>\n",
       "    </tr>\n",
       "    <tr>\n",
       "      <th>2</th>\n",
       "      <td>1903</td>\n",
       "      <td>66.125392</td>\n",
       "      <td>28.250687</td>\n",
       "      <td>86.407364</td>\n",
       "      <td>136.778750</td>\n",
       "      <td>77.561858</td>\n",
       "      <td>58.670862</td>\n",
       "      <td>57.062367</td>\n",
       "      <td>4.714039</td>\n",
       "      <td>44.477725</td>\n",
       "      <td>...</td>\n",
       "      <td>110.209158</td>\n",
       "      <td>41.334672</td>\n",
       "      <td>99.643742</td>\n",
       "      <td>161.321958</td>\n",
       "      <td>176.185117</td>\n",
       "      <td>253.022083</td>\n",
       "      <td>62.789842</td>\n",
       "      <td>28.310880</td>\n",
       "      <td>131.223900</td>\n",
       "      <td>74.106387</td>\n",
       "    </tr>\n",
       "    <tr>\n",
       "      <th>3</th>\n",
       "      <td>1904</td>\n",
       "      <td>76.067375</td>\n",
       "      <td>24.889266</td>\n",
       "      <td>73.780345</td>\n",
       "      <td>142.704067</td>\n",
       "      <td>83.001250</td>\n",
       "      <td>47.820001</td>\n",
       "      <td>68.335317</td>\n",
       "      <td>4.125526</td>\n",
       "      <td>45.638217</td>\n",
       "      <td>...</td>\n",
       "      <td>99.307917</td>\n",
       "      <td>35.507442</td>\n",
       "      <td>95.443992</td>\n",
       "      <td>167.353417</td>\n",
       "      <td>189.685750</td>\n",
       "      <td>253.791083</td>\n",
       "      <td>64.266567</td>\n",
       "      <td>35.808872</td>\n",
       "      <td>126.369942</td>\n",
       "      <td>83.024439</td>\n",
       "    </tr>\n",
       "    <tr>\n",
       "      <th>4</th>\n",
       "      <td>1905</td>\n",
       "      <td>68.831567</td>\n",
       "      <td>23.841139</td>\n",
       "      <td>75.149998</td>\n",
       "      <td>148.186992</td>\n",
       "      <td>77.295800</td>\n",
       "      <td>68.907067</td>\n",
       "      <td>59.624433</td>\n",
       "      <td>8.215321</td>\n",
       "      <td>42.698383</td>\n",
       "      <td>...</td>\n",
       "      <td>100.751333</td>\n",
       "      <td>47.263400</td>\n",
       "      <td>86.885450</td>\n",
       "      <td>161.105917</td>\n",
       "      <td>203.374967</td>\n",
       "      <td>239.886667</td>\n",
       "      <td>69.618625</td>\n",
       "      <td>35.985650</td>\n",
       "      <td>126.628408</td>\n",
       "      <td>74.191419</td>\n",
       "    </tr>\n",
       "  </tbody>\n",
       "</table>\n",
       "<p>5 rows × 174 columns</p>\n",
       "</div>"
      ],
      "text/plain": [
       "   year        ABW        AFG        AGO         AIA         ALB        AND  \\\n",
       "0  1901  66.212208  22.003305  78.829634  165.699658  109.532408  72.438942   \n",
       "1  1902  63.277825  19.309642  80.638373  145.714400   91.475967  64.681767   \n",
       "2  1903  66.125392  28.250687  86.407364  136.778750   77.561858  58.670862   \n",
       "3  1904  76.067375  24.889266  73.780345  142.704067   83.001250  47.820001   \n",
       "4  1905  68.831567  23.841139  75.149998  148.186992   77.295800  68.907067   \n",
       "\n",
       "         ANT       ARE        ARG    ...             UGA        UKR  \\\n",
       "0  57.992458  6.088290  34.306833    ...       79.557275  44.055075   \n",
       "1  53.068872  2.941165  40.299917    ...      107.483142  44.113995   \n",
       "2  57.062367  4.714039  44.477725    ...      110.209158  41.334672   \n",
       "3  68.335317  4.125526  45.638217    ...       99.307917  35.507442   \n",
       "4  59.624433  8.215321  42.698383    ...      100.751333  47.263400   \n",
       "\n",
       "         URY         VEN         VGB         WLF        XRK        ZAF  \\\n",
       "0  74.235625  159.076375  235.662742  246.685917  88.051583  48.265558   \n",
       "1  89.882358  156.658808  196.272708  243.730583  68.853592  34.905365   \n",
       "2  99.643742  161.321958  176.185117  253.022083  62.789842  28.310880   \n",
       "3  95.443992  167.353417  189.685750  253.791083  64.266567  35.808872   \n",
       "4  86.885450  161.105917  203.374967  239.886667  69.618625  35.985650   \n",
       "\n",
       "          ZAR        ZMB  \n",
       "0  124.895383  81.119453  \n",
       "1  128.504792  85.028674  \n",
       "2  131.223900  74.106387  \n",
       "3  126.369942  83.024439  \n",
       "4  126.628408  74.191419  \n",
       "\n",
       "[5 rows x 174 columns]"
      ]
     },
     "execution_count": 1327,
     "metadata": {},
     "output_type": "execute_result"
    }
   ],
   "source": [
    "# Pivoting the df and taking the average of each year for each country\n",
    "rain = rain.pivot_table(index=['country_code', 'year'], values=['rainfall'])\n",
    "rain = rain.pivot_table(index=['year'], columns='country_code', aggfunc='mean')\n",
    "\n",
    "# Returning the df to a flate file with proper column labels\n",
    "rain.columns = rain.columns.droplevel(1)\n",
    "rain.columns = countries_rain\n",
    "rain = rain.reset_index()\n",
    "rain.head()"
   ]
  },
  {
   "cell_type": "code",
   "execution_count": 1328,
   "metadata": {},
   "outputs": [
    {
     "name": "stdout",
     "output_type": "stream",
     "text": [
      "   year country_code   rainfall\n",
      "0  1901          ABW  66.212208\n",
      "1  1902          ABW  63.277825\n",
      "2  1903          ABW  66.125392\n",
      "3  1904          ABW  76.067375\n",
      "4  1905          ABW  68.831567\n",
      "year            False\n",
      "country_code    False\n",
      "rainfall        False\n",
      "dtype: bool\n"
     ]
    }
   ],
   "source": [
    "# Melting the df into a format consistent for merging\n",
    "rain = pd.melt(rain, id_vars='year', var_name='country_code', value_vars=countries_rain, value_name='rainfall')\n",
    "\n",
    "print(rain.head())\n",
    "print(rain.isnull().any())"
   ]
  },
  {
   "cell_type": "markdown",
   "metadata": {},
   "source": [
    "## Incidence data"
   ]
  },
  {
   "cell_type": "code",
   "execution_count": 1329,
   "metadata": {},
   "outputs": [
    {
     "data": {
      "text/plain": [
       "Index(['country_name', 'country_code', 'year', 'incidence'], dtype='object')"
      ]
     },
     "execution_count": 1329,
     "metadata": {},
     "output_type": "execute_result"
    }
   ],
   "source": [
    "incidence.columns"
   ]
  },
  {
   "cell_type": "code",
   "execution_count": 1330,
   "metadata": {
    "scrolled": true
   },
   "outputs": [
    {
     "data": {
      "text/html": [
       "<div>\n",
       "<style>\n",
       "    .dataframe thead tr:only-child th {\n",
       "        text-align: right;\n",
       "    }\n",
       "\n",
       "    .dataframe thead th {\n",
       "        text-align: left;\n",
       "    }\n",
       "\n",
       "    .dataframe tbody tr th {\n",
       "        vertical-align: top;\n",
       "    }\n",
       "</style>\n",
       "<table border=\"1\" class=\"dataframe\">\n",
       "  <thead>\n",
       "    <tr style=\"text-align: right;\">\n",
       "      <th></th>\n",
       "      <th>country_name</th>\n",
       "      <th>country_code</th>\n",
       "      <th>year</th>\n",
       "      <th>incidence</th>\n",
       "    </tr>\n",
       "  </thead>\n",
       "  <tbody>\n",
       "    <tr>\n",
       "      <th>0</th>\n",
       "      <td>Afghanistan</td>\n",
       "      <td>AFG</td>\n",
       "      <td>1962</td>\n",
       "      <td>640</td>\n",
       "    </tr>\n",
       "    <tr>\n",
       "      <th>1</th>\n",
       "      <td>Afghanistan</td>\n",
       "      <td>AFG</td>\n",
       "      <td>1963</td>\n",
       "      <td>923</td>\n",
       "    </tr>\n",
       "    <tr>\n",
       "      <th>2</th>\n",
       "      <td>Afghanistan</td>\n",
       "      <td>AFG</td>\n",
       "      <td>1964</td>\n",
       "      <td>2658</td>\n",
       "    </tr>\n",
       "    <tr>\n",
       "      <th>3</th>\n",
       "      <td>Afghanistan</td>\n",
       "      <td>AFG</td>\n",
       "      <td>1965</td>\n",
       "      <td>2112</td>\n",
       "    </tr>\n",
       "    <tr>\n",
       "      <th>4</th>\n",
       "      <td>Afghanistan</td>\n",
       "      <td>AFG</td>\n",
       "      <td>1966</td>\n",
       "      <td>2551</td>\n",
       "    </tr>\n",
       "  </tbody>\n",
       "</table>\n",
       "</div>"
      ],
      "text/plain": [
       "  country_name country_code  year incidence\n",
       "0  Afghanistan          AFG  1962       640\n",
       "1  Afghanistan          AFG  1963       923\n",
       "2  Afghanistan          AFG  1964      2658\n",
       "3  Afghanistan          AFG  1965      2112\n",
       "4  Afghanistan          AFG  1966      2551"
      ]
     },
     "execution_count": 1330,
     "metadata": {},
     "output_type": "execute_result"
    }
   ],
   "source": [
    "incidence.head()"
   ]
  },
  {
   "cell_type": "code",
   "execution_count": 1331,
   "metadata": {},
   "outputs": [],
   "source": [
    "incidence = incidence.drop('country_name', axis=1)"
   ]
  },
  {
   "cell_type": "code",
   "execution_count": 1332,
   "metadata": {
    "collapsed": true
   },
   "outputs": [],
   "source": [
    "incidence['incidence'] = pd.to_numeric(incidence['incidence'], errors='coerce')\n",
    "incidence = incidence.dropna(how='any')"
   ]
  },
  {
   "cell_type": "code",
   "execution_count": 1333,
   "metadata": {
    "scrolled": true
   },
   "outputs": [
    {
     "name": "stdout",
     "output_type": "stream",
     "text": [
      "<class 'pandas.core.frame.DataFrame'>\n",
      "Int64Index: 3695 entries, 0 to 5367\n",
      "Data columns (total 3 columns):\n",
      "country_code    3695 non-null object\n",
      "year            3695 non-null int64\n",
      "incidence       3695 non-null float64\n",
      "dtypes: float64(1), int64(1), object(1)\n",
      "memory usage: 115.5+ KB\n"
     ]
    }
   ],
   "source": [
    "incidence.to_csv(path_or_buf='inci.csv')\n",
    "incidence.info()"
   ]
  },
  {
   "cell_type": "markdown",
   "metadata": {},
   "source": [
    "# Merging for A/B testing"
   ]
  },
  {
   "cell_type": "code",
   "execution_count": 1334,
   "metadata": {
    "collapsed": true
   },
   "outputs": [],
   "source": [
    "merge_AB = [cases, m_deaths, resistance, net_dist]"
   ]
  },
  {
   "cell_type": "code",
   "execution_count": 1335,
   "metadata": {},
   "outputs": [
    {
     "name": "stdout",
     "output_type": "stream",
     "text": [
      "<class 'pandas.core.frame.DataFrame'>\n",
      "Int64Index: 6623 entries, 0 to 6622\n",
      "Data columns (total 8 columns):\n",
      "year               6623 non-null int64\n",
      "country_code       6619 non-null object\n",
      "reported_cases     5368 non-null float64\n",
      "region_x           5368 non-null object\n",
      "reported_deaths    5571 non-null float64\n",
      "region_y           5571 non-null object\n",
      "tx_resistance      6472 non-null object\n",
      "number_nets        620 non-null float64\n",
      "dtypes: float64(3), int64(1), object(4)\n",
      "memory usage: 465.7+ KB\n"
     ]
    }
   ],
   "source": [
    "df_AB = reduce(lambda  left,right: pd.merge(left,right,on=['country_code', 'year'], how='outer'), merge_AB)\n",
    "df_AB.info()"
   ]
  },
  {
   "cell_type": "code",
   "execution_count": 1336,
   "metadata": {
    "collapsed": true
   },
   "outputs": [],
   "source": [
    "df_AB = df_AB[(df_AB.year >= 2000) & (df_AB.year <= 2014)]\n",
    "df_AB.dropna(inplace=True)\n",
    "df_AB.drop_duplicates(inplace=True)"
   ]
  },
  {
   "cell_type": "code",
   "execution_count": 1337,
   "metadata": {},
   "outputs": [
    {
     "name": "stdout",
     "output_type": "stream",
     "text": [
      "Number of years:  9\n",
      "Years from:  2006 - 2014\n",
      "Number of countries:  31\n",
      "year               False\n",
      "country_code       False\n",
      "reported_cases     False\n",
      "region_x           False\n",
      "reported_deaths    False\n",
      "region_y           False\n",
      "tx_resistance      False\n",
      "number_nets        False\n",
      "dtype: bool\n",
      "<class 'pandas.core.frame.DataFrame'>\n",
      "Int64Index: 162 entries, 208 to 5357\n",
      "Data columns (total 8 columns):\n",
      "year               162 non-null int64\n",
      "country_code       162 non-null object\n",
      "reported_cases     162 non-null float64\n",
      "region_x           162 non-null object\n",
      "reported_deaths    162 non-null float64\n",
      "region_y           162 non-null object\n",
      "tx_resistance      162 non-null object\n",
      "number_nets        162 non-null float64\n",
      "dtypes: float64(3), int64(1), object(4)\n",
      "memory usage: 11.4+ KB\n",
      "None\n"
     ]
    }
   ],
   "source": [
    "print('Number of years:', '', df_AB['year'].nunique())\n",
    "print('Years from:', '', df_AB['year'].min(), '-', df_AB['year'].max())\n",
    "print('Number of countries:', '', df_AB['country_code'].nunique())\n",
    "print(df_AB.isnull().any())\n",
    "print(df_AB.info())\n"
   ]
  },
  {
   "cell_type": "code",
   "execution_count": 1340,
   "metadata": {},
   "outputs": [
    {
     "data": {
      "text/html": [
       "<div>\n",
       "<style>\n",
       "    .dataframe thead tr:only-child th {\n",
       "        text-align: right;\n",
       "    }\n",
       "\n",
       "    .dataframe thead th {\n",
       "        text-align: left;\n",
       "    }\n",
       "\n",
       "    .dataframe tbody tr th {\n",
       "        vertical-align: top;\n",
       "    }\n",
       "</style>\n",
       "<table border=\"1\" class=\"dataframe\">\n",
       "  <thead>\n",
       "    <tr style=\"text-align: right;\">\n",
       "      <th></th>\n",
       "      <th>year</th>\n",
       "      <th>country_code</th>\n",
       "      <th>reported_cases</th>\n",
       "      <th>region_x</th>\n",
       "      <th>reported_deaths</th>\n",
       "      <th>tx_resistance</th>\n",
       "      <th>number_nets</th>\n",
       "    </tr>\n",
       "  </thead>\n",
       "  <tbody>\n",
       "    <tr>\n",
       "      <th>208</th>\n",
       "      <td>2006</td>\n",
       "      <td>STP</td>\n",
       "      <td>5146.0</td>\n",
       "      <td>AFR</td>\n",
       "      <td>26.0</td>\n",
       "      <td>Not tested/reported</td>\n",
       "      <td>6000.0</td>\n",
       "    </tr>\n",
       "    <tr>\n",
       "      <th>364</th>\n",
       "      <td>2006</td>\n",
       "      <td>HTI</td>\n",
       "      <td>32739.0</td>\n",
       "      <td>AMR</td>\n",
       "      <td>32.0</td>\n",
       "      <td>Not tested/reported</td>\n",
       "      <td>8000.0</td>\n",
       "    </tr>\n",
       "    <tr>\n",
       "      <th>472</th>\n",
       "      <td>2007</td>\n",
       "      <td>COG</td>\n",
       "      <td>103213.0</td>\n",
       "      <td>AFR</td>\n",
       "      <td>113.0</td>\n",
       "      <td>Not tested/reported</td>\n",
       "      <td>10000.0</td>\n",
       "    </tr>\n",
       "    <tr>\n",
       "      <th>552</th>\n",
       "      <td>2007</td>\n",
       "      <td>GHA</td>\n",
       "      <td>476484.0</td>\n",
       "      <td>AFR</td>\n",
       "      <td>4622.0</td>\n",
       "      <td>Yes</td>\n",
       "      <td>5200.0</td>\n",
       "    </tr>\n",
       "    <tr>\n",
       "      <th>553</th>\n",
       "      <td>2007</td>\n",
       "      <td>GHA</td>\n",
       "      <td>476484.0</td>\n",
       "      <td>AFR</td>\n",
       "      <td>4622.0</td>\n",
       "      <td>Yes</td>\n",
       "      <td>10000.0</td>\n",
       "    </tr>\n",
       "    <tr>\n",
       "      <th>558</th>\n",
       "      <td>2007</td>\n",
       "      <td>GHA</td>\n",
       "      <td>476484.0</td>\n",
       "      <td>AFR</td>\n",
       "      <td>4622.0</td>\n",
       "      <td>No</td>\n",
       "      <td>5200.0</td>\n",
       "    </tr>\n",
       "    <tr>\n",
       "      <th>559</th>\n",
       "      <td>2007</td>\n",
       "      <td>GHA</td>\n",
       "      <td>476484.0</td>\n",
       "      <td>AFR</td>\n",
       "      <td>4622.0</td>\n",
       "      <td>No</td>\n",
       "      <td>10000.0</td>\n",
       "    </tr>\n",
       "    <tr>\n",
       "      <th>592</th>\n",
       "      <td>2010</td>\n",
       "      <td>SLE</td>\n",
       "      <td>934028.0</td>\n",
       "      <td>AFR</td>\n",
       "      <td>8188.0</td>\n",
       "      <td>No</td>\n",
       "      <td>10560.0</td>\n",
       "    </tr>\n",
       "    <tr>\n",
       "      <th>612</th>\n",
       "      <td>2010</td>\n",
       "      <td>UGA</td>\n",
       "      <td>1581160.0</td>\n",
       "      <td>AFR</td>\n",
       "      <td>8431.0</td>\n",
       "      <td>Not tested/reported</td>\n",
       "      <td>450.0</td>\n",
       "    </tr>\n",
       "    <tr>\n",
       "      <th>613</th>\n",
       "      <td>2010</td>\n",
       "      <td>UGA</td>\n",
       "      <td>1581160.0</td>\n",
       "      <td>AFR</td>\n",
       "      <td>8431.0</td>\n",
       "      <td>Not tested/reported</td>\n",
       "      <td>250.0</td>\n",
       "    </tr>\n",
       "  </tbody>\n",
       "</table>\n",
       "</div>"
      ],
      "text/plain": [
       "     year country_code  reported_cases region_x  reported_deaths  \\\n",
       "208  2006          STP          5146.0      AFR             26.0   \n",
       "364  2006          HTI         32739.0      AMR             32.0   \n",
       "472  2007          COG        103213.0      AFR            113.0   \n",
       "552  2007          GHA        476484.0      AFR           4622.0   \n",
       "553  2007          GHA        476484.0      AFR           4622.0   \n",
       "558  2007          GHA        476484.0      AFR           4622.0   \n",
       "559  2007          GHA        476484.0      AFR           4622.0   \n",
       "592  2010          SLE        934028.0      AFR           8188.0   \n",
       "612  2010          UGA       1581160.0      AFR           8431.0   \n",
       "613  2010          UGA       1581160.0      AFR           8431.0   \n",
       "\n",
       "           tx_resistance  number_nets  \n",
       "208  Not tested/reported       6000.0  \n",
       "364  Not tested/reported       8000.0  \n",
       "472  Not tested/reported      10000.0  \n",
       "552                  Yes       5200.0  \n",
       "553                  Yes      10000.0  \n",
       "558                   No       5200.0  \n",
       "559                   No      10000.0  \n",
       "592                   No      10560.0  \n",
       "612  Not tested/reported        450.0  \n",
       "613  Not tested/reported        250.0  "
      ]
     },
     "execution_count": 1340,
     "metadata": {},
     "output_type": "execute_result"
    }
   ],
   "source": [
    "df_AB.drop(['region_y'], axis=1, inplace=True)\n",
    "df_AB.head(10)"
   ]
  },
  {
   "cell_type": "code",
   "execution_count": null,
   "metadata": {
    "collapsed": true
   },
   "outputs": [],
   "source": []
  },
  {
   "cell_type": "markdown",
   "metadata": {},
   "source": [
    "## Merging for correlation"
   ]
  },
  {
   "cell_type": "code",
   "execution_count": 1341,
   "metadata": {
    "collapsed": true
   },
   "outputs": [],
   "source": [
    "merge_TRI = [temp, rain, incidence]"
   ]
  },
  {
   "cell_type": "code",
   "execution_count": 1342,
   "metadata": {
    "scrolled": true
   },
   "outputs": [
    {
     "name": "stdout",
     "output_type": "stream",
     "text": [
      "<class 'pandas.core.frame.DataFrame'>\n",
      "Int64Index: 21373 entries, 0 to 21372\n",
      "Data columns (total 5 columns):\n",
      "year            21373 non-null int64\n",
      "country_code    21373 non-null object\n",
      "temperature     15065 non-null float64\n",
      "rainfall        19895 non-null float64\n",
      "incidence       3695 non-null float64\n",
      "dtypes: float64(3), int64(1), object(1)\n",
      "memory usage: 1001.9+ KB\n"
     ]
    }
   ],
   "source": [
    "df_TRI = reduce(lambda  left,right: pd.merge(left,right,on=['country_code', 'year'], how='outer'), merge_TRI)\n",
    "df_TRI.info()\n"
   ]
  },
  {
   "cell_type": "code",
   "execution_count": null,
   "metadata": {
    "collapsed": true,
    "scrolled": true
   },
   "outputs": [],
   "source": [
    "df_TRI.head(10)"
   ]
  },
  {
   "cell_type": "code",
   "execution_count": null,
   "metadata": {
    "collapsed": true
   },
   "outputs": [],
   "source": [
    "# Restrivting data parameters due to missing fields, work in progress\n",
    "\n",
    "# df_working = df_working[(df_working.year >= 2000) & (df_working.year <= 2014)]\n",
    "# df_working = df_working[(df_working['reported_cases'] > 0)]\n",
    "# df_working = df_working[(df_working['reported_deaths'] > 0)]\n",
    "# df_working = df_working[(df_working['est_cases'] > 0)]\n",
    "# df_working = df_working[(df_working['SIR'] > 0)]\n",
    "df_TRI = df_TRI[(df_TRI['incidence'] > 0)]"
   ]
  },
  {
   "cell_type": "code",
   "execution_count": 369,
   "metadata": {
    "collapsed": true
   },
   "outputs": [],
   "source": [
    "df_TRI['ln'] = np.log(df_TRI['incidence'])"
   ]
  },
  {
   "cell_type": "code",
   "execution_count": 370,
   "metadata": {
    "collapsed": true
   },
   "outputs": [],
   "source": [
    "# df_TRI.to_csv(path_or_buf='df_working.csv')"
   ]
  },
  {
   "cell_type": "markdown",
   "metadata": {},
   "source": [
    "At this point in the process I believe both for my own and spectators edification it is worth stopping to clealy lay out the df that we will be working with from this point forward as there are a few subfacets that I plan to delve into later that do not involve the central data fram as vis versa. \n",
    "\n",
    "1) the central DataFrame 'df_working'\n",
    "2) the country profile with stagnant variables such as average elevation\n",
    "3) Insect repellant net distribution\n",
    "     - this is a potentially very important factor, however given the interspersed nature of the data any conclusion will be on a smaller scale, thus we will be looking at it as a sub analysis rather than aprt of the central picture. \n",
    "   "
   ]
  },
  {
   "cell_type": "code",
   "execution_count": 371,
   "metadata": {
    "collapsed": true
   },
   "outputs": [],
   "source": [
    "df_TRI = df_TRI.dropna(how='any')"
   ]
  },
  {
   "cell_type": "code",
   "execution_count": 372,
   "metadata": {},
   "outputs": [
    {
     "name": "stdout",
     "output_type": "stream",
     "text": [
      "Number of years:  40\n",
      "Years from:  1962 - 2015\n",
      "Number of countries:  73\n",
      "year            False\n",
      "country_code    False\n",
      "temperature     False\n",
      "rainfall        False\n",
      "incidence       False\n",
      "ln              False\n",
      "dtype: bool\n",
      "<class 'pandas.core.frame.DataFrame'>\n",
      "Int64Index: 1928 entries, 176 to 15064\n",
      "Data columns (total 6 columns):\n",
      "year            1928 non-null int64\n",
      "country_code    1928 non-null object\n",
      "temperature     1928 non-null float64\n",
      "rainfall        1928 non-null float64\n",
      "incidence       1928 non-null float64\n",
      "ln              1928 non-null float64\n",
      "dtypes: float64(4), int64(1), object(1)\n",
      "memory usage: 105.4+ KB\n",
      "None\n"
     ]
    }
   ],
   "source": [
    "\n",
    "print('Number of years:', '', df_TRI['year'].nunique())\n",
    "print('Years from:', '', df_TRI['year'].min(), '-', df_TRI['year'].max())\n",
    "print('Number of countries:', '', df_TRI['country_code'].nunique())\n",
    "print(df_TRI.isnull().any())\n",
    "print(df_TRI.info())\n",
    "# df_TRI.to_csv(path_or_buf='df.csv')"
   ]
  },
  {
   "cell_type": "code",
   "execution_count": 781,
   "metadata": {},
   "outputs": [
    {
     "ename": "NameError",
     "evalue": "name 'df_working' is not defined",
     "output_type": "error",
     "traceback": [
      "\u001b[1;31m---------------------------------------------------------------------------\u001b[0m",
      "\u001b[1;31mNameError\u001b[0m                                 Traceback (most recent call last)",
      "\u001b[1;32m<ipython-input-781-0ceb3142029c>\u001b[0m in \u001b[0;36m<module>\u001b[1;34m()\u001b[0m\n\u001b[0;32m      1\u001b[0m \u001b[0msns\u001b[0m\u001b[1;33m.\u001b[0m\u001b[0mset_context\u001b[0m\u001b[1;33m(\u001b[0m\u001b[1;34m'notebook'\u001b[0m\u001b[1;33m)\u001b[0m\u001b[1;33m\u001b[0m\u001b[0m\n\u001b[0;32m      2\u001b[0m \u001b[1;31m# Distribution of years\u001b[0m\u001b[1;33m\u001b[0m\u001b[1;33m\u001b[0m\u001b[0m\n\u001b[1;32m----> 3\u001b[1;33m sns.factorplot(x=\"year\", data=df_working, kind=\"count\",\n\u001b[0m\u001b[0;32m      4\u001b[0m                    palette='mako', size=6, aspect=1.5)\n\u001b[0;32m      5\u001b[0m \u001b[1;33m\u001b[0m\u001b[0m\n",
      "\u001b[1;31mNameError\u001b[0m: name 'df_working' is not defined"
     ]
    }
   ],
   "source": [
    "sns.set_context('notebook')\n",
    "# Distribution of years\n",
    "sns.factorplot(x=\"year\", data=df_working, kind=\"count\",\n",
    "                   palette='mako', size=6, aspect=1.5)\n",
    "\n",
    "plt.title('Distribution of year values')\n",
    "plt.ylabel('Count')\n",
    "plt.xlabel('Years')\n",
    "plt.tight_layout()\n",
    "plt.show()"
   ]
  },
  {
   "cell_type": "code",
   "execution_count": 58,
   "metadata": {},
   "outputs": [
    {
     "data": {
      "text/plain": [
       "<seaborn.axisgrid.FacetGrid at 0x1fc3221edd8>"
      ]
     },
     "execution_count": 58,
     "metadata": {},
     "output_type": "execute_result"
    },
    {
     "data": {
      "image/png": "[encoded data removed]",
      "text/plain": [
       "<matplotlib.figure.Figure at 0x1fc3221e198>"
      ]
     },
     "metadata": {},
     "output_type": "display_data"
    }
   ],
   "source": [
    "df_AGO = df_working[(df_working['country_code'] == 'AGO')]\n",
    "df_AGO.head()\n",
    "sns.lmplot(x=\"rainfall\", y=\"ln\", data=df_AGO)\n"
   ]
  },
  {
   "cell_type": "code",
   "execution_count": 59,
   "metadata": {
    "scrolled": true
   },
   "outputs": [
    {
     "data": {
      "text/plain": [
       "<seaborn.axisgrid.FacetGrid at 0x1fc3224f828>"
      ]
     },
     "execution_count": 59,
     "metadata": {},
     "output_type": "execute_result"
    },
    {
     "data": {
      "image/png": "[encoded data removed]",
      "text/plain": [
       "<matplotlib.figure.Figure at 0x1fc3224f710>"
      ]
     },
     "metadata": {},
     "output_type": "display_data"
    }
   ],
   "source": [
    "df_AGO = df_working[(df_working['country_code'] == 'AGO')]\n",
    "df_AGO.head()\n",
    "sns.lmplot(x=\"temperature\", y=\"ln\", data=df_AGO)\n"
   ]
  }
 ],
 "metadata": {
  "kernelspec": {
   "display_name": "Python 3",
   "language": "python",
   "name": "python3"
  },
  "language_info": {
   "codemirror_mode": {
    "name": "ipython",
    "version": 3
   },
   "file_extension": ".py",
   "mimetype": "text/x-python",
   "name": "python",
   "nbconvert_exporter": "python",
   "pygments_lexer": "ipython3",
   "version": "3.6.2"
  }
 },
 "nbformat": 4,
 "nbformat_minor": 2
}
