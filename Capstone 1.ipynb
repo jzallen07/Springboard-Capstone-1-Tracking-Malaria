{
 "cells": [
  {
   "cell_type": "code",
   "execution_count": 285,
   "metadata": {
    "collapsed": true
   },
   "outputs": [],
   "source": [
    "#Import Packages\n",
    "import pandas as pd\n",
    "import numpy as np\n",
    "import matplotlib.pyplot as plt\n",
    "import seaborn as sns\n",
    "import scipy.stats as stats\n",
    "from functools import reduce \n",
    "%matplotlib inline"
   ]
  },
  {
   "cell_type": "code",
   "execution_count": 286,
   "metadata": {},
   "outputs": [],
   "source": [
    "# Import Relevant CSV Files\n",
    "pop = pd.read_csv('data/population/population_total.csv')\n",
    "cases = pd.read_csv('data/Originals/reported_indigenous_confirmed_cases.csv')\n",
    "m_deaths = pd.read_csv('data/Originals/reported_deaths.csv')\n",
    "resistance = pd.read_csv('data/Originals/insecticide_resistance.csv')\n",
    "net_dist = pd.read_csv('data/Originals/amf_distributions.csv') \n",
    "temp = pd.read_csv('data/temperature/temp.csv')\n",
    "rain = pd.read_csv('data/rain/rain.csv')"
   ]
  },
  {
   "cell_type": "markdown",
   "metadata": {},
   "source": [
    "Reported Cases of Diagnosed Malaria"
   ]
  },
  {
   "cell_type": "code",
   "execution_count": 287,
   "metadata": {},
   "outputs": [
    {
     "data": {
      "text/plain": [
       "Index(['GHO (CODE)', 'GHO (DISPLAY)', 'GHO (URL)', 'PUBLISHSTATE (CODE)',\n",
       "       'PUBLISHSTATE (DISPLAY)', 'PUBLISHSTATE (URL)', 'YEAR (CODE)',\n",
       "       'YEAR (DISPLAY)', 'YEAR (URL)', 'REGION (CODE)', 'REGION (DISPLAY)',\n",
       "       'REGION (URL)', 'COUNTRY (CODE)', 'COUNTRY (DISPLAY)', 'COUNTRY (URL)',\n",
       "       'Display Value', 'Numeric', 'Low', 'High', 'Comments'],\n",
       "      dtype='object')"
      ]
     },
     "execution_count": 287,
     "metadata": {},
     "output_type": "execute_result"
    }
   ],
   "source": [
    "cases.columns"
   ]
  },
  {
   "cell_type": "code",
   "execution_count": 288,
   "metadata": {},
   "outputs": [
    {
     "name": "stdout",
     "output_type": "stream",
     "text": [
      "Years from:  2000 - 2014\n",
      "year              False\n",
      "country_code      False\n",
      "reported_cases    False\n",
      "dtype: bool\n",
      "   year country_code  reported_cases\n",
      "0  2001          EGY             0.0\n",
      "1  2003          EGY             0.0\n",
      "2  2013          IRQ             0.0\n",
      "3  2004          OMN             0.0\n",
      "4  2012          SYR             0.0\n",
      "<class 'pandas.core.frame.DataFrame'>\n",
      "RangeIndex: 1392 entries, 0 to 1391\n",
      "Data columns (total 3 columns):\n",
      "year              1392 non-null int64\n",
      "country_code      1392 non-null object\n",
      "reported_cases    1392 non-null float64\n",
      "dtypes: float64(1), int64(1), object(1)\n",
      "memory usage: 32.7+ KB\n",
      "None\n"
     ]
    }
   ],
   "source": [
    "cases = cases.rename(columns={'YEAR (CODE)':'year',\n",
    "                    'REGION (CODE)':'region',\n",
    "                    'COUNTRY (CODE)':'country_code',\n",
    "                    'Numeric':'reported_cases'})\n",
    "cases = cases[['year', 'country_code','reported_cases']]\n",
    "\n",
    "print('Years from:', '', cases['year'].min(), '-', cases['year'].max())\n",
    "print(cases.isnull().any())\n",
    "print(cases.head())\n",
    "print(cases.info())"
   ]
  },
  {
   "cell_type": "markdown",
   "metadata": {},
   "source": [
    "Mortality Data"
   ]
  },
  {
   "cell_type": "code",
   "execution_count": 289,
   "metadata": {},
   "outputs": [
    {
     "data": {
      "text/plain": [
       "Index(['GHO (CODE)', 'GHO (DISPLAY)', 'GHO (URL)', 'PUBLISHSTATE (CODE)',\n",
       "       'PUBLISHSTATE (DISPLAY)', 'PUBLISHSTATE (URL)', 'YEAR (CODE)',\n",
       "       'YEAR (DISPLAY)', 'YEAR (URL)', 'REGION (CODE)', 'REGION (DISPLAY)',\n",
       "       'REGION (URL)', 'COUNTRY (CODE)', 'COUNTRY (DISPLAY)', 'COUNTRY (URL)',\n",
       "       'Display Value', 'Numeric', 'Low', 'High', 'Comments'],\n",
       "      dtype='object')"
      ]
     },
     "execution_count": 289,
     "metadata": {},
     "output_type": "execute_result"
    }
   ],
   "source": [
    "m_deaths.columns"
   ]
  },
  {
   "cell_type": "code",
   "execution_count": 290,
   "metadata": {},
   "outputs": [
    {
     "name": "stdout",
     "output_type": "stream",
     "text": [
      "Years from:  2000 - 2014\n",
      "year               False\n",
      "country_code       False\n",
      "reported_deaths    False\n",
      "dtype: bool\n",
      "   year country_code  reported_deaths\n",
      "0  2008          DZA              0.0\n",
      "1  2012          DZA              0.0\n",
      "2  2014          DZA              0.0\n",
      "3  2001          CPV              0.0\n",
      "4  2013          CPV              0.0\n",
      "<class 'pandas.core.frame.DataFrame'>\n",
      "RangeIndex: 1408 entries, 0 to 1407\n",
      "Data columns (total 3 columns):\n",
      "year               1408 non-null int64\n",
      "country_code       1408 non-null object\n",
      "reported_deaths    1408 non-null float64\n",
      "dtypes: float64(1), int64(1), object(1)\n",
      "memory usage: 33.1+ KB\n",
      "None\n"
     ]
    }
   ],
   "source": [
    "m_deaths = m_deaths.rename(columns={'YEAR (CODE)':'year',\n",
    "                    'REGION (CODE)':'region',\n",
    "                    'COUNTRY (CODE)':'country_code',\n",
    "                    'Numeric':'reported_deaths'})\n",
    "m_deaths = m_deaths[['year', 'country_code','reported_deaths']]\n",
    "\n",
    "print('Years from:', '', m_deaths['year'].min(), '-', m_deaths['year'].max())\n",
    "print(m_deaths.isnull().any())\n",
    "print(m_deaths.head())\n",
    "print(m_deaths.info())"
   ]
  },
  {
   "cell_type": "markdown",
   "metadata": {},
   "source": [
    "Treatment Resistance Data"
   ]
  },
  {
   "cell_type": "code",
   "execution_count": 291,
   "metadata": {},
   "outputs": [
    {
     "data": {
      "text/plain": [
       "Index(['GHO (CODE)', 'GHO (DISPLAY)', 'GHO (URL)', 'PUBLISHSTATE (CODE)',\n",
       "       'PUBLISHSTATE (DISPLAY)', 'PUBLISHSTATE (URL)', 'YEAR (CODE)',\n",
       "       'YEAR (DISPLAY)', 'YEAR (URL)', 'REGION (CODE)', 'REGION (DISPLAY)',\n",
       "       'REGION (URL)', 'COUNTRY (CODE)', 'COUNTRY (DISPLAY)', 'COUNTRY (URL)',\n",
       "       'Display Value', 'Numeric', 'Low', 'High', 'Comments'],\n",
       "      dtype='object')"
      ]
     },
     "execution_count": 291,
     "metadata": {},
     "output_type": "execute_result"
    }
   ],
   "source": [
    "resistance.columns"
   ]
  },
  {
   "cell_type": "code",
   "execution_count": 292,
   "metadata": {},
   "outputs": [
    {
     "name": "stdout",
     "output_type": "stream",
     "text": [
      "Years from:  2000 - 2015\n",
      "year             False\n",
      "country_code     False\n",
      "tx_resistance    False\n",
      "dtype: bool\n",
      "   year country_code tx_resistance\n",
      "0  2012          BGD           Yes\n",
      "1  2012          BEN           Yes\n",
      "2  2011          GHA           Yes\n",
      "3  2009          KEN           Yes\n",
      "4  2009          TGO           Yes\n",
      "<class 'pandas.core.frame.DataFrame'>\n",
      "RangeIndex: 6180 entries, 0 to 6179\n",
      "Data columns (total 3 columns):\n",
      "year             6180 non-null int64\n",
      "country_code     6180 non-null object\n",
      "tx_resistance    6180 non-null object\n",
      "dtypes: int64(1), object(2)\n",
      "memory usage: 144.9+ KB\n",
      "None\n"
     ]
    }
   ],
   "source": [
    "resistance = resistance.rename(columns={'YEAR (CODE)':'year',\n",
    "                                         'REGION (CODE)':'region',\n",
    "                                          'COUNTRY (CODE)':'country_code',\n",
    "                                           'Display Value':'tx_resistance'})\n",
    "resistance = resistance[['year', 'country_code','tx_resistance']]\n",
    "\n",
    "print('Years from:', '', resistance['year'].min(), '-', resistance['year'].max())\n",
    "\n",
    "\n",
    "print(resistance.isnull().any())\n",
    "print(resistance.head())\n",
    "print(resistance.info())\n"
   ]
  },
  {
   "cell_type": "markdown",
   "metadata": {},
   "source": [
    "Insect Net Distribution Data"
   ]
  },
  {
   "cell_type": "code",
   "execution_count": 293,
   "metadata": {},
   "outputs": [
    {
     "data": {
      "text/plain": [
       "Index(['number_llins', 'location', 'country', 'when', 'by_whom',\n",
       "       'country_code'],\n",
       "      dtype='object')"
      ]
     },
     "execution_count": 293,
     "metadata": {},
     "output_type": "execute_result"
    }
   ],
   "source": [
    "net_dist.columns"
   ]
  },
  {
   "cell_type": "code",
   "execution_count": 294,
   "metadata": {
    "collapsed": true
   },
   "outputs": [],
   "source": [
    "net_dist = net_dist.rename(columns={'number_llins':'number_nets'})\n",
    "net_dist = net_dist[['when', 'number_nets', 'country_code']]\n",
    "\n",
    "\n",
    "# Parse out year and add year code column to the 'net_dist'        \n",
    "net_dist['year'] = '20'+net_dist['when'].str[-2:]\n",
    "net_year = pd.to_numeric(net_dist['year'], errors='coerce')\n",
    "net_dist['year'] = net_year\n"
   ]
  },
  {
   "cell_type": "code",
   "execution_count": 295,
   "metadata": {
    "collapsed": true
   },
   "outputs": [],
   "source": [
    "# no need to retain the original column\n",
    "net_dist = net_dist.drop(['when'], axis=1)\n"
   ]
  },
  {
   "cell_type": "code",
   "execution_count": 296,
   "metadata": {},
   "outputs": [
    {
     "name": "stdout",
     "output_type": "stream",
     "text": [
      "Years from:  2006 - 2019\n",
      "number_nets     False\n",
      "country_code     True\n",
      "year            False\n",
      "dtype: bool\n",
      "   number_nets country_code  year\n",
      "0         3000          KEN  2006\n",
      "1         3000          MWI  2006\n",
      "2         3000          NAM  2006\n",
      "3         2000          RWA  2006\n",
      "4         2000          UGA  2006\n",
      "<class 'pandas.core.frame.DataFrame'>\n",
      "RangeIndex: 167 entries, 0 to 166\n",
      "Data columns (total 3 columns):\n",
      "number_nets     167 non-null int64\n",
      "country_code    163 non-null object\n",
      "year            167 non-null int64\n",
      "dtypes: int64(2), object(1)\n",
      "memory usage: 4.0+ KB\n",
      "None\n"
     ]
    }
   ],
   "source": [
    "print('Years from:', '', net_dist['year'].min(), '-', net_dist['year'].max())\n",
    "\n",
    "print(net_dist.isnull().any())\n",
    "print(net_dist.head())\n",
    "print(net_dist.info())"
   ]
  },
  {
   "cell_type": "markdown",
   "metadata": {},
   "source": [
    "Of note at this point there are differences in the years with complete data i.e. The years for the 'net_dist' are from 2006-2019 and the years for 'resistance' cover 2000-2014, and the population data covers 1950-2050. Given this I will restrict analysis to the years 2000-2014. This will give the greatest density across the most fields. As for the dates yet to arrive, I will assume they are predictive and not error, either way they will not be used. Following this the correllations for the net use and resistance data will both have less power than those of the other factors, but I believe can still yeild some useful insights. "
   ]
  },
  {
   "cell_type": "markdown",
   "metadata": {},
   "source": [
    "Population Data"
   ]
  },
  {
   "cell_type": "code",
   "execution_count": 297,
   "metadata": {
    "scrolled": true
   },
   "outputs": [
    {
     "data": {
      "text/plain": [
       "Index(['country_name', 'country_code', '2000', '2001', '2002', '2003', '2004',\n",
       "       '2005', '2006', '2007', '2008', '2009', '2010', '2011', '2012', '2013',\n",
       "       '2014'],\n",
       "      dtype='object')"
      ]
     },
     "execution_count": 297,
     "metadata": {},
     "output_type": "execute_result"
    }
   ],
   "source": [
    "# This population data was pulled from the world bank indicators API\n",
    "pop.columns"
   ]
  },
  {
   "cell_type": "code",
   "execution_count": 298,
   "metadata": {
    "collapsed": true
   },
   "outputs": [],
   "source": [
    "pop = pop.melt(id_vars=['country_name', 'country_code'], var_name='year', value_vars=['2000', '2001', '2002', '2003', '2004', '2005', '2006', '2007', '2008', '2009', '2010', '2011', '2012', '2013', '2014'], value_name='population')\n"
   ]
  },
  {
   "cell_type": "code",
   "execution_count": 299,
   "metadata": {
    "collapsed": true
   },
   "outputs": [],
   "source": [
    "pop['year'] = pd.to_numeric(pop['year'], errors='coerce', downcast='integer')\n",
    "\n"
   ]
  },
  {
   "cell_type": "code",
   "execution_count": 300,
   "metadata": {},
   "outputs": [
    {
     "name": "stdout",
     "output_type": "stream",
     "text": [
      "<class 'pandas.core.frame.DataFrame'>\n",
      "RangeIndex: 1605 entries, 0 to 1604\n",
      "Data columns (total 4 columns):\n",
      "country_name    1605 non-null object\n",
      "country_code    1605 non-null object\n",
      "year            1605 non-null int16\n",
      "population      1602 non-null float64\n",
      "dtypes: float64(1), int16(1), object(2)\n",
      "memory usage: 40.8+ KB\n",
      "None\n",
      "  country_name country_code  year    population\n",
      "0   Bangladesh          BGD  2000  1.315812e+08\n",
      "1      Bolivia          BOL  2000  8.339512e+06\n",
      "2        China          CHN  2000  1.262645e+09\n",
      "3     Honduras          HND  2000  6.524283e+06\n",
      "4        Haiti          HTI  2000  8.549200e+06\n",
      "country_name    False\n",
      "country_code    False\n",
      "year            False\n",
      "population       True\n",
      "dtype: bool\n"
     ]
    }
   ],
   "source": [
    "print(pop.info())\n",
    "print(pop.head())\n",
    "print(pop.isnull().any())\n"
   ]
  },
  {
   "cell_type": "code",
   "execution_count": 301,
   "metadata": {},
   "outputs": [
    {
     "data": {
      "text/html": [
       "<div>\n",
       "<style>\n",
       "    .dataframe thead tr:only-child th {\n",
       "        text-align: right;\n",
       "    }\n",
       "\n",
       "    .dataframe thead th {\n",
       "        text-align: left;\n",
       "    }\n",
       "\n",
       "    .dataframe tbody tr th {\n",
       "        vertical-align: top;\n",
       "    }\n",
       "</style>\n",
       "<table border=\"1\" class=\"dataframe\">\n",
       "  <thead>\n",
       "    <tr style=\"text-align: right;\">\n",
       "      <th></th>\n",
       "      <th>country_name</th>\n",
       "      <th>country_code</th>\n",
       "      <th>year</th>\n",
       "      <th>population</th>\n",
       "    </tr>\n",
       "  </thead>\n",
       "  <tbody>\n",
       "    <tr>\n",
       "      <th>1368</th>\n",
       "      <td>Eritrea</td>\n",
       "      <td>ERI</td>\n",
       "      <td>2012</td>\n",
       "      <td>NaN</td>\n",
       "    </tr>\n",
       "    <tr>\n",
       "      <th>1475</th>\n",
       "      <td>Eritrea</td>\n",
       "      <td>ERI</td>\n",
       "      <td>2013</td>\n",
       "      <td>NaN</td>\n",
       "    </tr>\n",
       "    <tr>\n",
       "      <th>1582</th>\n",
       "      <td>Eritrea</td>\n",
       "      <td>ERI</td>\n",
       "      <td>2014</td>\n",
       "      <td>NaN</td>\n",
       "    </tr>\n",
       "  </tbody>\n",
       "</table>\n",
       "</div>"
      ],
      "text/plain": [
       "     country_name country_code  year  population\n",
       "1368      Eritrea          ERI  2012         NaN\n",
       "1475      Eritrea          ERI  2013         NaN\n",
       "1582      Eritrea          ERI  2014         NaN"
      ]
     },
     "execution_count": 301,
     "metadata": {},
     "output_type": "execute_result"
    }
   ],
   "source": [
    "pop[pop.isnull().any(axis=1)]"
   ]
  },
  {
   "cell_type": "markdown",
   "metadata": {},
   "source": [
    "Given  that these are the only 3 values missing from this portion of the data it is unlikely that 3 years from a single country will throw off the correlation much. These values may be obtained from an alternate scource or extrapolated at a later time if necessary."
   ]
  },
  {
   "cell_type": "markdown",
   "metadata": {
    "collapsed": true
   },
   "source": [
    "# Temperature Data"
   ]
  },
  {
   "cell_type": "code",
   "execution_count": 302,
   "metadata": {},
   "outputs": [
    {
     "data": {
      "text/plain": [
       "Index(['tas', '\\tYear', ' Month', ' Country'], dtype='object')"
      ]
     },
     "execution_count": 302,
     "metadata": {},
     "output_type": "execute_result"
    }
   ],
   "source": [
    "# This data was pulled from the world bank climate API\n",
    "\n",
    "temp.columns"
   ]
  },
  {
   "cell_type": "code",
   "execution_count": 303,
   "metadata": {},
   "outputs": [
    {
     "data": {
      "text/plain": [
       "Index(['temperature', 'year', 'month', 'country_code'], dtype='object')"
      ]
     },
     "execution_count": 303,
     "metadata": {},
     "output_type": "execute_result"
    }
   ],
   "source": [
    "# Altering column labels for preference, clarity, and ease of use\n",
    "temp = temp.rename(columns={'\\tYear' : 'year',\n",
    "                            ' Country' : 'country_code',\n",
    "                            'tas' : 'temperature',\n",
    "                            ' Month' : 'month'})\n",
    "# making a list for reference of the list of countries\n",
    "countries = list(temp.country_code.unique())\n",
    "countries = sorted(countries, key=str.lower)\n",
    "\n",
    "temp.columns"
   ]
  },
  {
   "cell_type": "code",
   "execution_count": 304,
   "metadata": {},
   "outputs": [
    {
     "data": {
      "text/html": [
       "<div>\n",
       "<style>\n",
       "    .dataframe thead tr:only-child th {\n",
       "        text-align: right;\n",
       "    }\n",
       "\n",
       "    .dataframe thead th {\n",
       "        text-align: left;\n",
       "    }\n",
       "\n",
       "    .dataframe tbody tr th {\n",
       "        vertical-align: top;\n",
       "    }\n",
       "</style>\n",
       "<table border=\"1\" class=\"dataframe\">\n",
       "  <thead>\n",
       "    <tr style=\"text-align: right;\">\n",
       "      <th></th>\n",
       "      <th>year</th>\n",
       "      <th>ABW</th>\n",
       "      <th>AFG</th>\n",
       "      <th>AGO</th>\n",
       "      <th>AIA</th>\n",
       "      <th>ALB</th>\n",
       "      <th>AND</th>\n",
       "      <th>ANT</th>\n",
       "      <th>ARE</th>\n",
       "      <th>ARG</th>\n",
       "      <th>...</th>\n",
       "      <th>VIR</th>\n",
       "      <th>VNM</th>\n",
       "      <th>VUT</th>\n",
       "      <th>WLF</th>\n",
       "      <th>XRK</th>\n",
       "      <th>YEM</th>\n",
       "      <th>ZAF</th>\n",
       "      <th>ZAR</th>\n",
       "      <th>ZMB</th>\n",
       "      <th>ZWE</th>\n",
       "    </tr>\n",
       "  </thead>\n",
       "  <tbody>\n",
       "    <tr>\n",
       "      <th>0</th>\n",
       "      <td>1991</td>\n",
       "      <td>28.078008</td>\n",
       "      <td>13.118033</td>\n",
       "      <td>21.652200</td>\n",
       "      <td>26.108292</td>\n",
       "      <td>11.038935</td>\n",
       "      <td>11.123439</td>\n",
       "      <td>27.915433</td>\n",
       "      <td>26.690975</td>\n",
       "      <td>14.416431</td>\n",
       "      <td>...</td>\n",
       "      <td>26.368583</td>\n",
       "      <td>24.807658</td>\n",
       "      <td>23.941775</td>\n",
       "      <td>26.934575</td>\n",
       "      <td>8.617143</td>\n",
       "      <td>23.605317</td>\n",
       "      <td>17.816392</td>\n",
       "      <td>24.110358</td>\n",
       "      <td>21.753092</td>\n",
       "      <td>21.622192</td>\n",
       "    </tr>\n",
       "    <tr>\n",
       "      <th>1</th>\n",
       "      <td>1992</td>\n",
       "      <td>28.108817</td>\n",
       "      <td>12.655889</td>\n",
       "      <td>21.840175</td>\n",
       "      <td>25.997892</td>\n",
       "      <td>11.429766</td>\n",
       "      <td>11.063083</td>\n",
       "      <td>28.269450</td>\n",
       "      <td>26.307933</td>\n",
       "      <td>14.058548</td>\n",
       "      <td>...</td>\n",
       "      <td>26.160000</td>\n",
       "      <td>24.363550</td>\n",
       "      <td>23.599058</td>\n",
       "      <td>26.905517</td>\n",
       "      <td>9.314657</td>\n",
       "      <td>23.155925</td>\n",
       "      <td>18.305525</td>\n",
       "      <td>24.069758</td>\n",
       "      <td>22.247725</td>\n",
       "      <td>22.353075</td>\n",
       "    </tr>\n",
       "    <tr>\n",
       "      <th>2</th>\n",
       "      <td>1993</td>\n",
       "      <td>28.338725</td>\n",
       "      <td>12.905315</td>\n",
       "      <td>21.791325</td>\n",
       "      <td>26.208325</td>\n",
       "      <td>11.535018</td>\n",
       "      <td>10.946457</td>\n",
       "      <td>28.467908</td>\n",
       "      <td>27.107833</td>\n",
       "      <td>14.470358</td>\n",
       "      <td>...</td>\n",
       "      <td>26.467108</td>\n",
       "      <td>24.361275</td>\n",
       "      <td>23.532000</td>\n",
       "      <td>26.680442</td>\n",
       "      <td>9.234964</td>\n",
       "      <td>23.522708</td>\n",
       "      <td>18.325867</td>\n",
       "      <td>23.846467</td>\n",
       "      <td>21.890850</td>\n",
       "      <td>21.684967</td>\n",
       "    </tr>\n",
       "    <tr>\n",
       "      <th>3</th>\n",
       "      <td>1994</td>\n",
       "      <td>28.433883</td>\n",
       "      <td>13.142707</td>\n",
       "      <td>21.719133</td>\n",
       "      <td>26.062475</td>\n",
       "      <td>12.410985</td>\n",
       "      <td>12.163037</td>\n",
       "      <td>28.431842</td>\n",
       "      <td>27.343833</td>\n",
       "      <td>15.006952</td>\n",
       "      <td>...</td>\n",
       "      <td>26.370050</td>\n",
       "      <td>24.657142</td>\n",
       "      <td>23.621733</td>\n",
       "      <td>26.818242</td>\n",
       "      <td>10.141751</td>\n",
       "      <td>23.729517</td>\n",
       "      <td>17.708558</td>\n",
       "      <td>24.098975</td>\n",
       "      <td>22.316458</td>\n",
       "      <td>21.391908</td>\n",
       "    </tr>\n",
       "    <tr>\n",
       "      <th>4</th>\n",
       "      <td>1995</td>\n",
       "      <td>28.622667</td>\n",
       "      <td>13.124963</td>\n",
       "      <td>22.018558</td>\n",
       "      <td>26.102058</td>\n",
       "      <td>11.239455</td>\n",
       "      <td>12.035941</td>\n",
       "      <td>28.711825</td>\n",
       "      <td>27.085592</td>\n",
       "      <td>14.381900</td>\n",
       "      <td>...</td>\n",
       "      <td>26.246042</td>\n",
       "      <td>24.422883</td>\n",
       "      <td>24.314617</td>\n",
       "      <td>27.102450</td>\n",
       "      <td>8.871357</td>\n",
       "      <td>23.706642</td>\n",
       "      <td>17.956675</td>\n",
       "      <td>24.466525</td>\n",
       "      <td>22.668275</td>\n",
       "      <td>22.307683</td>\n",
       "    </tr>\n",
       "  </tbody>\n",
       "</table>\n",
       "<p>5 rows × 206 columns</p>\n",
       "</div>"
      ],
      "text/plain": [
       "   year        ABW        AFG        AGO        AIA        ALB        AND  \\\n",
       "0  1991  28.078008  13.118033  21.652200  26.108292  11.038935  11.123439   \n",
       "1  1992  28.108817  12.655889  21.840175  25.997892  11.429766  11.063083   \n",
       "2  1993  28.338725  12.905315  21.791325  26.208325  11.535018  10.946457   \n",
       "3  1994  28.433883  13.142707  21.719133  26.062475  12.410985  12.163037   \n",
       "4  1995  28.622667  13.124963  22.018558  26.102058  11.239455  12.035941   \n",
       "\n",
       "         ANT        ARE        ARG    ...            VIR        VNM  \\\n",
       "0  27.915433  26.690975  14.416431    ...      26.368583  24.807658   \n",
       "1  28.269450  26.307933  14.058548    ...      26.160000  24.363550   \n",
       "2  28.467908  27.107833  14.470358    ...      26.467108  24.361275   \n",
       "3  28.431842  27.343833  15.006952    ...      26.370050  24.657142   \n",
       "4  28.711825  27.085592  14.381900    ...      26.246042  24.422883   \n",
       "\n",
       "         VUT        WLF        XRK        YEM        ZAF        ZAR  \\\n",
       "0  23.941775  26.934575   8.617143  23.605317  17.816392  24.110358   \n",
       "1  23.599058  26.905517   9.314657  23.155925  18.305525  24.069758   \n",
       "2  23.532000  26.680442   9.234964  23.522708  18.325867  23.846467   \n",
       "3  23.621733  26.818242  10.141751  23.729517  17.708558  24.098975   \n",
       "4  24.314617  27.102450   8.871357  23.706642  17.956675  24.466525   \n",
       "\n",
       "         ZMB        ZWE  \n",
       "0  21.753092  21.622192  \n",
       "1  22.247725  22.353075  \n",
       "2  21.890850  21.684967  \n",
       "3  22.316458  21.391908  \n",
       "4  22.668275  22.307683  \n",
       "\n",
       "[5 rows x 206 columns]"
      ]
     },
     "execution_count": 304,
     "metadata": {},
     "output_type": "execute_result"
    }
   ],
   "source": [
    "# Pivoting the df and taking the average of each year for each country\n",
    "temp = temp.pivot_table(index=['country_code', 'year'], values=['temperature'])\n",
    "temp = temp.pivot_table(index=['year'], columns='country_code', aggfunc='mean')\n",
    "\n",
    "# Returning the df to a flate file with proper column labels\n",
    "temp.columns = temp.columns.droplevel(1)\n",
    "temp.columns = countries\n",
    "temp = temp.reset_index()\n",
    "temp.head()\n"
   ]
  },
  {
   "cell_type": "code",
   "execution_count": 305,
   "metadata": {},
   "outputs": [
    {
     "name": "stdout",
     "output_type": "stream",
     "text": [
      "   year country_code  temperature\n",
      "0  1991          ABW    28.078008\n",
      "1  1992          ABW    28.108817\n",
      "2  1993          ABW    28.338725\n",
      "3  1994          ABW    28.433883\n",
      "4  1995          ABW    28.622667\n",
      "year            False\n",
      "country_code    False\n",
      "temperature     False\n",
      "dtype: bool\n"
     ]
    }
   ],
   "source": [
    "# Melting the df into a format consistent for merging\n",
    "temp = pd.melt(temp, id_vars='year', var_name='country_code', value_vars=countries, value_name='temperature')\n",
    "\n",
    "print(temp.head())\n",
    "print(temp.isnull().any())"
   ]
  },
  {
   "cell_type": "markdown",
   "metadata": {},
   "source": [
    "Given that we have 12 monthly values per country per year, for the purposes of this project we will be using the average for the entire year as a representative value for each country in each year. "
   ]
  },
  {
   "cell_type": "markdown",
   "metadata": {},
   "source": [
    "# Rain Fall"
   ]
  },
  {
   "cell_type": "code",
   "execution_count": 306,
   "metadata": {},
   "outputs": [
    {
     "data": {
      "text/plain": [
       "Index(['pr', '\\tYear', ' Month', ' Country'], dtype='object')"
      ]
     },
     "execution_count": 306,
     "metadata": {},
     "output_type": "execute_result"
    }
   ],
   "source": [
    "rain.columns"
   ]
  },
  {
   "cell_type": "code",
   "execution_count": 307,
   "metadata": {},
   "outputs": [
    {
     "data": {
      "text/plain": [
       "Index(['rainfall', 'year', 'month', 'country_code'], dtype='object')"
      ]
     },
     "execution_count": 307,
     "metadata": {},
     "output_type": "execute_result"
    }
   ],
   "source": [
    "# Altering column labels for preference, clarity, and ease of use\n",
    "rain = rain.rename(columns={'\\tYear' : 'year',\n",
    "                            ' Country' : 'country_code',\n",
    "                            'pr' : 'rainfall',\n",
    "                            ' Month' : 'month'})\n",
    "rain.columns"
   ]
  },
  {
   "cell_type": "code",
   "execution_count": 308,
   "metadata": {},
   "outputs": [
    {
     "data": {
      "text/html": [
       "<div>\n",
       "<style>\n",
       "    .dataframe thead tr:only-child th {\n",
       "        text-align: right;\n",
       "    }\n",
       "\n",
       "    .dataframe thead th {\n",
       "        text-align: left;\n",
       "    }\n",
       "\n",
       "    .dataframe tbody tr th {\n",
       "        vertical-align: top;\n",
       "    }\n",
       "</style>\n",
       "<table border=\"1\" class=\"dataframe\">\n",
       "  <thead>\n",
       "    <tr style=\"text-align: right;\">\n",
       "      <th></th>\n",
       "      <th>rainfall</th>\n",
       "      <th>year</th>\n",
       "      <th>month</th>\n",
       "      <th>country_code</th>\n",
       "    </tr>\n",
       "  </thead>\n",
       "  <tbody>\n",
       "    <tr>\n",
       "      <th>0</th>\n",
       "      <td>140.759</td>\n",
       "      <td>1991</td>\n",
       "      <td>1</td>\n",
       "      <td>GUY</td>\n",
       "    </tr>\n",
       "    <tr>\n",
       "      <th>1</th>\n",
       "      <td>89.155</td>\n",
       "      <td>1991</td>\n",
       "      <td>2</td>\n",
       "      <td>GUY</td>\n",
       "    </tr>\n",
       "    <tr>\n",
       "      <th>2</th>\n",
       "      <td>103.458</td>\n",
       "      <td>1991</td>\n",
       "      <td>3</td>\n",
       "      <td>GUY</td>\n",
       "    </tr>\n",
       "    <tr>\n",
       "      <th>3</th>\n",
       "      <td>214.610</td>\n",
       "      <td>1991</td>\n",
       "      <td>4</td>\n",
       "      <td>GUY</td>\n",
       "    </tr>\n",
       "    <tr>\n",
       "      <th>4</th>\n",
       "      <td>290.415</td>\n",
       "      <td>1991</td>\n",
       "      <td>5</td>\n",
       "      <td>GUY</td>\n",
       "    </tr>\n",
       "  </tbody>\n",
       "</table>\n",
       "</div>"
      ],
      "text/plain": [
       "   rainfall  year  month country_code\n",
       "0   140.759  1991      1          GUY\n",
       "1    89.155  1991      2          GUY\n",
       "2   103.458  1991      3          GUY\n",
       "3   214.610  1991      4          GUY\n",
       "4   290.415  1991      5          GUY"
      ]
     },
     "execution_count": 308,
     "metadata": {},
     "output_type": "execute_result"
    }
   ],
   "source": [
    "rain.head()"
   ]
  },
  {
   "cell_type": "code",
   "execution_count": 309,
   "metadata": {},
   "outputs": [],
   "source": [
    "# making a list for reference of the list of countries\n",
    "countries_rain = list(rain.country_code.unique())\n",
    "countries_rain = sorted(countries_rain, key=str.lower)\n"
   ]
  },
  {
   "cell_type": "code",
   "execution_count": 310,
   "metadata": {},
   "outputs": [
    {
     "data": {
      "text/html": [
       "<div>\n",
       "<style>\n",
       "    .dataframe thead tr:only-child th {\n",
       "        text-align: right;\n",
       "    }\n",
       "\n",
       "    .dataframe thead th {\n",
       "        text-align: left;\n",
       "    }\n",
       "\n",
       "    .dataframe tbody tr th {\n",
       "        vertical-align: top;\n",
       "    }\n",
       "</style>\n",
       "<table border=\"1\" class=\"dataframe\">\n",
       "  <thead>\n",
       "    <tr style=\"text-align: right;\">\n",
       "      <th></th>\n",
       "      <th>year</th>\n",
       "      <th>ABW</th>\n",
       "      <th>AFG</th>\n",
       "      <th>AGO</th>\n",
       "      <th>AIA</th>\n",
       "      <th>ALB</th>\n",
       "      <th>AND</th>\n",
       "      <th>ANT</th>\n",
       "      <th>ARE</th>\n",
       "      <th>ARG</th>\n",
       "      <th>...</th>\n",
       "      <th>URY</th>\n",
       "      <th>VCT</th>\n",
       "      <th>VEN</th>\n",
       "      <th>VGB</th>\n",
       "      <th>WLF</th>\n",
       "      <th>WSM</th>\n",
       "      <th>XRK</th>\n",
       "      <th>ZAF</th>\n",
       "      <th>ZAR</th>\n",
       "      <th>ZMB</th>\n",
       "    </tr>\n",
       "  </thead>\n",
       "  <tbody>\n",
       "    <tr>\n",
       "      <th>0</th>\n",
       "      <td>1991</td>\n",
       "      <td>38.882968</td>\n",
       "      <td>36.931453</td>\n",
       "      <td>83.844947</td>\n",
       "      <td>113.631158</td>\n",
       "      <td>77.587033</td>\n",
       "      <td>60.442683</td>\n",
       "      <td>37.261137</td>\n",
       "      <td>3.867748</td>\n",
       "      <td>52.792958</td>\n",
       "      <td>...</td>\n",
       "      <td>111.110208</td>\n",
       "      <td>133.745558</td>\n",
       "      <td>150.438333</td>\n",
       "      <td>148.781775</td>\n",
       "      <td>243.161533</td>\n",
       "      <td>269.285758</td>\n",
       "      <td>72.001375</td>\n",
       "      <td>42.275564</td>\n",
       "      <td>122.501517</td>\n",
       "      <td>78.122758</td>\n",
       "    </tr>\n",
       "    <tr>\n",
       "      <th>1</th>\n",
       "      <td>1992</td>\n",
       "      <td>59.535558</td>\n",
       "      <td>35.957586</td>\n",
       "      <td>69.766241</td>\n",
       "      <td>174.095667</td>\n",
       "      <td>60.177775</td>\n",
       "      <td>81.461092</td>\n",
       "      <td>50.122921</td>\n",
       "      <td>7.933857</td>\n",
       "      <td>57.743467</td>\n",
       "      <td>...</td>\n",
       "      <td>111.178483</td>\n",
       "      <td>152.318150</td>\n",
       "      <td>134.044842</td>\n",
       "      <td>212.770958</td>\n",
       "      <td>290.403592</td>\n",
       "      <td>262.198983</td>\n",
       "      <td>58.007983</td>\n",
       "      <td>26.031393</td>\n",
       "      <td>117.536158</td>\n",
       "      <td>64.052878</td>\n",
       "    </tr>\n",
       "    <tr>\n",
       "      <th>2</th>\n",
       "      <td>1993</td>\n",
       "      <td>54.342224</td>\n",
       "      <td>27.317930</td>\n",
       "      <td>78.478277</td>\n",
       "      <td>147.743400</td>\n",
       "      <td>69.831450</td>\n",
       "      <td>74.609362</td>\n",
       "      <td>43.936389</td>\n",
       "      <td>7.079808</td>\n",
       "      <td>48.069817</td>\n",
       "      <td>...</td>\n",
       "      <td>122.553950</td>\n",
       "      <td>136.706317</td>\n",
       "      <td>165.615983</td>\n",
       "      <td>176.928125</td>\n",
       "      <td>261.709817</td>\n",
       "      <td>251.340175</td>\n",
       "      <td>54.578075</td>\n",
       "      <td>36.613383</td>\n",
       "      <td>117.356483</td>\n",
       "      <td>80.510084</td>\n",
       "    </tr>\n",
       "    <tr>\n",
       "      <th>3</th>\n",
       "      <td>1994</td>\n",
       "      <td>51.798151</td>\n",
       "      <td>27.692009</td>\n",
       "      <td>75.161661</td>\n",
       "      <td>93.581167</td>\n",
       "      <td>78.459667</td>\n",
       "      <td>60.336258</td>\n",
       "      <td>39.731333</td>\n",
       "      <td>2.527002</td>\n",
       "      <td>47.478317</td>\n",
       "      <td>...</td>\n",
       "      <td>102.296300</td>\n",
       "      <td>120.790475</td>\n",
       "      <td>163.097133</td>\n",
       "      <td>143.529117</td>\n",
       "      <td>263.527167</td>\n",
       "      <td>293.251083</td>\n",
       "      <td>63.464975</td>\n",
       "      <td>31.954662</td>\n",
       "      <td>113.701350</td>\n",
       "      <td>63.264825</td>\n",
       "    </tr>\n",
       "    <tr>\n",
       "      <th>4</th>\n",
       "      <td>1995</td>\n",
       "      <td>85.146135</td>\n",
       "      <td>24.636797</td>\n",
       "      <td>72.846338</td>\n",
       "      <td>125.495650</td>\n",
       "      <td>86.977456</td>\n",
       "      <td>54.868692</td>\n",
       "      <td>68.794913</td>\n",
       "      <td>7.646379</td>\n",
       "      <td>39.620558</td>\n",
       "      <td>...</td>\n",
       "      <td>93.305450</td>\n",
       "      <td>151.076317</td>\n",
       "      <td>171.077800</td>\n",
       "      <td>166.422300</td>\n",
       "      <td>307.632583</td>\n",
       "      <td>266.506917</td>\n",
       "      <td>80.264498</td>\n",
       "      <td>41.877472</td>\n",
       "      <td>119.591717</td>\n",
       "      <td>64.154129</td>\n",
       "    </tr>\n",
       "  </tbody>\n",
       "</table>\n",
       "<p>5 rows × 218 columns</p>\n",
       "</div>"
      ],
      "text/plain": [
       "   year        ABW        AFG        AGO         AIA        ALB        AND  \\\n",
       "0  1991  38.882968  36.931453  83.844947  113.631158  77.587033  60.442683   \n",
       "1  1992  59.535558  35.957586  69.766241  174.095667  60.177775  81.461092   \n",
       "2  1993  54.342224  27.317930  78.478277  147.743400  69.831450  74.609362   \n",
       "3  1994  51.798151  27.692009  75.161661   93.581167  78.459667  60.336258   \n",
       "4  1995  85.146135  24.636797  72.846338  125.495650  86.977456  54.868692   \n",
       "\n",
       "         ANT       ARE        ARG    ...             URY         VCT  \\\n",
       "0  37.261137  3.867748  52.792958    ...      111.110208  133.745558   \n",
       "1  50.122921  7.933857  57.743467    ...      111.178483  152.318150   \n",
       "2  43.936389  7.079808  48.069817    ...      122.553950  136.706317   \n",
       "3  39.731333  2.527002  47.478317    ...      102.296300  120.790475   \n",
       "4  68.794913  7.646379  39.620558    ...       93.305450  151.076317   \n",
       "\n",
       "          VEN         VGB         WLF         WSM        XRK        ZAF  \\\n",
       "0  150.438333  148.781775  243.161533  269.285758  72.001375  42.275564   \n",
       "1  134.044842  212.770958  290.403592  262.198983  58.007983  26.031393   \n",
       "2  165.615983  176.928125  261.709817  251.340175  54.578075  36.613383   \n",
       "3  163.097133  143.529117  263.527167  293.251083  63.464975  31.954662   \n",
       "4  171.077800  166.422300  307.632583  266.506917  80.264498  41.877472   \n",
       "\n",
       "          ZAR        ZMB  \n",
       "0  122.501517  78.122758  \n",
       "1  117.536158  64.052878  \n",
       "2  117.356483  80.510084  \n",
       "3  113.701350  63.264825  \n",
       "4  119.591717  64.154129  \n",
       "\n",
       "[5 rows x 218 columns]"
      ]
     },
     "execution_count": 310,
     "metadata": {},
     "output_type": "execute_result"
    }
   ],
   "source": [
    "# Pivoting the df and taking the average of each year for each country\n",
    "rain = rain.pivot_table(index=['country_code', 'year'], values=['rainfall'])\n",
    "rain = rain.pivot_table(index=['year'], columns='country_code', aggfunc='mean')\n",
    "\n",
    "# Returning the df to a flate file with proper column labels\n",
    "rain.columns = rain.columns.droplevel(1)\n",
    "rain.columns = countries_rain\n",
    "rain = rain.reset_index()\n",
    "rain.head()"
   ]
  },
  {
   "cell_type": "code",
   "execution_count": 311,
   "metadata": {},
   "outputs": [
    {
     "name": "stdout",
     "output_type": "stream",
     "text": [
      "   year country_code   rainfall\n",
      "0  1991          ABW  38.882968\n",
      "1  1992          ABW  59.535558\n",
      "2  1993          ABW  54.342224\n",
      "3  1994          ABW  51.798151\n",
      "4  1995          ABW  85.146135\n",
      "year            False\n",
      "country_code    False\n",
      "rainfall        False\n",
      "dtype: bool\n"
     ]
    }
   ],
   "source": [
    "# Melting the df into a format consistent for merging\n",
    "rain = pd.melt(rain, id_vars='year', var_name='country_code', value_vars=countries_rain, value_name='rainfall')\n",
    "\n",
    "print(rain.head())\n",
    "print(rain.isnull().any())"
   ]
  },
  {
   "cell_type": "markdown",
   "metadata": {},
   "source": [
    "# Elevation"
   ]
  },
  {
   "cell_type": "markdown",
   "metadata": {},
   "source": [
    "May import for analysis if more factors are necessary."
   ]
  },
  {
   "cell_type": "markdown",
   "metadata": {},
   "source": [
    "# Merging all of the files together"
   ]
  },
  {
   "cell_type": "code",
   "execution_count": 312,
   "metadata": {
    "scrolled": true
   },
   "outputs": [
    {
     "name": "stdout",
     "output_type": "stream",
     "text": [
      "<class 'pandas.core.frame.DataFrame'>\n",
      "Int64Index: 5894 entries, 0 to 5893\n",
      "Data columns (total 9 columns):\n",
      "year               5894 non-null int64\n",
      "country_code       5890 non-null object\n",
      "reported_cases     1441 non-null float64\n",
      "reported_deaths    1476 non-null float64\n",
      "number_nets        167 non-null float64\n",
      "country_name       1675 non-null object\n",
      "population         1672 non-null float64\n",
      "temperature        5194 non-null float64\n",
      "rainfall           5474 non-null float64\n",
      "dtypes: float64(6), int64(1), object(2)\n",
      "memory usage: 460.5+ KB\n"
     ]
    }
   ],
   "source": [
    "merge = [cases, m_deaths, net_dist, pop, temp, rain]\n",
    "\n",
    "df_working = reduce(lambda  left,right: pd.merge(left,right,on=['country_code', 'year'], how='outer'), merge)\n",
    "pd.to_numeric(pop.year, errors='coerce')\n",
    "df_working.info()\n"
   ]
  },
  {
   "cell_type": "code",
   "execution_count": 313,
   "metadata": {
    "collapsed": true
   },
   "outputs": [],
   "source": [
    "# Restrivting data parameters due to missing fields, work in progress\n",
    "\n",
    "df_working = df_working[(df_working.year >= 2000) & (df_working.year <= 2014)]\n",
    "df_working = df_working[(df_working.reported_cases >= 0)]\n",
    "df_working = df_working[(df_working.reported_deaths >= 0)]\n",
    "\n"
   ]
  },
  {
   "cell_type": "markdown",
   "metadata": {},
   "source": [
    "## Data Exploration"
   ]
  },
  {
   "cell_type": "code",
   "execution_count": 314,
   "metadata": {},
   "outputs": [
    {
     "name": "stdout",
     "output_type": "stream",
     "text": [
      "Number of years:  15\n",
      "Years from:  2000 - 2014\n",
      "Number of countries:  107\n",
      "year               False\n",
      "country_code       False\n",
      "reported_cases     False\n",
      "reported_deaths    False\n",
      "number_nets         True\n",
      "country_name       False\n",
      "population          True\n",
      "temperature         True\n",
      "rainfall            True\n",
      "dtype: bool\n",
      "<class 'pandas.core.frame.DataFrame'>\n",
      "Int64Index: 1328 entries, 2 to 1440\n",
      "Data columns (total 9 columns):\n",
      "year               1328 non-null int64\n",
      "country_code       1328 non-null object\n",
      "reported_cases     1328 non-null float64\n",
      "reported_deaths    1328 non-null float64\n",
      "number_nets        107 non-null float64\n",
      "country_name       1328 non-null object\n",
      "population         1325 non-null float64\n",
      "temperature        1185 non-null float64\n",
      "rainfall           1204 non-null float64\n",
      "dtypes: float64(6), int64(1), object(2)\n",
      "memory usage: 103.8+ KB\n",
      "None\n"
     ]
    }
   ],
   "source": [
    "\n",
    "print('Number of years:', '', df_working['year'].nunique())\n",
    "print('Years from:', '', df_working['year'].min(), '-', df_working['year'].max())\n",
    "print('Number of countries:', '', df_working['country_code'].nunique())\n",
    "print(df_working.isnull().any())\n",
    "print(df_working.info())\n"
   ]
  },
  {
   "cell_type": "code",
   "execution_count": 315,
   "metadata": {},
   "outputs": [
    {
     "data": {
      "image/png": "[encoded data removed]",
      "text/plain": [
       "<matplotlib.figure.Figure at 0x22cea5fd908>"
      ]
     },
     "metadata": {},
     "output_type": "display_data"
    }
   ],
   "source": [
    "sns.set_context('poster')\n",
    "# Distribution of years\n",
    "sns.factorplot(x=\"year\", data=df_working, kind=\"count\",\n",
    "                   palette='mako', size=6, aspect=1.5)\n",
    "\n",
    "plt.title('Distribution of year values')\n",
    "plt.ylabel('Count')\n",
    "plt.xlabel('Years')\n",
    "plt.show()"
   ]
  },
  {
   "cell_type": "code",
   "execution_count": 316,
   "metadata": {},
   "outputs": [
    {
     "data": {
      "image/png": "[encoded data removed]",
      "text/plain": [
       "<matplotlib.figure.Figure at 0x22ce83e9160>"
      ]
     },
     "metadata": {},
     "output_type": "display_data"
    }
   ],
   "source": [
    "\n",
    "sns.distplot(df_working['reported_deaths'], bins=20)\n",
    "plt.title('Distribution of mortality values')\n",
    "\n",
    "plt.show()"
   ]
  },
  {
   "cell_type": "code",
   "execution_count": 317,
   "metadata": {},
   "outputs": [
    {
     "data": {
      "image/png": "[encoded data removed]",
      "text/plain": [
       "<matplotlib.figure.Figure at 0x22cea74e198>"
      ]
     },
     "metadata": {},
     "output_type": "display_data"
    }
   ],
   "source": [
    "sns.distplot(df_working['reported_cases'], bins=20)\n",
    "plt.title('Distribution of reporteed cases of malaria')\n",
    "\n",
    "plt.show()"
   ]
  },
  {
   "cell_type": "code",
   "execution_count": 318,
   "metadata": {},
   "outputs": [
    {
     "name": "stdout",
     "output_type": "stream",
     "text": [
      "Number of years:  9\n",
      "Years from:  2006 - 2014\n",
      "Number of countries:  31\n"
     ]
    },
    {
     "data": {
      "image/png": "[encoded data removed]",
      "text/plain": [
       "<matplotlib.figure.Figure at 0x22ce890fcc0>"
      ]
     },
     "metadata": {},
     "output_type": "display_data"
    }
   ],
   "source": [
    "\n",
    "print('Number of years:', '', df_working_nets['year'].nunique())\n",
    "print('Years from:', '', df_working_nets['year'].min(), '-', df_working_nets['year'].max())\n",
    "print('Number of countries:', '', df_working_nets['country_code'].nunique())\n",
    "sns.distplot(df_working_nets['number_nets'], bins=20)\n",
    "plt.title('Distribution of the number of nets given out')\n",
    "plt.show()"
   ]
  },
  {
   "cell_type": "code",
   "execution_count": 319,
   "metadata": {},
   "outputs": [
    {
     "name": "stdout",
     "output_type": "stream",
     "text": [
      "Number of years:  15\n",
      "Years from:  2000 - 2014\n",
      "Number of countries:  107\n"
     ]
    },
    {
     "data": {
      "image/png": "[encoded data removed]",
      "text/plain": [
       "<matplotlib.figure.Figure at 0x22ce854d828>"
      ]
     },
     "metadata": {},
     "output_type": "display_data"
    }
   ],
   "source": [
    "\n",
    "print('Number of years:', '', df_working_pop['year'].nunique())\n",
    "print('Years from:', '', df_working_pop['year'].min(), '-', df_working_pop['year'].max())\n",
    "print('Number of countries:', '', df_working_pop['country_code'].nunique())\n",
    "sns.distplot(df_working_pop['population'], bins=20)\n",
    "plt.title('Distribution of population values')\n",
    "plt.show()"
   ]
  },
  {
   "cell_type": "code",
   "execution_count": 320,
   "metadata": {},
   "outputs": [
    {
     "name": "stdout",
     "output_type": "stream",
     "text": [
      "Number of years:  15\n",
      "Years from:  2000 - 2014\n",
      "Number of countries:  95\n"
     ]
    },
    {
     "data": {
      "image/png": "[encoded data removed]",
      "text/plain": [
       "<matplotlib.figure.Figure at 0x22ce88fadd8>"
      ]
     },
     "metadata": {},
     "output_type": "display_data"
    }
   ],
   "source": [
    "\n",
    "print('Number of years:', '', df_working_temp['year'].nunique())\n",
    "print('Years from:', '', df_working_temp['year'].min(), '-', df_working_temp['year'].max())\n",
    "print('Number of countries:', '', df_working_temp['country_code'].nunique())\n",
    "sns.distplot(df_working_temp['temperature'], bins=20)\n",
    "plt.title('Distrivution of temperature values')\n",
    "\n",
    "plt.show()"
   ]
  },
  {
   "cell_type": "code",
   "execution_count": 321,
   "metadata": {
    "scrolled": true
   },
   "outputs": [
    {
     "data": {
      "image/png": "[encoded data removed]",
      "text/plain": [
       "<matplotlib.figure.Figure at 0x22cea3c85f8>"
      ]
     },
     "metadata": {},
     "output_type": "display_data"
    }
   ],
   "source": [
    "sns.lvplot(x='year', y='reported_deaths', data=df_working, palette='mako')\n",
    "plt.title('Reported deaths by year')\n",
    "plt.ylabel('Number of deaths')\n",
    "plt.xlabel('Year')\n",
    "plt.show() "
   ]
  },
  {
   "cell_type": "code",
   "execution_count": 322,
   "metadata": {
    "scrolled": true
   },
   "outputs": [
    {
     "data": {
      "image/png": "[encoded data removed]",
      "text/plain": [
       "<matplotlib.figure.Figure at 0x22cea491cf8>"
      ]
     },
     "metadata": {},
     "output_type": "display_data"
    }
   ],
   "source": [
    "sns.lvplot(x='year', y='reported_cases', data=df_working, palette='mako')\n",
    "plt.title('Reported cases per year')\n",
    "plt.ylabel('Number of cases')\n",
    "plt.xlabel('Year')\n",
    "plt.show()"
   ]
  },
  {
   "cell_type": "markdown",
   "metadata": {},
   "source": [
    "From the looks of these fancy plots we can pick out that deaths seem to have decreased from 2000 to 2014. On the other hand reported cases seem to have increased. For more information of the pathogenicity of malaria please see appendix 1. "
   ]
  },
  {
   "cell_type": "code",
   "execution_count": 323,
   "metadata": {},
   "outputs": [
    {
     "data": {
      "image/png": "[encoded data removed]",
      "text/plain": [
       "<matplotlib.figure.Figure at 0x22ce81a34e0>"
      ]
     },
     "metadata": {},
     "output_type": "display_data"
    }
   ],
   "source": [
    "sns.lvplot(x='year', y='temperature', data=df_working, palette='mako')\n",
    "plt.title('Change in temp over time')\n",
    "plt.ylabel('Temperature (c)')\n",
    "plt.xlabel('Year')\n",
    "plt.show()"
   ]
  },
  {
   "cell_type": "code",
   "execution_count": 324,
   "metadata": {},
   "outputs": [
    {
     "data": {
      "image/png": "[encoded data removed]",
      "text/plain": [
       "<matplotlib.figure.Figure at 0x22cec3dacf8>"
      ]
     },
     "metadata": {},
     "output_type": "display_data"
    }
   ],
   "source": [
    "sns.lvplot(x='country_code', y='population', data=df_working, palette='mako')\n",
    "plt.title('Population over time')\n",
    "plt.ylabel('Number of people')\n",
    "plt.xlabel('Year')\n",
    "plt.show()"
   ]
  },
  {
   "cell_type": "code",
   "execution_count": 325,
   "metadata": {},
   "outputs": [
    {
     "data": {
      "image/png": "[encoded data removed]",
      "text/plain": [
       "<matplotlib.figure.Figure at 0x22ce80552b0>"
      ]
     },
     "metadata": {},
     "output_type": "display_data"
    }
   ],
   "source": [
    "\n",
    "sns.lvplot(x='year', y='number_nets', data=df_working, palette='mako')\n",
    "plt.title('Net given out per year')\n",
    "plt.ylabel(\"Number of nets\")\n",
    "plt.xlabel('Year')\n",
    "plt.show()"
   ]
  }
 ],
 "metadata": {
  "kernelspec": {
   "display_name": "Python 3",
   "language": "python",
   "name": "python3"
  },
  "language_info": {
   "codemirror_mode": {
    "name": "ipython",
    "version": 3
   },
   "file_extension": ".py",
   "mimetype": "text/x-python",
   "name": "python",
   "nbconvert_exporter": "python",
   "pygments_lexer": "ipython3",
   "version": "3.6.2"
  }
 },
 "nbformat": 4,
 "nbformat_minor": 2
}
